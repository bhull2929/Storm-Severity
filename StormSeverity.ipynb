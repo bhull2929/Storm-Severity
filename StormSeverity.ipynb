{
 "cells": [
  {
   "cell_type": "markdown",
   "metadata": {},
   "source": [
    "# Author: Bradley Hull\n",
    "# Project: Finding the minimum number of hours needed to predict whether a storm is a hurricane or tropical storm on hour 78.\n",
    "| Models Used                   |\n",
    "|-------------------------------|\n",
    "| Naive Bayes                   |\n",
    "| Logistic Regression (tuned)   |\n",
    "| Decision Tree                 |\n",
    "| Decision Tree (ccp)           |\n",
    "| XGBoost (tuned)               |\n",
    "| Random Forest (tuned)         |\n"
   ]
  },
  {
   "cell_type": "markdown",
   "metadata": {},
   "source": [
    "# Data Preprocessing"
   ]
  },
  {
   "cell_type": "code",
   "execution_count": 92,
   "metadata": {},
   "outputs": [],
   "source": [
    "import pandas as pd\n",
    "import numpy as np\n",
    "from geopy import distance"
   ]
  },
  {
   "cell_type": "code",
   "execution_count": 93,
   "metadata": {},
   "outputs": [
    {
     "data": {
      "text/html": [
       "<div>\n",
       "<style scoped>\n",
       "    .dataframe tbody tr th:only-of-type {\n",
       "        vertical-align: middle;\n",
       "    }\n",
       "\n",
       "    .dataframe tbody tr th {\n",
       "        vertical-align: top;\n",
       "    }\n",
       "\n",
       "    .dataframe thead th {\n",
       "        text-align: right;\n",
       "    }\n",
       "</style>\n",
       "<table border=\"1\" class=\"dataframe\">\n",
       "  <thead>\n",
       "    <tr style=\"text-align: right;\">\n",
       "      <th></th>\n",
       "      <th>0</th>\n",
       "    </tr>\n",
       "  </thead>\n",
       "  <tbody>\n",
       "    <tr>\n",
       "      <th>0</th>\n",
       "      <td>AL011851,            UNNAMED,     14,</td>\n",
       "    </tr>\n",
       "    <tr>\n",
       "      <th>1</th>\n",
       "      <td>18510625, 0000,  , HU, 28.0N,  94.8W,  80, -99...</td>\n",
       "    </tr>\n",
       "    <tr>\n",
       "      <th>2</th>\n",
       "      <td>18510625, 0600,  , HU, 28.0N,  95.4W,  80, -99...</td>\n",
       "    </tr>\n",
       "    <tr>\n",
       "      <th>3</th>\n",
       "      <td>18510625, 1200,  , HU, 28.0N,  96.0W,  80, -99...</td>\n",
       "    </tr>\n",
       "    <tr>\n",
       "      <th>4</th>\n",
       "      <td>18510625, 1800,  , HU, 28.1N,  96.5W,  80, -99...</td>\n",
       "    </tr>\n",
       "  </tbody>\n",
       "</table>\n",
       "</div>"
      ],
      "text/plain": [
       "                                                   0\n",
       "0              AL011851,            UNNAMED,     14,\n",
       "1  18510625, 0000,  , HU, 28.0N,  94.8W,  80, -99...\n",
       "2  18510625, 0600,  , HU, 28.0N,  95.4W,  80, -99...\n",
       "3  18510625, 1200,  , HU, 28.0N,  96.0W,  80, -99...\n",
       "4  18510625, 1800,  , HU, 28.1N,  96.5W,  80, -99..."
      ]
     },
     "execution_count": 93,
     "metadata": {},
     "output_type": "execute_result"
    }
   ],
   "source": [
    "dataset = \"hurdat2-atl-02052024.txt\"\n",
    "initial_df = pd.read_csv(dataset, header=None, sep='|')\n",
    "initial_df.head()"
   ]
  },
  {
   "cell_type": "code",
   "execution_count": 94,
   "metadata": {},
   "outputs": [],
   "source": [
    "storms = {}\n",
    "header = None\n",
    "for line in initial_df[0]:\n",
    "    tokens = line.split(',')\n",
    "    if len(tokens) == 4:\n",
    "        header = line\n",
    "        storms[header] = []\n",
    "    elif len(tokens) == 21:\n",
    "        row = [token.strip() for token in tokens]\n",
    "        storms[header].append(row)"
   ]
  },
  {
   "cell_type": "code",
   "execution_count": 95,
   "metadata": {},
   "outputs": [],
   "source": [
    "frames = []\n",
    "\n",
    "for storm_id, storm in enumerate(storms):\n",
    "    code, name, entries, blank = [record.strip() for record in storm.split(',')]\n",
    "    if int(entries) <= 12:\n",
    "        continue\n",
    "    basic_columns = {\n",
    "        'BASIN': code[:2],\n",
    "        'ATCF_CY_NUMBER': code[2:4],\n",
    "        'YEAR': code[4:9],\n",
    "        'NAME': name,\n",
    "        'NUM_BEST_TRACK_ENTRIES': entries,\n",
    "        'ID': storm_id\n",
    "    }\n",
    "    dataset = pd.DataFrame(storms[storm], columns = [\n",
    "                                                'DATE',\n",
    "                                                'TIME_UTC',\n",
    "                                                'POINT_TYPE',\n",
    "                                                'STATUS',\n",
    "                                                'LATITUDE',\n",
    "                                                'LONGITUDE',\n",
    "                                                'MAX_WINDSPEED_KT',\n",
    "                                                'MIN_PRESURE_MB',\n",
    "                                                'NE_34KT',\n",
    "                                                'SE_34KT',\n",
    "                                                'NW_34_KT',\n",
    "                                                'SW_34_KT',\n",
    "                                                'NE_50KT',\n",
    "                                                'SE_50KT',\n",
    "                                                'NW_50_KT',\n",
    "                                                'SW_50_KT',\n",
    "                                                'NE_64KT',\n",
    "                                                'SE_64KT',\n",
    "                                                'NW_64_KT',\n",
    "                                                'SW_64_KT',\n",
    "                                                'RADIUS'\n",
    "                                                    ])\n",
    "    \n",
    "    for column in basic_columns:\n",
    "        dataset[column] = basic_columns[column]\n",
    "    frames.append(dataset)\n",
    "\n",
    "final_df = pd.concat(frames)"
   ]
  },
  {
   "cell_type": "code",
   "execution_count": 96,
   "metadata": {},
   "outputs": [
    {
     "data": {
      "text/html": [
       "<div>\n",
       "<style scoped>\n",
       "    .dataframe tbody tr th:only-of-type {\n",
       "        vertical-align: middle;\n",
       "    }\n",
       "\n",
       "    .dataframe tbody tr th {\n",
       "        vertical-align: top;\n",
       "    }\n",
       "\n",
       "    .dataframe thead th {\n",
       "        text-align: right;\n",
       "    }\n",
       "</style>\n",
       "<table border=\"1\" class=\"dataframe\">\n",
       "  <thead>\n",
       "    <tr style=\"text-align: right;\">\n",
       "      <th></th>\n",
       "      <th>DATE</th>\n",
       "      <th>TIME_UTC</th>\n",
       "      <th>POINT_TYPE</th>\n",
       "      <th>STATUS</th>\n",
       "      <th>LATITUDE</th>\n",
       "      <th>LONGITUDE</th>\n",
       "      <th>MAX_WINDSPEED_KT</th>\n",
       "      <th>MIN_PRESURE_MB</th>\n",
       "      <th>NE_34KT</th>\n",
       "      <th>SE_34KT</th>\n",
       "      <th>...</th>\n",
       "      <th>SE_64KT</th>\n",
       "      <th>NW_64_KT</th>\n",
       "      <th>SW_64_KT</th>\n",
       "      <th>RADIUS</th>\n",
       "      <th>BASIN</th>\n",
       "      <th>ATCF_CY_NUMBER</th>\n",
       "      <th>YEAR</th>\n",
       "      <th>NAME</th>\n",
       "      <th>NUM_BEST_TRACK_ENTRIES</th>\n",
       "      <th>ID</th>\n",
       "    </tr>\n",
       "  </thead>\n",
       "  <tbody>\n",
       "    <tr>\n",
       "      <th>0</th>\n",
       "      <td>18510625</td>\n",
       "      <td>0000</td>\n",
       "      <td></td>\n",
       "      <td>HU</td>\n",
       "      <td>28.0</td>\n",
       "      <td>-94.8</td>\n",
       "      <td>80</td>\n",
       "      <td>-999</td>\n",
       "      <td>-999</td>\n",
       "      <td>-999</td>\n",
       "      <td>...</td>\n",
       "      <td>-999</td>\n",
       "      <td>-999</td>\n",
       "      <td>-999</td>\n",
       "      <td>-999</td>\n",
       "      <td>AL</td>\n",
       "      <td>01</td>\n",
       "      <td>1851</td>\n",
       "      <td>UNNAMED</td>\n",
       "      <td>14</td>\n",
       "      <td>0</td>\n",
       "    </tr>\n",
       "    <tr>\n",
       "      <th>1</th>\n",
       "      <td>18510625</td>\n",
       "      <td>0600</td>\n",
       "      <td></td>\n",
       "      <td>HU</td>\n",
       "      <td>28.0</td>\n",
       "      <td>-95.4</td>\n",
       "      <td>80</td>\n",
       "      <td>-999</td>\n",
       "      <td>-999</td>\n",
       "      <td>-999</td>\n",
       "      <td>...</td>\n",
       "      <td>-999</td>\n",
       "      <td>-999</td>\n",
       "      <td>-999</td>\n",
       "      <td>-999</td>\n",
       "      <td>AL</td>\n",
       "      <td>01</td>\n",
       "      <td>1851</td>\n",
       "      <td>UNNAMED</td>\n",
       "      <td>14</td>\n",
       "      <td>0</td>\n",
       "    </tr>\n",
       "    <tr>\n",
       "      <th>2</th>\n",
       "      <td>18510625</td>\n",
       "      <td>1200</td>\n",
       "      <td></td>\n",
       "      <td>HU</td>\n",
       "      <td>28.0</td>\n",
       "      <td>-96.0</td>\n",
       "      <td>80</td>\n",
       "      <td>-999</td>\n",
       "      <td>-999</td>\n",
       "      <td>-999</td>\n",
       "      <td>...</td>\n",
       "      <td>-999</td>\n",
       "      <td>-999</td>\n",
       "      <td>-999</td>\n",
       "      <td>-999</td>\n",
       "      <td>AL</td>\n",
       "      <td>01</td>\n",
       "      <td>1851</td>\n",
       "      <td>UNNAMED</td>\n",
       "      <td>14</td>\n",
       "      <td>0</td>\n",
       "    </tr>\n",
       "    <tr>\n",
       "      <th>3</th>\n",
       "      <td>18510625</td>\n",
       "      <td>1800</td>\n",
       "      <td></td>\n",
       "      <td>HU</td>\n",
       "      <td>28.1</td>\n",
       "      <td>-96.5</td>\n",
       "      <td>80</td>\n",
       "      <td>-999</td>\n",
       "      <td>-999</td>\n",
       "      <td>-999</td>\n",
       "      <td>...</td>\n",
       "      <td>-999</td>\n",
       "      <td>-999</td>\n",
       "      <td>-999</td>\n",
       "      <td>-999</td>\n",
       "      <td>AL</td>\n",
       "      <td>01</td>\n",
       "      <td>1851</td>\n",
       "      <td>UNNAMED</td>\n",
       "      <td>14</td>\n",
       "      <td>0</td>\n",
       "    </tr>\n",
       "    <tr>\n",
       "      <th>4</th>\n",
       "      <td>18510625</td>\n",
       "      <td>2100</td>\n",
       "      <td>L</td>\n",
       "      <td>HU</td>\n",
       "      <td>28.2</td>\n",
       "      <td>-96.8</td>\n",
       "      <td>80</td>\n",
       "      <td>-999</td>\n",
       "      <td>-999</td>\n",
       "      <td>-999</td>\n",
       "      <td>...</td>\n",
       "      <td>-999</td>\n",
       "      <td>-999</td>\n",
       "      <td>-999</td>\n",
       "      <td>-999</td>\n",
       "      <td>AL</td>\n",
       "      <td>01</td>\n",
       "      <td>1851</td>\n",
       "      <td>UNNAMED</td>\n",
       "      <td>14</td>\n",
       "      <td>0</td>\n",
       "    </tr>\n",
       "  </tbody>\n",
       "</table>\n",
       "<p>5 rows × 27 columns</p>\n",
       "</div>"
      ],
      "text/plain": [
       "       DATE TIME_UTC POINT_TYPE STATUS  LATITUDE  LONGITUDE MAX_WINDSPEED_KT  \\\n",
       "0  18510625     0000                HU      28.0      -94.8               80   \n",
       "1  18510625     0600                HU      28.0      -95.4               80   \n",
       "2  18510625     1200                HU      28.0      -96.0               80   \n",
       "3  18510625     1800                HU      28.1      -96.5               80   \n",
       "4  18510625     2100          L     HU      28.2      -96.8               80   \n",
       "\n",
       "  MIN_PRESURE_MB NE_34KT SE_34KT  ... SE_64KT NW_64_KT SW_64_KT RADIUS BASIN  \\\n",
       "0           -999    -999    -999  ...    -999     -999     -999   -999    AL   \n",
       "1           -999    -999    -999  ...    -999     -999     -999   -999    AL   \n",
       "2           -999    -999    -999  ...    -999     -999     -999   -999    AL   \n",
       "3           -999    -999    -999  ...    -999     -999     -999   -999    AL   \n",
       "4           -999    -999    -999  ...    -999     -999     -999   -999    AL   \n",
       "\n",
       "  ATCF_CY_NUMBER  YEAR     NAME NUM_BEST_TRACK_ENTRIES ID  \n",
       "0             01  1851  UNNAMED                     14  0  \n",
       "1             01  1851  UNNAMED                     14  0  \n",
       "2             01  1851  UNNAMED                     14  0  \n",
       "3             01  1851  UNNAMED                     14  0  \n",
       "4             01  1851  UNNAMED                     14  0  \n",
       "\n",
       "[5 rows x 27 columns]"
      ]
     },
     "execution_count": 96,
     "metadata": {},
     "output_type": "execute_result"
    }
   ],
   "source": [
    "def convertHemisphericLat(latitude):\n",
    "    latval = 0\n",
    "    if ('N' in latitude):\n",
    "        latitude = latitude.strip('N')\n",
    "        latval = float(latitude)\n",
    "    elif ('S' in latitude):\n",
    "        latitude = latitude.strip('S')\n",
    "        latitude = float(latitude)\n",
    "        latval = -latitude\n",
    "    return latval\n",
    "\n",
    "def convertHemisphericLong(longitude):\n",
    "    longval = 0\n",
    "    if ('E' in longitude):\n",
    "        longitude = longitude.strip('E')\n",
    "        longval = float(longitude)\n",
    "    elif ('W' in longitude):\n",
    "        longitude = longitude.strip('W')\n",
    "        longitude = float(longitude)\n",
    "        longval = -longitude\n",
    "    return longval\n",
    "\n",
    "final_df['LATITUDE'] = final_df['LATITUDE'].apply(lambda lat: convertHemisphericLat(lat))\n",
    "final_df['LONGITUDE'] = final_df['LONGITUDE'].apply(lambda long: convertHemisphericLong(long))\n",
    "final_df.head()"
   ]
  },
  {
   "cell_type": "markdown",
   "metadata": {},
   "source": [
    "## these columns had too much missing data"
   ]
  },
  {
   "cell_type": "code",
   "execution_count": 97,
   "metadata": {},
   "outputs": [],
   "source": [
    "final_df = final_df.drop(columns=['POINT_TYPE', 'BASIN'])"
   ]
  },
  {
   "cell_type": "code",
   "execution_count": 98,
   "metadata": {},
   "outputs": [],
   "source": [
    "final_df['DATE'] = final_df['DATE'].astype(int)\n",
    "final_df['TIME_UTC'] = final_df['TIME_UTC'].astype(int)\n",
    "final_df['MAX_WINDSPEED_KT'] = final_df['MAX_WINDSPEED_KT'].astype(int)\n",
    "final_df['MIN_PRESURE_MB'] = final_df['MIN_PRESURE_MB'].astype(int)\n",
    "final_df['NUM_BEST_TRACK_ENTRIES'] = final_df['NUM_BEST_TRACK_ENTRIES'].astype(int)\n",
    "final_df['NE_34KT'] = final_df['NE_34KT'].astype(int)\n",
    "final_df['SE_34KT'] = final_df['SE_34KT'].astype(int)\n",
    "final_df['NW_34_KT'] = final_df['NW_34_KT'].astype(int)\n",
    "final_df['SW_34_KT'] = final_df['SW_34_KT'].astype(int)\n",
    "final_df['NE_50KT'] = final_df['NE_50KT'].astype(int)\n",
    "final_df['SE_50KT'] = final_df['SE_50KT'].astype(int)\n",
    "final_df['NW_50_KT'] = final_df['NW_50_KT'].astype(int)\n",
    "final_df['SW_50_KT'] = final_df['SW_50_KT'].astype(int)\n",
    "final_df['NE_64KT'] = final_df['NE_64KT'].astype(int)\n",
    "final_df['SE_64KT'] = final_df['SE_64KT'].astype(int)\n",
    "final_df['NW_64_KT'] = final_df['NW_64_KT'].astype(int)\n",
    "final_df['SW_64_KT'] = final_df['SW_64_KT'].astype(int)\n",
    "final_df['RADIUS'] = final_df['RADIUS'].astype(int)\n",
    "final_df['YEAR'] = final_df['YEAR'].astype(int)\n",
    "final_df['ATCF_CY_NUMBER'] = final_df['ATCF_CY_NUMBER'].astype(int)\n"
   ]
  },
  {
   "cell_type": "code",
   "execution_count": 99,
   "metadata": {},
   "outputs": [
    {
     "data": {
      "text/plain": [
       "DATE                        int32\n",
       "TIME_UTC                    int32\n",
       "STATUS                     object\n",
       "LATITUDE                  float64\n",
       "LONGITUDE                 float64\n",
       "MAX_WINDSPEED_KT            int32\n",
       "MIN_PRESURE_MB              int32\n",
       "NE_34KT                     int32\n",
       "SE_34KT                     int32\n",
       "NW_34_KT                    int32\n",
       "SW_34_KT                    int32\n",
       "NE_50KT                     int32\n",
       "SE_50KT                     int32\n",
       "NW_50_KT                    int32\n",
       "SW_50_KT                    int32\n",
       "NE_64KT                     int32\n",
       "SE_64KT                     int32\n",
       "NW_64_KT                    int32\n",
       "SW_64_KT                    int32\n",
       "RADIUS                      int32\n",
       "ATCF_CY_NUMBER              int32\n",
       "YEAR                        int32\n",
       "NAME                       object\n",
       "NUM_BEST_TRACK_ENTRIES      int32\n",
       "ID                          int64\n",
       "dtype: object"
      ]
     },
     "execution_count": 99,
     "metadata": {},
     "output_type": "execute_result"
    }
   ],
   "source": [
    "final_df.dtypes"
   ]
  },
  {
   "cell_type": "code",
   "execution_count": 100,
   "metadata": {},
   "outputs": [
    {
     "data": {
      "text/plain": [
       "STATUS\n",
       "TS    18781\n",
       "HU    15053\n",
       "TD     8437\n",
       "EX     5926\n",
       "LO     1462\n",
       "SS      635\n",
       "SD      292\n",
       "DB      250\n",
       "WV      138\n",
       "Name: count, dtype: int64"
      ]
     },
     "execution_count": 100,
     "metadata": {},
     "output_type": "execute_result"
    }
   ],
   "source": [
    "final_df['STATUS'].value_counts()\n",
    "\n"
   ]
  },
  {
   "cell_type": "code",
   "execution_count": 101,
   "metadata": {},
   "outputs": [
    {
     "data": {
      "text/plain": [
       "NUM_BEST_TRACK_ENTRIES\n",
       "39    1560\n",
       "22    1408\n",
       "21    1281\n",
       "20    1260\n",
       "33    1254\n",
       "      ... \n",
       "87      87\n",
       "85      85\n",
       "84      84\n",
       "78      78\n",
       "76      76\n",
       "Name: count, Length: 81, dtype: int64"
      ]
     },
     "execution_count": 101,
     "metadata": {},
     "output_type": "execute_result"
    }
   ],
   "source": [
    "final_df['NUM_BEST_TRACK_ENTRIES'].value_counts()"
   ]
  },
  {
   "cell_type": "code",
   "execution_count": 102,
   "metadata": {},
   "outputs": [
    {
     "data": {
      "text/plain": [
       "0     1\n",
       "1     1\n",
       "2     1\n",
       "3     1\n",
       "4     1\n",
       "     ..\n",
       "21    0\n",
       "22    0\n",
       "23    2\n",
       "24    2\n",
       "25    4\n",
       "Name: STATUS, Length: 50974, dtype: int64"
      ]
     },
     "execution_count": 102,
     "metadata": {},
     "output_type": "execute_result"
    }
   ],
   "source": [
    "status_map = {\n",
    "    'TS': 0,\n",
    "    'HU': 1,\n",
    "    'TD': 2,\n",
    "    'EX': 3,\n",
    "    'LO': 4,\n",
    "    'SS': 5,\n",
    "    'SD': 6,\n",
    "    'DB': 7,\n",
    "    'WV': 8\n",
    "}\n",
    "\n",
    "# converting the status col to numerical values\n",
    "final_df['STATUS'] = final_df['STATUS'].map(status_map)\n",
    "final_df['STATUS']"
   ]
  },
  {
   "cell_type": "code",
   "execution_count": 103,
   "metadata": {},
   "outputs": [],
   "source": [
    "# unneeded cols\n",
    "final_df = final_df.drop(columns=['NAME', 'DATE', 'ATCF_CY_NUMBER'])"
   ]
  },
  {
   "cell_type": "markdown",
   "metadata": {},
   "source": [
    "## Years < 1975 don't have pressure readings"
   ]
  },
  {
   "cell_type": "code",
   "execution_count": 104,
   "metadata": {},
   "outputs": [
    {
     "data": {
      "text/html": [
       "<div>\n",
       "<style scoped>\n",
       "    .dataframe tbody tr th:only-of-type {\n",
       "        vertical-align: middle;\n",
       "    }\n",
       "\n",
       "    .dataframe tbody tr th {\n",
       "        vertical-align: top;\n",
       "    }\n",
       "\n",
       "    .dataframe thead th {\n",
       "        text-align: right;\n",
       "    }\n",
       "</style>\n",
       "<table border=\"1\" class=\"dataframe\">\n",
       "  <thead>\n",
       "    <tr style=\"text-align: right;\">\n",
       "      <th></th>\n",
       "      <th>TIME_UTC</th>\n",
       "      <th>STATUS</th>\n",
       "      <th>LATITUDE</th>\n",
       "      <th>LONGITUDE</th>\n",
       "      <th>MAX_WINDSPEED_KT</th>\n",
       "      <th>MIN_PRESURE_MB</th>\n",
       "      <th>NE_34KT</th>\n",
       "      <th>SE_34KT</th>\n",
       "      <th>NW_34_KT</th>\n",
       "      <th>SW_34_KT</th>\n",
       "      <th>...</th>\n",
       "      <th>NW_50_KT</th>\n",
       "      <th>SW_50_KT</th>\n",
       "      <th>NE_64KT</th>\n",
       "      <th>SE_64KT</th>\n",
       "      <th>NW_64_KT</th>\n",
       "      <th>SW_64_KT</th>\n",
       "      <th>RADIUS</th>\n",
       "      <th>YEAR</th>\n",
       "      <th>NUM_BEST_TRACK_ENTRIES</th>\n",
       "      <th>ID</th>\n",
       "    </tr>\n",
       "  </thead>\n",
       "  <tbody>\n",
       "    <tr>\n",
       "      <th>0</th>\n",
       "      <td>1200</td>\n",
       "      <td>6</td>\n",
       "      <td>24.0</td>\n",
       "      <td>-89.0</td>\n",
       "      <td>20</td>\n",
       "      <td>1010</td>\n",
       "      <td>-999</td>\n",
       "      <td>-999</td>\n",
       "      <td>-999</td>\n",
       "      <td>-999</td>\n",
       "      <td>...</td>\n",
       "      <td>-999</td>\n",
       "      <td>-999</td>\n",
       "      <td>-999</td>\n",
       "      <td>-999</td>\n",
       "      <td>-999</td>\n",
       "      <td>-999</td>\n",
       "      <td>-999</td>\n",
       "      <td>1976</td>\n",
       "      <td>18</td>\n",
       "      <td>1186</td>\n",
       "    </tr>\n",
       "    <tr>\n",
       "      <th>1</th>\n",
       "      <td>1800</td>\n",
       "      <td>6</td>\n",
       "      <td>24.8</td>\n",
       "      <td>-89.6</td>\n",
       "      <td>20</td>\n",
       "      <td>1009</td>\n",
       "      <td>-999</td>\n",
       "      <td>-999</td>\n",
       "      <td>-999</td>\n",
       "      <td>-999</td>\n",
       "      <td>...</td>\n",
       "      <td>-999</td>\n",
       "      <td>-999</td>\n",
       "      <td>-999</td>\n",
       "      <td>-999</td>\n",
       "      <td>-999</td>\n",
       "      <td>-999</td>\n",
       "      <td>-999</td>\n",
       "      <td>1976</td>\n",
       "      <td>18</td>\n",
       "      <td>1186</td>\n",
       "    </tr>\n",
       "    <tr>\n",
       "      <th>2</th>\n",
       "      <td>0</td>\n",
       "      <td>6</td>\n",
       "      <td>25.4</td>\n",
       "      <td>-90.0</td>\n",
       "      <td>25</td>\n",
       "      <td>1006</td>\n",
       "      <td>-999</td>\n",
       "      <td>-999</td>\n",
       "      <td>-999</td>\n",
       "      <td>-999</td>\n",
       "      <td>...</td>\n",
       "      <td>-999</td>\n",
       "      <td>-999</td>\n",
       "      <td>-999</td>\n",
       "      <td>-999</td>\n",
       "      <td>-999</td>\n",
       "      <td>-999</td>\n",
       "      <td>-999</td>\n",
       "      <td>1976</td>\n",
       "      <td>18</td>\n",
       "      <td>1186</td>\n",
       "    </tr>\n",
       "    <tr>\n",
       "      <th>3</th>\n",
       "      <td>600</td>\n",
       "      <td>6</td>\n",
       "      <td>26.0</td>\n",
       "      <td>-90.5</td>\n",
       "      <td>25</td>\n",
       "      <td>1005</td>\n",
       "      <td>-999</td>\n",
       "      <td>-999</td>\n",
       "      <td>-999</td>\n",
       "      <td>-999</td>\n",
       "      <td>...</td>\n",
       "      <td>-999</td>\n",
       "      <td>-999</td>\n",
       "      <td>-999</td>\n",
       "      <td>-999</td>\n",
       "      <td>-999</td>\n",
       "      <td>-999</td>\n",
       "      <td>-999</td>\n",
       "      <td>1976</td>\n",
       "      <td>18</td>\n",
       "      <td>1186</td>\n",
       "    </tr>\n",
       "    <tr>\n",
       "      <th>4</th>\n",
       "      <td>1200</td>\n",
       "      <td>6</td>\n",
       "      <td>27.0</td>\n",
       "      <td>-90.8</td>\n",
       "      <td>30</td>\n",
       "      <td>1004</td>\n",
       "      <td>-999</td>\n",
       "      <td>-999</td>\n",
       "      <td>-999</td>\n",
       "      <td>-999</td>\n",
       "      <td>...</td>\n",
       "      <td>-999</td>\n",
       "      <td>-999</td>\n",
       "      <td>-999</td>\n",
       "      <td>-999</td>\n",
       "      <td>-999</td>\n",
       "      <td>-999</td>\n",
       "      <td>-999</td>\n",
       "      <td>1976</td>\n",
       "      <td>18</td>\n",
       "      <td>1186</td>\n",
       "    </tr>\n",
       "    <tr>\n",
       "      <th>...</th>\n",
       "      <td>...</td>\n",
       "      <td>...</td>\n",
       "      <td>...</td>\n",
       "      <td>...</td>\n",
       "      <td>...</td>\n",
       "      <td>...</td>\n",
       "      <td>...</td>\n",
       "      <td>...</td>\n",
       "      <td>...</td>\n",
       "      <td>...</td>\n",
       "      <td>...</td>\n",
       "      <td>...</td>\n",
       "      <td>...</td>\n",
       "      <td>...</td>\n",
       "      <td>...</td>\n",
       "      <td>...</td>\n",
       "      <td>...</td>\n",
       "      <td>...</td>\n",
       "      <td>...</td>\n",
       "      <td>...</td>\n",
       "      <td>...</td>\n",
       "    </tr>\n",
       "    <tr>\n",
       "      <th>21</th>\n",
       "      <td>1900</td>\n",
       "      <td>0</td>\n",
       "      <td>29.2</td>\n",
       "      <td>-83.0</td>\n",
       "      <td>40</td>\n",
       "      <td>989</td>\n",
       "      <td>200</td>\n",
       "      <td>60</td>\n",
       "      <td>100</td>\n",
       "      <td>130</td>\n",
       "      <td>...</td>\n",
       "      <td>0</td>\n",
       "      <td>0</td>\n",
       "      <td>0</td>\n",
       "      <td>0</td>\n",
       "      <td>0</td>\n",
       "      <td>0</td>\n",
       "      <td>70</td>\n",
       "      <td>2022</td>\n",
       "      <td>26</td>\n",
       "      <td>1951</td>\n",
       "    </tr>\n",
       "    <tr>\n",
       "      <th>22</th>\n",
       "      <td>0</td>\n",
       "      <td>0</td>\n",
       "      <td>30.1</td>\n",
       "      <td>-84.0</td>\n",
       "      <td>35</td>\n",
       "      <td>992</td>\n",
       "      <td>200</td>\n",
       "      <td>60</td>\n",
       "      <td>100</td>\n",
       "      <td>100</td>\n",
       "      <td>...</td>\n",
       "      <td>0</td>\n",
       "      <td>0</td>\n",
       "      <td>0</td>\n",
       "      <td>0</td>\n",
       "      <td>0</td>\n",
       "      <td>0</td>\n",
       "      <td>70</td>\n",
       "      <td>2022</td>\n",
       "      <td>26</td>\n",
       "      <td>1951</td>\n",
       "    </tr>\n",
       "    <tr>\n",
       "      <th>23</th>\n",
       "      <td>600</td>\n",
       "      <td>2</td>\n",
       "      <td>31.2</td>\n",
       "      <td>-84.6</td>\n",
       "      <td>30</td>\n",
       "      <td>996</td>\n",
       "      <td>0</td>\n",
       "      <td>0</td>\n",
       "      <td>0</td>\n",
       "      <td>0</td>\n",
       "      <td>...</td>\n",
       "      <td>0</td>\n",
       "      <td>0</td>\n",
       "      <td>0</td>\n",
       "      <td>0</td>\n",
       "      <td>0</td>\n",
       "      <td>0</td>\n",
       "      <td>90</td>\n",
       "      <td>2022</td>\n",
       "      <td>26</td>\n",
       "      <td>1951</td>\n",
       "    </tr>\n",
       "    <tr>\n",
       "      <th>24</th>\n",
       "      <td>1200</td>\n",
       "      <td>2</td>\n",
       "      <td>33.2</td>\n",
       "      <td>-84.6</td>\n",
       "      <td>25</td>\n",
       "      <td>999</td>\n",
       "      <td>0</td>\n",
       "      <td>0</td>\n",
       "      <td>0</td>\n",
       "      <td>0</td>\n",
       "      <td>...</td>\n",
       "      <td>0</td>\n",
       "      <td>0</td>\n",
       "      <td>0</td>\n",
       "      <td>0</td>\n",
       "      <td>0</td>\n",
       "      <td>0</td>\n",
       "      <td>250</td>\n",
       "      <td>2022</td>\n",
       "      <td>26</td>\n",
       "      <td>1951</td>\n",
       "    </tr>\n",
       "    <tr>\n",
       "      <th>25</th>\n",
       "      <td>1800</td>\n",
       "      <td>4</td>\n",
       "      <td>35.4</td>\n",
       "      <td>-83.8</td>\n",
       "      <td>25</td>\n",
       "      <td>1000</td>\n",
       "      <td>0</td>\n",
       "      <td>0</td>\n",
       "      <td>0</td>\n",
       "      <td>0</td>\n",
       "      <td>...</td>\n",
       "      <td>0</td>\n",
       "      <td>0</td>\n",
       "      <td>0</td>\n",
       "      <td>0</td>\n",
       "      <td>0</td>\n",
       "      <td>0</td>\n",
       "      <td>400</td>\n",
       "      <td>2022</td>\n",
       "      <td>26</td>\n",
       "      <td>1951</td>\n",
       "    </tr>\n",
       "  </tbody>\n",
       "</table>\n",
       "<p>19930 rows × 22 columns</p>\n",
       "</div>"
      ],
      "text/plain": [
       "    TIME_UTC  STATUS  LATITUDE  LONGITUDE  MAX_WINDSPEED_KT  MIN_PRESURE_MB  \\\n",
       "0       1200       6      24.0      -89.0                20            1010   \n",
       "1       1800       6      24.8      -89.6                20            1009   \n",
       "2          0       6      25.4      -90.0                25            1006   \n",
       "3        600       6      26.0      -90.5                25            1005   \n",
       "4       1200       6      27.0      -90.8                30            1004   \n",
       "..       ...     ...       ...        ...               ...             ...   \n",
       "21      1900       0      29.2      -83.0                40             989   \n",
       "22         0       0      30.1      -84.0                35             992   \n",
       "23       600       2      31.2      -84.6                30             996   \n",
       "24      1200       2      33.2      -84.6                25             999   \n",
       "25      1800       4      35.4      -83.8                25            1000   \n",
       "\n",
       "    NE_34KT  SE_34KT  NW_34_KT  SW_34_KT  ...  NW_50_KT  SW_50_KT  NE_64KT  \\\n",
       "0      -999     -999      -999      -999  ...      -999      -999     -999   \n",
       "1      -999     -999      -999      -999  ...      -999      -999     -999   \n",
       "2      -999     -999      -999      -999  ...      -999      -999     -999   \n",
       "3      -999     -999      -999      -999  ...      -999      -999     -999   \n",
       "4      -999     -999      -999      -999  ...      -999      -999     -999   \n",
       "..      ...      ...       ...       ...  ...       ...       ...      ...   \n",
       "21      200       60       100       130  ...         0         0        0   \n",
       "22      200       60       100       100  ...         0         0        0   \n",
       "23        0        0         0         0  ...         0         0        0   \n",
       "24        0        0         0         0  ...         0         0        0   \n",
       "25        0        0         0         0  ...         0         0        0   \n",
       "\n",
       "    SE_64KT  NW_64_KT  SW_64_KT  RADIUS  YEAR  NUM_BEST_TRACK_ENTRIES    ID  \n",
       "0      -999      -999      -999    -999  1976                      18  1186  \n",
       "1      -999      -999      -999    -999  1976                      18  1186  \n",
       "2      -999      -999      -999    -999  1976                      18  1186  \n",
       "3      -999      -999      -999    -999  1976                      18  1186  \n",
       "4      -999      -999      -999    -999  1976                      18  1186  \n",
       "..      ...       ...       ...     ...   ...                     ...   ...  \n",
       "21        0         0         0      70  2022                      26  1951  \n",
       "22        0         0         0      70  2022                      26  1951  \n",
       "23        0         0         0      90  2022                      26  1951  \n",
       "24        0         0         0     250  2022                      26  1951  \n",
       "25        0         0         0     400  2022                      26  1951  \n",
       "\n",
       "[19930 rows x 22 columns]"
      ]
     },
     "execution_count": 104,
     "metadata": {},
     "output_type": "execute_result"
    }
   ],
   "source": [
    "final_df = final_df[final_df['YEAR'] > 1975]\n",
    "final_df"
   ]
  },
  {
   "cell_type": "markdown",
   "metadata": {},
   "source": [
    "## Next I used the Ocean API from https://ocean.amentum.io to get water depth and salinity, as well as adding a distance moved column"
   ]
  },
  {
   "cell_type": "code",
   "execution_count": 105,
   "metadata": {},
   "outputs": [],
   "source": [
    "import requests"
   ]
  },
  {
   "cell_type": "code",
   "execution_count": 106,
   "metadata": {},
   "outputs": [],
   "source": [
    "def get_depth(frame, elevations):\n",
    "    params = {\n",
    "        \"latitude\": frame[0],\n",
    "        \"longitude\": frame[1]\n",
    "        }\n",
    "\n",
    "    response = requests.get(url, headers=headers, params=params)\n",
    "    json_payload = response.json()\n",
    "\n",
    "    elevations.append(json_payload['elevation']['value'])\n",
    "    return elevations\n",
    "\n",
    "def get_salinity(frame, salinities):\n",
    "    url = \"https://ocean.amentum.io/rtofs\"\n",
    "\n",
    "    headers = {\"API-Key\": \"ZnBtvf8iYgBEojmbFifs9xKRKD1BOVNE\"}\n",
    "\n",
    "    params = {\n",
    "    \"latitude\": frame[0],\n",
    "    \"longitude\": frame[1],\n",
    "    \"depth\": 0\n",
    "    }\n",
    "\n",
    "    # handle exceptions\n",
    "    response = requests.get(url, headers=headers, params=params)\n",
    "    json_payload = response.json()\n",
    "    \n",
    "    salinities.append(json_payload['salinity']['value'])\n",
    "    return salinities"
   ]
  },
  {
   "cell_type": "code",
   "execution_count": 107,
   "metadata": {},
   "outputs": [
    {
     "name": "stdout",
     "output_type": "stream",
     "text": [
      "[36.46647262573242]\n"
     ]
    }
   ],
   "source": [
    "sal = get_salinity([24,-89], [])\n",
    "print(sal)"
   ]
  },
  {
   "cell_type": "markdown",
   "metadata": {},
   "source": [
    "## Since I want to see what the minimum time needed to predict the 78th hour reading, I split the data into chunks of 3 readings per row (6 hrs separate each reading), and get \"chunks\" of readings.\n",
    "\n",
    "## Also this is where I get the water depth, salinity, and the distance between readings 0->1, and 1->2"
   ]
  },
  {
   "cell_type": "code",
   "execution_count": 108,
   "metadata": {},
   "outputs": [
    {
     "name": "stdout",
     "output_type": "stream",
     "text": [
      "0\n"
     ]
    },
    {
     "ename": "KeyboardInterrupt",
     "evalue": "",
     "output_type": "error",
     "traceback": [
      "\u001b[1;31m---------------------------------------------------------------------------\u001b[0m",
      "\u001b[1;31mKeyboardInterrupt\u001b[0m                         Traceback (most recent call last)",
      "Cell \u001b[1;32mIn[108], line 34\u001b[0m\n\u001b[0;32m     32\u001b[0m coords_z \u001b[39m=\u001b[39m (chunk_3[\u001b[39m'\u001b[39m\u001b[39mLATITUDE\u001b[39m\u001b[39m'\u001b[39m], chunk_3[\u001b[39m'\u001b[39m\u001b[39mLONGITUDE\u001b[39m\u001b[39m'\u001b[39m])\n\u001b[0;32m     33\u001b[0m elevations \u001b[39m=\u001b[39m get_depth(coords_x, elevations)\n\u001b[1;32m---> 34\u001b[0m salinities \u001b[39m=\u001b[39m get_salinity(coords_x, salinities)\n\u001b[0;32m     36\u001b[0m \u001b[39mif\u001b[39;00m i \u001b[39m%\u001b[39m \u001b[39m1000\u001b[39m \u001b[39m==\u001b[39m \u001b[39m0\u001b[39m:\n\u001b[0;32m     37\u001b[0m     \u001b[39mprint\u001b[39m(i)\n",
      "Cell \u001b[1;32mIn[106], line 25\u001b[0m, in \u001b[0;36mget_salinity\u001b[1;34m(frame, salinities)\u001b[0m\n\u001b[0;32m     18\u001b[0m params \u001b[39m=\u001b[39m {\n\u001b[0;32m     19\u001b[0m \u001b[39m\"\u001b[39m\u001b[39mlatitude\u001b[39m\u001b[39m\"\u001b[39m: frame[\u001b[39m0\u001b[39m],\n\u001b[0;32m     20\u001b[0m \u001b[39m\"\u001b[39m\u001b[39mlongitude\u001b[39m\u001b[39m\"\u001b[39m: frame[\u001b[39m1\u001b[39m],\n\u001b[0;32m     21\u001b[0m \u001b[39m\"\u001b[39m\u001b[39mdepth\u001b[39m\u001b[39m\"\u001b[39m: \u001b[39m0\u001b[39m\n\u001b[0;32m     22\u001b[0m }\n\u001b[0;32m     24\u001b[0m \u001b[39m# handle exceptions\u001b[39;00m\n\u001b[1;32m---> 25\u001b[0m response \u001b[39m=\u001b[39m requests\u001b[39m.\u001b[39;49mget(url, headers\u001b[39m=\u001b[39;49mheaders, params\u001b[39m=\u001b[39;49mparams)\n\u001b[0;32m     26\u001b[0m json_payload \u001b[39m=\u001b[39m response\u001b[39m.\u001b[39mjson()\n\u001b[0;32m     28\u001b[0m salinities\u001b[39m.\u001b[39mappend(json_payload[\u001b[39m'\u001b[39m\u001b[39msalinity\u001b[39m\u001b[39m'\u001b[39m][\u001b[39m'\u001b[39m\u001b[39mvalue\u001b[39m\u001b[39m'\u001b[39m])\n",
      "File \u001b[1;32mc:\\Users\\Ryan\\AppData\\Local\\Programs\\Python\\Python310\\lib\\site-packages\\requests\\api.py:73\u001b[0m, in \u001b[0;36mget\u001b[1;34m(url, params, **kwargs)\u001b[0m\n\u001b[0;32m     62\u001b[0m \u001b[39mdef\u001b[39;00m \u001b[39mget\u001b[39m(url, params\u001b[39m=\u001b[39m\u001b[39mNone\u001b[39;00m, \u001b[39m*\u001b[39m\u001b[39m*\u001b[39mkwargs):\n\u001b[0;32m     63\u001b[0m \u001b[39m    \u001b[39m\u001b[39mr\u001b[39m\u001b[39m\"\"\"Sends a GET request.\u001b[39;00m\n\u001b[0;32m     64\u001b[0m \n\u001b[0;32m     65\u001b[0m \u001b[39m    :param url: URL for the new :class:`Request` object.\u001b[39;00m\n\u001b[1;32m   (...)\u001b[0m\n\u001b[0;32m     70\u001b[0m \u001b[39m    :rtype: requests.Response\u001b[39;00m\n\u001b[0;32m     71\u001b[0m \u001b[39m    \"\"\"\u001b[39;00m\n\u001b[1;32m---> 73\u001b[0m     \u001b[39mreturn\u001b[39;00m request(\u001b[39m\"\u001b[39m\u001b[39mget\u001b[39m\u001b[39m\"\u001b[39m, url, params\u001b[39m=\u001b[39mparams, \u001b[39m*\u001b[39m\u001b[39m*\u001b[39mkwargs)\n",
      "File \u001b[1;32mc:\\Users\\Ryan\\AppData\\Local\\Programs\\Python\\Python310\\lib\\site-packages\\requests\\api.py:59\u001b[0m, in \u001b[0;36mrequest\u001b[1;34m(method, url, **kwargs)\u001b[0m\n\u001b[0;32m     55\u001b[0m \u001b[39m# By using the 'with' statement we are sure the session is closed, thus we\u001b[39;00m\n\u001b[0;32m     56\u001b[0m \u001b[39m# avoid leaving sockets open which can trigger a ResourceWarning in some\u001b[39;00m\n\u001b[0;32m     57\u001b[0m \u001b[39m# cases, and look like a memory leak in others.\u001b[39;00m\n\u001b[0;32m     58\u001b[0m \u001b[39mwith\u001b[39;00m sessions\u001b[39m.\u001b[39mSession() \u001b[39mas\u001b[39;00m session:\n\u001b[1;32m---> 59\u001b[0m     \u001b[39mreturn\u001b[39;00m session\u001b[39m.\u001b[39mrequest(method\u001b[39m=\u001b[39mmethod, url\u001b[39m=\u001b[39murl, \u001b[39m*\u001b[39m\u001b[39m*\u001b[39mkwargs)\n",
      "File \u001b[1;32mc:\\Users\\Ryan\\AppData\\Local\\Programs\\Python\\Python310\\lib\\site-packages\\requests\\sessions.py:589\u001b[0m, in \u001b[0;36mSession.request\u001b[1;34m(self, method, url, params, data, headers, cookies, files, auth, timeout, allow_redirects, proxies, hooks, stream, verify, cert, json)\u001b[0m\n\u001b[0;32m    584\u001b[0m send_kwargs \u001b[39m=\u001b[39m {\n\u001b[0;32m    585\u001b[0m     \u001b[39m\"\u001b[39m\u001b[39mtimeout\u001b[39m\u001b[39m\"\u001b[39m: timeout,\n\u001b[0;32m    586\u001b[0m     \u001b[39m\"\u001b[39m\u001b[39mallow_redirects\u001b[39m\u001b[39m\"\u001b[39m: allow_redirects,\n\u001b[0;32m    587\u001b[0m }\n\u001b[0;32m    588\u001b[0m send_kwargs\u001b[39m.\u001b[39mupdate(settings)\n\u001b[1;32m--> 589\u001b[0m resp \u001b[39m=\u001b[39m \u001b[39mself\u001b[39m\u001b[39m.\u001b[39msend(prep, \u001b[39m*\u001b[39m\u001b[39m*\u001b[39msend_kwargs)\n\u001b[0;32m    591\u001b[0m \u001b[39mreturn\u001b[39;00m resp\n",
      "File \u001b[1;32mc:\\Users\\Ryan\\AppData\\Local\\Programs\\Python\\Python310\\lib\\site-packages\\requests\\sessions.py:703\u001b[0m, in \u001b[0;36mSession.send\u001b[1;34m(self, request, **kwargs)\u001b[0m\n\u001b[0;32m    700\u001b[0m start \u001b[39m=\u001b[39m preferred_clock()\n\u001b[0;32m    702\u001b[0m \u001b[39m# Send the request\u001b[39;00m\n\u001b[1;32m--> 703\u001b[0m r \u001b[39m=\u001b[39m adapter\u001b[39m.\u001b[39msend(request, \u001b[39m*\u001b[39m\u001b[39m*\u001b[39mkwargs)\n\u001b[0;32m    705\u001b[0m \u001b[39m# Total elapsed time of the request (approximately)\u001b[39;00m\n\u001b[0;32m    706\u001b[0m elapsed \u001b[39m=\u001b[39m preferred_clock() \u001b[39m-\u001b[39m start\n",
      "File \u001b[1;32mc:\\Users\\Ryan\\AppData\\Local\\Programs\\Python\\Python310\\lib\\site-packages\\requests\\adapters.py:486\u001b[0m, in \u001b[0;36mHTTPAdapter.send\u001b[1;34m(self, request, stream, timeout, verify, cert, proxies)\u001b[0m\n\u001b[0;32m    483\u001b[0m     timeout \u001b[39m=\u001b[39m TimeoutSauce(connect\u001b[39m=\u001b[39mtimeout, read\u001b[39m=\u001b[39mtimeout)\n\u001b[0;32m    485\u001b[0m \u001b[39mtry\u001b[39;00m:\n\u001b[1;32m--> 486\u001b[0m     resp \u001b[39m=\u001b[39m conn\u001b[39m.\u001b[39;49murlopen(\n\u001b[0;32m    487\u001b[0m         method\u001b[39m=\u001b[39;49mrequest\u001b[39m.\u001b[39;49mmethod,\n\u001b[0;32m    488\u001b[0m         url\u001b[39m=\u001b[39;49murl,\n\u001b[0;32m    489\u001b[0m         body\u001b[39m=\u001b[39;49mrequest\u001b[39m.\u001b[39;49mbody,\n\u001b[0;32m    490\u001b[0m         headers\u001b[39m=\u001b[39;49mrequest\u001b[39m.\u001b[39;49mheaders,\n\u001b[0;32m    491\u001b[0m         redirect\u001b[39m=\u001b[39;49m\u001b[39mFalse\u001b[39;49;00m,\n\u001b[0;32m    492\u001b[0m         assert_same_host\u001b[39m=\u001b[39;49m\u001b[39mFalse\u001b[39;49;00m,\n\u001b[0;32m    493\u001b[0m         preload_content\u001b[39m=\u001b[39;49m\u001b[39mFalse\u001b[39;49;00m,\n\u001b[0;32m    494\u001b[0m         decode_content\u001b[39m=\u001b[39;49m\u001b[39mFalse\u001b[39;49;00m,\n\u001b[0;32m    495\u001b[0m         retries\u001b[39m=\u001b[39;49m\u001b[39mself\u001b[39;49m\u001b[39m.\u001b[39;49mmax_retries,\n\u001b[0;32m    496\u001b[0m         timeout\u001b[39m=\u001b[39;49mtimeout,\n\u001b[0;32m    497\u001b[0m         chunked\u001b[39m=\u001b[39;49mchunked,\n\u001b[0;32m    498\u001b[0m     )\n\u001b[0;32m    500\u001b[0m \u001b[39mexcept\u001b[39;00m (ProtocolError, \u001b[39mOSError\u001b[39;00m) \u001b[39mas\u001b[39;00m err:\n\u001b[0;32m    501\u001b[0m     \u001b[39mraise\u001b[39;00m \u001b[39mConnectionError\u001b[39;00m(err, request\u001b[39m=\u001b[39mrequest)\n",
      "File \u001b[1;32mc:\\Users\\Ryan\\AppData\\Local\\Programs\\Python\\Python310\\lib\\site-packages\\urllib3\\connectionpool.py:793\u001b[0m, in \u001b[0;36mHTTPConnectionPool.urlopen\u001b[1;34m(self, method, url, body, headers, retries, redirect, assert_same_host, timeout, pool_timeout, release_conn, chunked, body_pos, preload_content, decode_content, **response_kw)\u001b[0m\n\u001b[0;32m    790\u001b[0m response_conn \u001b[39m=\u001b[39m conn \u001b[39mif\u001b[39;00m \u001b[39mnot\u001b[39;00m release_conn \u001b[39melse\u001b[39;00m \u001b[39mNone\u001b[39;00m\n\u001b[0;32m    792\u001b[0m \u001b[39m# Make the request on the HTTPConnection object\u001b[39;00m\n\u001b[1;32m--> 793\u001b[0m response \u001b[39m=\u001b[39m \u001b[39mself\u001b[39m\u001b[39m.\u001b[39m_make_request(\n\u001b[0;32m    794\u001b[0m     conn,\n\u001b[0;32m    795\u001b[0m     method,\n\u001b[0;32m    796\u001b[0m     url,\n\u001b[0;32m    797\u001b[0m     timeout\u001b[39m=\u001b[39mtimeout_obj,\n\u001b[0;32m    798\u001b[0m     body\u001b[39m=\u001b[39mbody,\n\u001b[0;32m    799\u001b[0m     headers\u001b[39m=\u001b[39mheaders,\n\u001b[0;32m    800\u001b[0m     chunked\u001b[39m=\u001b[39mchunked,\n\u001b[0;32m    801\u001b[0m     retries\u001b[39m=\u001b[39mretries,\n\u001b[0;32m    802\u001b[0m     response_conn\u001b[39m=\u001b[39mresponse_conn,\n\u001b[0;32m    803\u001b[0m     preload_content\u001b[39m=\u001b[39mpreload_content,\n\u001b[0;32m    804\u001b[0m     decode_content\u001b[39m=\u001b[39mdecode_content,\n\u001b[0;32m    805\u001b[0m     \u001b[39m*\u001b[39m\u001b[39m*\u001b[39mresponse_kw,\n\u001b[0;32m    806\u001b[0m )\n\u001b[0;32m    808\u001b[0m \u001b[39m# Everything went great!\u001b[39;00m\n\u001b[0;32m    809\u001b[0m clean_exit \u001b[39m=\u001b[39m \u001b[39mTrue\u001b[39;00m\n",
      "File \u001b[1;32mc:\\Users\\Ryan\\AppData\\Local\\Programs\\Python\\Python310\\lib\\site-packages\\urllib3\\connectionpool.py:537\u001b[0m, in \u001b[0;36mHTTPConnectionPool._make_request\u001b[1;34m(self, conn, method, url, body, headers, retries, timeout, chunked, response_conn, preload_content, decode_content, enforce_content_length)\u001b[0m\n\u001b[0;32m    535\u001b[0m \u001b[39m# Receive the response from the server\u001b[39;00m\n\u001b[0;32m    536\u001b[0m \u001b[39mtry\u001b[39;00m:\n\u001b[1;32m--> 537\u001b[0m     response \u001b[39m=\u001b[39m conn\u001b[39m.\u001b[39;49mgetresponse()\n\u001b[0;32m    538\u001b[0m \u001b[39mexcept\u001b[39;00m (BaseSSLError, \u001b[39mOSError\u001b[39;00m) \u001b[39mas\u001b[39;00m e:\n\u001b[0;32m    539\u001b[0m     \u001b[39mself\u001b[39m\u001b[39m.\u001b[39m_raise_timeout(err\u001b[39m=\u001b[39me, url\u001b[39m=\u001b[39murl, timeout_value\u001b[39m=\u001b[39mread_timeout)\n",
      "File \u001b[1;32mc:\\Users\\Ryan\\AppData\\Local\\Programs\\Python\\Python310\\lib\\site-packages\\urllib3\\connection.py:466\u001b[0m, in \u001b[0;36mHTTPConnection.getresponse\u001b[1;34m(self)\u001b[0m\n\u001b[0;32m    463\u001b[0m \u001b[39mfrom\u001b[39;00m \u001b[39m.\u001b[39;00m\u001b[39mresponse\u001b[39;00m \u001b[39mimport\u001b[39;00m HTTPResponse\n\u001b[0;32m    465\u001b[0m \u001b[39m# Get the response from http.client.HTTPConnection\u001b[39;00m\n\u001b[1;32m--> 466\u001b[0m httplib_response \u001b[39m=\u001b[39m \u001b[39msuper\u001b[39;49m()\u001b[39m.\u001b[39;49mgetresponse()\n\u001b[0;32m    468\u001b[0m \u001b[39mtry\u001b[39;00m:\n\u001b[0;32m    469\u001b[0m     assert_header_parsing(httplib_response\u001b[39m.\u001b[39mmsg)\n",
      "File \u001b[1;32mc:\\Users\\Ryan\\AppData\\Local\\Programs\\Python\\Python310\\lib\\http\\client.py:1374\u001b[0m, in \u001b[0;36mHTTPConnection.getresponse\u001b[1;34m(self)\u001b[0m\n\u001b[0;32m   1372\u001b[0m \u001b[39mtry\u001b[39;00m:\n\u001b[0;32m   1373\u001b[0m     \u001b[39mtry\u001b[39;00m:\n\u001b[1;32m-> 1374\u001b[0m         response\u001b[39m.\u001b[39;49mbegin()\n\u001b[0;32m   1375\u001b[0m     \u001b[39mexcept\u001b[39;00m \u001b[39mConnectionError\u001b[39;00m:\n\u001b[0;32m   1376\u001b[0m         \u001b[39mself\u001b[39m\u001b[39m.\u001b[39mclose()\n",
      "File \u001b[1;32mc:\\Users\\Ryan\\AppData\\Local\\Programs\\Python\\Python310\\lib\\http\\client.py:318\u001b[0m, in \u001b[0;36mHTTPResponse.begin\u001b[1;34m(self)\u001b[0m\n\u001b[0;32m    316\u001b[0m \u001b[39m# read until we get a non-100 response\u001b[39;00m\n\u001b[0;32m    317\u001b[0m \u001b[39mwhile\u001b[39;00m \u001b[39mTrue\u001b[39;00m:\n\u001b[1;32m--> 318\u001b[0m     version, status, reason \u001b[39m=\u001b[39m \u001b[39mself\u001b[39;49m\u001b[39m.\u001b[39;49m_read_status()\n\u001b[0;32m    319\u001b[0m     \u001b[39mif\u001b[39;00m status \u001b[39m!=\u001b[39m CONTINUE:\n\u001b[0;32m    320\u001b[0m         \u001b[39mbreak\u001b[39;00m\n",
      "File \u001b[1;32mc:\\Users\\Ryan\\AppData\\Local\\Programs\\Python\\Python310\\lib\\http\\client.py:279\u001b[0m, in \u001b[0;36mHTTPResponse._read_status\u001b[1;34m(self)\u001b[0m\n\u001b[0;32m    278\u001b[0m \u001b[39mdef\u001b[39;00m \u001b[39m_read_status\u001b[39m(\u001b[39mself\u001b[39m):\n\u001b[1;32m--> 279\u001b[0m     line \u001b[39m=\u001b[39m \u001b[39mstr\u001b[39m(\u001b[39mself\u001b[39;49m\u001b[39m.\u001b[39;49mfp\u001b[39m.\u001b[39;49mreadline(_MAXLINE \u001b[39m+\u001b[39;49m \u001b[39m1\u001b[39;49m), \u001b[39m\"\u001b[39m\u001b[39miso-8859-1\u001b[39m\u001b[39m\"\u001b[39m)\n\u001b[0;32m    280\u001b[0m     \u001b[39mif\u001b[39;00m \u001b[39mlen\u001b[39m(line) \u001b[39m>\u001b[39m _MAXLINE:\n\u001b[0;32m    281\u001b[0m         \u001b[39mraise\u001b[39;00m LineTooLong(\u001b[39m\"\u001b[39m\u001b[39mstatus line\u001b[39m\u001b[39m\"\u001b[39m)\n",
      "File \u001b[1;32mc:\\Users\\Ryan\\AppData\\Local\\Programs\\Python\\Python310\\lib\\socket.py:705\u001b[0m, in \u001b[0;36mSocketIO.readinto\u001b[1;34m(self, b)\u001b[0m\n\u001b[0;32m    703\u001b[0m \u001b[39mwhile\u001b[39;00m \u001b[39mTrue\u001b[39;00m:\n\u001b[0;32m    704\u001b[0m     \u001b[39mtry\u001b[39;00m:\n\u001b[1;32m--> 705\u001b[0m         \u001b[39mreturn\u001b[39;00m \u001b[39mself\u001b[39;49m\u001b[39m.\u001b[39;49m_sock\u001b[39m.\u001b[39;49mrecv_into(b)\n\u001b[0;32m    706\u001b[0m     \u001b[39mexcept\u001b[39;00m timeout:\n\u001b[0;32m    707\u001b[0m         \u001b[39mself\u001b[39m\u001b[39m.\u001b[39m_timeout_occurred \u001b[39m=\u001b[39m \u001b[39mTrue\u001b[39;00m\n",
      "File \u001b[1;32mc:\\Users\\Ryan\\AppData\\Local\\Programs\\Python\\Python310\\lib\\ssl.py:1274\u001b[0m, in \u001b[0;36mSSLSocket.recv_into\u001b[1;34m(self, buffer, nbytes, flags)\u001b[0m\n\u001b[0;32m   1270\u001b[0m     \u001b[39mif\u001b[39;00m flags \u001b[39m!=\u001b[39m \u001b[39m0\u001b[39m:\n\u001b[0;32m   1271\u001b[0m         \u001b[39mraise\u001b[39;00m \u001b[39mValueError\u001b[39;00m(\n\u001b[0;32m   1272\u001b[0m           \u001b[39m\"\u001b[39m\u001b[39mnon-zero flags not allowed in calls to recv_into() on \u001b[39m\u001b[39m%s\u001b[39;00m\u001b[39m\"\u001b[39m \u001b[39m%\u001b[39m\n\u001b[0;32m   1273\u001b[0m           \u001b[39mself\u001b[39m\u001b[39m.\u001b[39m\u001b[39m__class__\u001b[39m)\n\u001b[1;32m-> 1274\u001b[0m     \u001b[39mreturn\u001b[39;00m \u001b[39mself\u001b[39;49m\u001b[39m.\u001b[39;49mread(nbytes, buffer)\n\u001b[0;32m   1275\u001b[0m \u001b[39melse\u001b[39;00m:\n\u001b[0;32m   1276\u001b[0m     \u001b[39mreturn\u001b[39;00m \u001b[39msuper\u001b[39m()\u001b[39m.\u001b[39mrecv_into(buffer, nbytes, flags)\n",
      "File \u001b[1;32mc:\\Users\\Ryan\\AppData\\Local\\Programs\\Python\\Python310\\lib\\ssl.py:1130\u001b[0m, in \u001b[0;36mSSLSocket.read\u001b[1;34m(self, len, buffer)\u001b[0m\n\u001b[0;32m   1128\u001b[0m \u001b[39mtry\u001b[39;00m:\n\u001b[0;32m   1129\u001b[0m     \u001b[39mif\u001b[39;00m buffer \u001b[39mis\u001b[39;00m \u001b[39mnot\u001b[39;00m \u001b[39mNone\u001b[39;00m:\n\u001b[1;32m-> 1130\u001b[0m         \u001b[39mreturn\u001b[39;00m \u001b[39mself\u001b[39;49m\u001b[39m.\u001b[39;49m_sslobj\u001b[39m.\u001b[39;49mread(\u001b[39mlen\u001b[39;49m, buffer)\n\u001b[0;32m   1131\u001b[0m     \u001b[39melse\u001b[39;00m:\n\u001b[0;32m   1132\u001b[0m         \u001b[39mreturn\u001b[39;00m \u001b[39mself\u001b[39m\u001b[39m.\u001b[39m_sslobj\u001b[39m.\u001b[39mread(\u001b[39mlen\u001b[39m)\n",
      "\u001b[1;31mKeyboardInterrupt\u001b[0m: "
     ]
    }
   ],
   "source": [
    "frames = []\n",
    "curr_id = -1\n",
    "storm_chunk_count = 0\n",
    "elevations = []\n",
    "salinities = []\n",
    "url = \"https://ocean.amentum.io/gebco\"\n",
    "headers = {\"API-Key\": 'ZnBtvf8iYgBEojmbFifs9xKRKD1BOVNE'}\n",
    "\n",
    "for i in range(0, len(final_df), 3):\n",
    "    if i + 2 >= len(final_df):\n",
    "        break\n",
    "    chunk = final_df.iloc[i:i+3]\n",
    "    \n",
    "    # make sure there are 3 rows in the chunk\n",
    "    if len(chunk) < 3:\n",
    "        continue\n",
    "    \n",
    "    chunk_1, chunk_2, chunk_3 = [chunk.iloc[j] for j in range(3)]\n",
    "    # keeping track of new rows added for each storm\n",
    "    if curr_id == chunk_1['ID']:\n",
    "        if storm_chunk_count > 3:\n",
    "            continue\n",
    "        storm_chunk_count += 1\n",
    "    else:\n",
    "        storm_chunk_count = 0\n",
    "    \n",
    "    curr_id = chunk_1['ID']\n",
    "    if chunk_1['ID'] != chunk_2['ID'] or chunk_2['ID'] != chunk_3['ID']:\n",
    "        continue\n",
    "    \n",
    "    coords_x = (chunk_1['LATITUDE'], chunk_1['LONGITUDE'])\n",
    "    coords_y = (chunk_2['LATITUDE'], chunk_2['LONGITUDE'])\n",
    "    coords_z = (chunk_3['LATITUDE'], chunk_3['LONGITUDE'])\n",
    "    elevations = get_depth(coords_x, elevations)\n",
    "    salinities = get_salinity(coords_x, salinities)\n",
    "\n",
    "    if i % 1000 == 0:\n",
    "        print(i)\n",
    "    dist1 = distance.distance(coords_x, coords_y).kilometers\n",
    "    dist2 = distance.distance(coords_y, coords_z).kilometers\n",
    "    \n",
    "    # combine all readings into a single list (row)\n",
    "    combined_row = [chunk_1['ID']]\n",
    "    for chunk in [chunk_1, chunk_2, chunk_3]:\n",
    "        combined_row.extend([chunk['MAX_WINDSPEED_KT'], chunk['MIN_PRESURE_MB']])\n",
    "    \n",
    "    # add distances at the end of the row\n",
    "    combined_row.extend([dist1, dist2])\n",
    "    \n",
    "    # append the combined row to the frames list\n",
    "    frames.append(combined_row)\n",
    "\n",
    "# Define the column names for the combined DataFrame\n",
    "column_names = ['ID'] + [f'{val}_{i}' for i in range(3) for val in ['MAX_WINDSPEED_KT', 'MIN_PRESURE_MB']] + ['DISTANCE_1', 'DISTANCE_2']\n",
    "\n",
    "# Create the combined DataFrame\n",
    "chunked_df = pd.DataFrame(frames, columns=column_names)"
   ]
  },
  {
   "cell_type": "code",
   "execution_count": 18,
   "metadata": {},
   "outputs": [
    {
     "data": {
      "text/plain": [
       "5137"
      ]
     },
     "execution_count": 18,
     "metadata": {},
     "output_type": "execute_result"
    }
   ],
   "source": [
    "len(elevations) "
   ]
  },
  {
   "cell_type": "code",
   "execution_count": 22,
   "metadata": {},
   "outputs": [],
   "source": [
    "# creating elevation and salinity columns gotten from the API\n",
    "chunked_df['ELEVATION'] = elevations\n",
    "chunked_df['SALINITY'] = salinities\n",
    "chunked_df.dropna(inplace=True)"
   ]
  },
  {
   "cell_type": "markdown",
   "metadata": {},
   "source": [
    "## I get the status for each storm at their 78th hour reading and add them to the chunked dataset"
   ]
  },
  {
   "cell_type": "code",
   "execution_count": 118,
   "metadata": {},
   "outputs": [
    {
     "name": "stdout",
     "output_type": "stream",
     "text": [
      "559\n"
     ]
    }
   ],
   "source": [
    "final_status = []\n",
    "storm_entry_counts = {}\n",
    "\n",
    "for _, row in final_df.iterrows():\n",
    "    storm_id = row['ID']\n",
    "    total_entries = 13\n",
    "    \n",
    "    if storm_id not in storm_entry_counts:\n",
    "        storm_entry_counts[storm_id] = 1\n",
    "    else:\n",
    "        storm_entry_counts[storm_id] += 1\n",
    "    \n",
    "    # if the current row is the final entry for its storm\n",
    "    if storm_entry_counts[storm_id] == total_entries - 1:\n",
    "        # make sure the storm ID is present in chunked_df before adding its status\n",
    "        if storm_id in chunked_df['ID'].values:\n",
    "            final_status.append((row['STATUS'], storm_id))\n",
    "\n",
    "print(len(final_status))"
   ]
  },
  {
   "cell_type": "code",
   "execution_count": 119,
   "metadata": {},
   "outputs": [
    {
     "data": {
      "text/html": [
       "<div>\n",
       "<style scoped>\n",
       "    .dataframe tbody tr th:only-of-type {\n",
       "        vertical-align: middle;\n",
       "    }\n",
       "\n",
       "    .dataframe tbody tr th {\n",
       "        vertical-align: top;\n",
       "    }\n",
       "\n",
       "    .dataframe thead th {\n",
       "        text-align: right;\n",
       "    }\n",
       "</style>\n",
       "<table border=\"1\" class=\"dataframe\">\n",
       "  <thead>\n",
       "    <tr style=\"text-align: right;\">\n",
       "      <th></th>\n",
       "      <th>ID</th>\n",
       "      <th>MAX_WINDSPEED_KT_0</th>\n",
       "      <th>MIN_PRESURE_MB_0</th>\n",
       "      <th>MAX_WINDSPEED_KT_1</th>\n",
       "      <th>MIN_PRESURE_MB_1</th>\n",
       "      <th>MAX_WINDSPEED_KT_2</th>\n",
       "      <th>MIN_PRESURE_MB_2</th>\n",
       "      <th>DISTANCE_1</th>\n",
       "      <th>DISTANCE_2</th>\n",
       "      <th>ELEVATION</th>\n",
       "      <th>SALINITY</th>\n",
       "      <th>STATUS</th>\n",
       "    </tr>\n",
       "  </thead>\n",
       "  <tbody>\n",
       "    <tr>\n",
       "      <th>0</th>\n",
       "      <td>1186.0</td>\n",
       "      <td>20.0</td>\n",
       "      <td>1010.0</td>\n",
       "      <td>20.0</td>\n",
       "      <td>1009.0</td>\n",
       "      <td>25.0</td>\n",
       "      <td>1006.0</td>\n",
       "      <td>107.498347</td>\n",
       "      <td>77.752333</td>\n",
       "      <td>-2830.0</td>\n",
       "      <td>36.444469</td>\n",
       "      <td>5.0</td>\n",
       "    </tr>\n",
       "    <tr>\n",
       "      <th>1</th>\n",
       "      <td>1186.0</td>\n",
       "      <td>25.0</td>\n",
       "      <td>1005.0</td>\n",
       "      <td>30.0</td>\n",
       "      <td>1004.0</td>\n",
       "      <td>30.0</td>\n",
       "      <td>1002.0</td>\n",
       "      <td>114.760979</td>\n",
       "      <td>62.925945</td>\n",
       "      <td>-3348.0</td>\n",
       "      <td>36.336617</td>\n",
       "      <td>5.0</td>\n",
       "    </tr>\n",
       "    <tr>\n",
       "      <th>2</th>\n",
       "      <td>1186.0</td>\n",
       "      <td>35.0</td>\n",
       "      <td>1001.0</td>\n",
       "      <td>35.0</td>\n",
       "      <td>999.0</td>\n",
       "      <td>40.0</td>\n",
       "      <td>998.0</td>\n",
       "      <td>126.203539</td>\n",
       "      <td>257.882846</td>\n",
       "      <td>-2904.0</td>\n",
       "      <td>36.294518</td>\n",
       "      <td>5.0</td>\n",
       "    </tr>\n",
       "    <tr>\n",
       "      <th>3</th>\n",
       "      <td>1186.0</td>\n",
       "      <td>40.0</td>\n",
       "      <td>998.0</td>\n",
       "      <td>40.0</td>\n",
       "      <td>998.0</td>\n",
       "      <td>40.0</td>\n",
       "      <td>998.0</td>\n",
       "      <td>233.735071</td>\n",
       "      <td>209.867067</td>\n",
       "      <td>-9.0</td>\n",
       "      <td>34.991150</td>\n",
       "      <td>5.0</td>\n",
       "    </tr>\n",
       "    <tr>\n",
       "      <th>4</th>\n",
       "      <td>1186.0</td>\n",
       "      <td>45.0</td>\n",
       "      <td>996.0</td>\n",
       "      <td>45.0</td>\n",
       "      <td>994.0</td>\n",
       "      <td>45.0</td>\n",
       "      <td>994.0</td>\n",
       "      <td>202.091059</td>\n",
       "      <td>193.425874</td>\n",
       "      <td>-215.0</td>\n",
       "      <td>36.302586</td>\n",
       "      <td>5.0</td>\n",
       "    </tr>\n",
       "    <tr>\n",
       "      <th>...</th>\n",
       "      <td>...</td>\n",
       "      <td>...</td>\n",
       "      <td>...</td>\n",
       "      <td>...</td>\n",
       "      <td>...</td>\n",
       "      <td>...</td>\n",
       "      <td>...</td>\n",
       "      <td>...</td>\n",
       "      <td>...</td>\n",
       "      <td>...</td>\n",
       "      <td>...</td>\n",
       "      <td>...</td>\n",
       "    </tr>\n",
       "    <tr>\n",
       "      <th>4321</th>\n",
       "      <td>1951.0</td>\n",
       "      <td>35.0</td>\n",
       "      <td>1005.0</td>\n",
       "      <td>35.0</td>\n",
       "      <td>1005.0</td>\n",
       "      <td>40.0</td>\n",
       "      <td>1004.0</td>\n",
       "      <td>180.925541</td>\n",
       "      <td>160.512339</td>\n",
       "      <td>-5710.0</td>\n",
       "      <td>36.469219</td>\n",
       "      <td>0.0</td>\n",
       "    </tr>\n",
       "    <tr>\n",
       "      <th>4322</th>\n",
       "      <td>1951.0</td>\n",
       "      <td>40.0</td>\n",
       "      <td>1002.0</td>\n",
       "      <td>40.0</td>\n",
       "      <td>1001.0</td>\n",
       "      <td>40.0</td>\n",
       "      <td>998.0</td>\n",
       "      <td>114.308833</td>\n",
       "      <td>59.594420</td>\n",
       "      <td>-5521.0</td>\n",
       "      <td>36.745079</td>\n",
       "      <td>0.0</td>\n",
       "    </tr>\n",
       "    <tr>\n",
       "      <th>4323</th>\n",
       "      <td>1951.0</td>\n",
       "      <td>40.0</td>\n",
       "      <td>996.0</td>\n",
       "      <td>45.0</td>\n",
       "      <td>993.0</td>\n",
       "      <td>50.0</td>\n",
       "      <td>991.0</td>\n",
       "      <td>91.572529</td>\n",
       "      <td>118.930302</td>\n",
       "      <td>-5444.0</td>\n",
       "      <td>36.706543</td>\n",
       "      <td>0.0</td>\n",
       "    </tr>\n",
       "    <tr>\n",
       "      <th>4324</th>\n",
       "      <td>1951.0</td>\n",
       "      <td>60.0</td>\n",
       "      <td>985.0</td>\n",
       "      <td>60.0</td>\n",
       "      <td>985.0</td>\n",
       "      <td>65.0</td>\n",
       "      <td>980.0</td>\n",
       "      <td>19.938017</td>\n",
       "      <td>90.363837</td>\n",
       "      <td>1.0</td>\n",
       "      <td>36.710148</td>\n",
       "      <td>0.0</td>\n",
       "    </tr>\n",
       "    <tr>\n",
       "      <th>4325</th>\n",
       "      <td>1951.0</td>\n",
       "      <td>65.0</td>\n",
       "      <td>980.0</td>\n",
       "      <td>65.0</td>\n",
       "      <td>980.0</td>\n",
       "      <td>65.0</td>\n",
       "      <td>980.0</td>\n",
       "      <td>154.040141</td>\n",
       "      <td>59.567280</td>\n",
       "      <td>3.0</td>\n",
       "      <td>36.635422</td>\n",
       "      <td>0.0</td>\n",
       "    </tr>\n",
       "  </tbody>\n",
       "</table>\n",
       "<p>4326 rows × 12 columns</p>\n",
       "</div>"
      ],
      "text/plain": [
       "          ID  MAX_WINDSPEED_KT_0  MIN_PRESURE_MB_0  MAX_WINDSPEED_KT_1  \\\n",
       "0     1186.0                20.0            1010.0                20.0   \n",
       "1     1186.0                25.0            1005.0                30.0   \n",
       "2     1186.0                35.0            1001.0                35.0   \n",
       "3     1186.0                40.0             998.0                40.0   \n",
       "4     1186.0                45.0             996.0                45.0   \n",
       "...      ...                 ...               ...                 ...   \n",
       "4321  1951.0                35.0            1005.0                35.0   \n",
       "4322  1951.0                40.0            1002.0                40.0   \n",
       "4323  1951.0                40.0             996.0                45.0   \n",
       "4324  1951.0                60.0             985.0                60.0   \n",
       "4325  1951.0                65.0             980.0                65.0   \n",
       "\n",
       "      MIN_PRESURE_MB_1  MAX_WINDSPEED_KT_2  MIN_PRESURE_MB_2  DISTANCE_1  \\\n",
       "0               1009.0                25.0            1006.0  107.498347   \n",
       "1               1004.0                30.0            1002.0  114.760979   \n",
       "2                999.0                40.0             998.0  126.203539   \n",
       "3                998.0                40.0             998.0  233.735071   \n",
       "4                994.0                45.0             994.0  202.091059   \n",
       "...                ...                 ...               ...         ...   \n",
       "4321            1005.0                40.0            1004.0  180.925541   \n",
       "4322            1001.0                40.0             998.0  114.308833   \n",
       "4323             993.0                50.0             991.0   91.572529   \n",
       "4324             985.0                65.0             980.0   19.938017   \n",
       "4325             980.0                65.0             980.0  154.040141   \n",
       "\n",
       "      DISTANCE_2  ELEVATION   SALINITY  STATUS  \n",
       "0      77.752333    -2830.0  36.444469     5.0  \n",
       "1      62.925945    -3348.0  36.336617     5.0  \n",
       "2     257.882846    -2904.0  36.294518     5.0  \n",
       "3     209.867067       -9.0  34.991150     5.0  \n",
       "4     193.425874     -215.0  36.302586     5.0  \n",
       "...          ...        ...        ...     ...  \n",
       "4321  160.512339    -5710.0  36.469219     0.0  \n",
       "4322   59.594420    -5521.0  36.745079     0.0  \n",
       "4323  118.930302    -5444.0  36.706543     0.0  \n",
       "4324   90.363837        1.0  36.710148     0.0  \n",
       "4325   59.567280        3.0  36.635422     0.0  \n",
       "\n",
       "[4326 rows x 12 columns]"
      ]
     },
     "execution_count": 119,
     "metadata": {},
     "output_type": "execute_result"
    }
   ],
   "source": [
    "status_dataset = pd.DataFrame(final_status, columns = ['STATUS', 'ID'])\n",
    "chunked_df =  pd.merge(chunked_df, status_dataset, on='ID', how='left')\n",
    "chunked_df"
   ]
  },
  {
   "cell_type": "code",
   "execution_count": 120,
   "metadata": {},
   "outputs": [
    {
     "data": {
      "text/html": [
       "<div>\n",
       "<style scoped>\n",
       "    .dataframe tbody tr th:only-of-type {\n",
       "        vertical-align: middle;\n",
       "    }\n",
       "\n",
       "    .dataframe tbody tr th {\n",
       "        vertical-align: top;\n",
       "    }\n",
       "\n",
       "    .dataframe thead th {\n",
       "        text-align: right;\n",
       "    }\n",
       "</style>\n",
       "<table border=\"1\" class=\"dataframe\">\n",
       "  <thead>\n",
       "    <tr style=\"text-align: right;\">\n",
       "      <th></th>\n",
       "      <th>STATUS</th>\n",
       "      <th>ID</th>\n",
       "    </tr>\n",
       "  </thead>\n",
       "  <tbody>\n",
       "    <tr>\n",
       "      <th>0</th>\n",
       "      <td>5.0</td>\n",
       "      <td>1186.0</td>\n",
       "    </tr>\n",
       "    <tr>\n",
       "      <th>1</th>\n",
       "      <td>0.0</td>\n",
       "      <td>1191.0</td>\n",
       "    </tr>\n",
       "    <tr>\n",
       "      <th>2</th>\n",
       "      <td>1.0</td>\n",
       "      <td>1192.0</td>\n",
       "    </tr>\n",
       "    <tr>\n",
       "      <th>3</th>\n",
       "      <td>0.0</td>\n",
       "      <td>1193.0</td>\n",
       "    </tr>\n",
       "    <tr>\n",
       "      <th>4</th>\n",
       "      <td>1.0</td>\n",
       "      <td>1194.0</td>\n",
       "    </tr>\n",
       "    <tr>\n",
       "      <th>...</th>\n",
       "      <td>...</td>\n",
       "      <td>...</td>\n",
       "    </tr>\n",
       "    <tr>\n",
       "      <th>554</th>\n",
       "      <td>0.0</td>\n",
       "      <td>1947.0</td>\n",
       "    </tr>\n",
       "    <tr>\n",
       "      <th>555</th>\n",
       "      <td>0.0</td>\n",
       "      <td>1948.0</td>\n",
       "    </tr>\n",
       "    <tr>\n",
       "      <th>556</th>\n",
       "      <td>1.0</td>\n",
       "      <td>1949.0</td>\n",
       "    </tr>\n",
       "    <tr>\n",
       "      <th>557</th>\n",
       "      <td>1.0</td>\n",
       "      <td>1950.0</td>\n",
       "    </tr>\n",
       "    <tr>\n",
       "      <th>558</th>\n",
       "      <td>0.0</td>\n",
       "      <td>1951.0</td>\n",
       "    </tr>\n",
       "  </tbody>\n",
       "</table>\n",
       "<p>559 rows × 2 columns</p>\n",
       "</div>"
      ],
      "text/plain": [
       "     STATUS      ID\n",
       "0       5.0  1186.0\n",
       "1       0.0  1191.0\n",
       "2       1.0  1192.0\n",
       "3       0.0  1193.0\n",
       "4       1.0  1194.0\n",
       "..      ...     ...\n",
       "554     0.0  1947.0\n",
       "555     0.0  1948.0\n",
       "556     1.0  1949.0\n",
       "557     1.0  1950.0\n",
       "558     0.0  1951.0\n",
       "\n",
       "[559 rows x 2 columns]"
      ]
     },
     "execution_count": 120,
     "metadata": {},
     "output_type": "execute_result"
    }
   ],
   "source": [
    "status_dataset"
   ]
  },
  {
   "cell_type": "code",
   "execution_count": 121,
   "metadata": {},
   "outputs": [
    {
     "data": {
      "text/plain": [
       "STATUS\n",
       "0.0    1837\n",
       "1.0    1324\n",
       "2.0     693\n",
       "3.0     135\n",
       "4.0     129\n",
       "5.0      97\n",
       "8.0      39\n",
       "7.0      39\n",
       "6.0      33\n",
       "Name: count, dtype: int64"
      ]
     },
     "execution_count": 121,
     "metadata": {},
     "output_type": "execute_result"
    }
   ],
   "source": [
    "chunked_df['STATUS'].value_counts()"
   ]
  },
  {
   "cell_type": "markdown",
   "metadata": {},
   "source": [
    "# SAVING DATASET TO FILE FOR EASY USE"
   ]
  },
  {
   "cell_type": "code",
   "execution_count": 34,
   "metadata": {},
   "outputs": [],
   "source": [
    "file_path = 'chunked.txt'\n",
    "chunked_df.to_csv(file_path, sep=',', index=False)"
   ]
  },
  {
   "cell_type": "code",
   "execution_count": 116,
   "metadata": {},
   "outputs": [
    {
     "data": {
      "text/html": [
       "<div>\n",
       "<style scoped>\n",
       "    .dataframe tbody tr th:only-of-type {\n",
       "        vertical-align: middle;\n",
       "    }\n",
       "\n",
       "    .dataframe tbody tr th {\n",
       "        vertical-align: top;\n",
       "    }\n",
       "\n",
       "    .dataframe thead th {\n",
       "        text-align: right;\n",
       "    }\n",
       "</style>\n",
       "<table border=\"1\" class=\"dataframe\">\n",
       "  <thead>\n",
       "    <tr style=\"text-align: right;\">\n",
       "      <th></th>\n",
       "      <th>ID</th>\n",
       "      <th>MAX_WINDSPEED_KT_0</th>\n",
       "      <th>MIN_PRESURE_MB_0</th>\n",
       "      <th>MAX_WINDSPEED_KT_1</th>\n",
       "      <th>MIN_PRESURE_MB_1</th>\n",
       "      <th>MAX_WINDSPEED_KT_2</th>\n",
       "      <th>MIN_PRESURE_MB_2</th>\n",
       "      <th>DISTANCE_1</th>\n",
       "      <th>DISTANCE_2</th>\n",
       "      <th>ELEVATION</th>\n",
       "      <th>SALINITY</th>\n",
       "      <th>STATUS</th>\n",
       "    </tr>\n",
       "  </thead>\n",
       "  <tbody>\n",
       "    <tr>\n",
       "      <th>0</th>\n",
       "      <td>1186.0</td>\n",
       "      <td>20.0</td>\n",
       "      <td>1010.0</td>\n",
       "      <td>20.0</td>\n",
       "      <td>1009.0</td>\n",
       "      <td>25.0</td>\n",
       "      <td>1006.0</td>\n",
       "      <td>107.498347</td>\n",
       "      <td>77.752333</td>\n",
       "      <td>-2830.0</td>\n",
       "      <td>36.444469</td>\n",
       "      <td>5.0</td>\n",
       "    </tr>\n",
       "    <tr>\n",
       "      <th>1</th>\n",
       "      <td>1186.0</td>\n",
       "      <td>25.0</td>\n",
       "      <td>1005.0</td>\n",
       "      <td>30.0</td>\n",
       "      <td>1004.0</td>\n",
       "      <td>30.0</td>\n",
       "      <td>1002.0</td>\n",
       "      <td>114.760979</td>\n",
       "      <td>62.925945</td>\n",
       "      <td>-3348.0</td>\n",
       "      <td>36.336617</td>\n",
       "      <td>5.0</td>\n",
       "    </tr>\n",
       "    <tr>\n",
       "      <th>2</th>\n",
       "      <td>1186.0</td>\n",
       "      <td>35.0</td>\n",
       "      <td>1001.0</td>\n",
       "      <td>35.0</td>\n",
       "      <td>999.0</td>\n",
       "      <td>40.0</td>\n",
       "      <td>998.0</td>\n",
       "      <td>126.203539</td>\n",
       "      <td>257.882846</td>\n",
       "      <td>-2904.0</td>\n",
       "      <td>36.294518</td>\n",
       "      <td>5.0</td>\n",
       "    </tr>\n",
       "    <tr>\n",
       "      <th>3</th>\n",
       "      <td>1186.0</td>\n",
       "      <td>40.0</td>\n",
       "      <td>998.0</td>\n",
       "      <td>40.0</td>\n",
       "      <td>998.0</td>\n",
       "      <td>40.0</td>\n",
       "      <td>998.0</td>\n",
       "      <td>233.735071</td>\n",
       "      <td>209.867067</td>\n",
       "      <td>-9.0</td>\n",
       "      <td>34.991150</td>\n",
       "      <td>5.0</td>\n",
       "    </tr>\n",
       "    <tr>\n",
       "      <th>4</th>\n",
       "      <td>1186.0</td>\n",
       "      <td>45.0</td>\n",
       "      <td>996.0</td>\n",
       "      <td>45.0</td>\n",
       "      <td>994.0</td>\n",
       "      <td>45.0</td>\n",
       "      <td>994.0</td>\n",
       "      <td>202.091059</td>\n",
       "      <td>193.425874</td>\n",
       "      <td>-215.0</td>\n",
       "      <td>36.302586</td>\n",
       "      <td>5.0</td>\n",
       "    </tr>\n",
       "    <tr>\n",
       "      <th>...</th>\n",
       "      <td>...</td>\n",
       "      <td>...</td>\n",
       "      <td>...</td>\n",
       "      <td>...</td>\n",
       "      <td>...</td>\n",
       "      <td>...</td>\n",
       "      <td>...</td>\n",
       "      <td>...</td>\n",
       "      <td>...</td>\n",
       "      <td>...</td>\n",
       "      <td>...</td>\n",
       "      <td>...</td>\n",
       "    </tr>\n",
       "    <tr>\n",
       "      <th>4321</th>\n",
       "      <td>1951.0</td>\n",
       "      <td>35.0</td>\n",
       "      <td>1005.0</td>\n",
       "      <td>35.0</td>\n",
       "      <td>1005.0</td>\n",
       "      <td>40.0</td>\n",
       "      <td>1004.0</td>\n",
       "      <td>180.925541</td>\n",
       "      <td>160.512339</td>\n",
       "      <td>-5710.0</td>\n",
       "      <td>36.469219</td>\n",
       "      <td>0.0</td>\n",
       "    </tr>\n",
       "    <tr>\n",
       "      <th>4322</th>\n",
       "      <td>1951.0</td>\n",
       "      <td>40.0</td>\n",
       "      <td>1002.0</td>\n",
       "      <td>40.0</td>\n",
       "      <td>1001.0</td>\n",
       "      <td>40.0</td>\n",
       "      <td>998.0</td>\n",
       "      <td>114.308833</td>\n",
       "      <td>59.594420</td>\n",
       "      <td>-5521.0</td>\n",
       "      <td>36.745079</td>\n",
       "      <td>0.0</td>\n",
       "    </tr>\n",
       "    <tr>\n",
       "      <th>4323</th>\n",
       "      <td>1951.0</td>\n",
       "      <td>40.0</td>\n",
       "      <td>996.0</td>\n",
       "      <td>45.0</td>\n",
       "      <td>993.0</td>\n",
       "      <td>50.0</td>\n",
       "      <td>991.0</td>\n",
       "      <td>91.572529</td>\n",
       "      <td>118.930302</td>\n",
       "      <td>-5444.0</td>\n",
       "      <td>36.706543</td>\n",
       "      <td>0.0</td>\n",
       "    </tr>\n",
       "    <tr>\n",
       "      <th>4324</th>\n",
       "      <td>1951.0</td>\n",
       "      <td>60.0</td>\n",
       "      <td>985.0</td>\n",
       "      <td>60.0</td>\n",
       "      <td>985.0</td>\n",
       "      <td>65.0</td>\n",
       "      <td>980.0</td>\n",
       "      <td>19.938017</td>\n",
       "      <td>90.363837</td>\n",
       "      <td>1.0</td>\n",
       "      <td>36.710148</td>\n",
       "      <td>0.0</td>\n",
       "    </tr>\n",
       "    <tr>\n",
       "      <th>4325</th>\n",
       "      <td>1951.0</td>\n",
       "      <td>65.0</td>\n",
       "      <td>980.0</td>\n",
       "      <td>65.0</td>\n",
       "      <td>980.0</td>\n",
       "      <td>65.0</td>\n",
       "      <td>980.0</td>\n",
       "      <td>154.040141</td>\n",
       "      <td>59.567280</td>\n",
       "      <td>3.0</td>\n",
       "      <td>36.635422</td>\n",
       "      <td>0.0</td>\n",
       "    </tr>\n",
       "  </tbody>\n",
       "</table>\n",
       "<p>4326 rows × 12 columns</p>\n",
       "</div>"
      ],
      "text/plain": [
       "          ID  MAX_WINDSPEED_KT_0  MIN_PRESURE_MB_0  MAX_WINDSPEED_KT_1  \\\n",
       "0     1186.0                20.0            1010.0                20.0   \n",
       "1     1186.0                25.0            1005.0                30.0   \n",
       "2     1186.0                35.0            1001.0                35.0   \n",
       "3     1186.0                40.0             998.0                40.0   \n",
       "4     1186.0                45.0             996.0                45.0   \n",
       "...      ...                 ...               ...                 ...   \n",
       "4321  1951.0                35.0            1005.0                35.0   \n",
       "4322  1951.0                40.0            1002.0                40.0   \n",
       "4323  1951.0                40.0             996.0                45.0   \n",
       "4324  1951.0                60.0             985.0                60.0   \n",
       "4325  1951.0                65.0             980.0                65.0   \n",
       "\n",
       "      MIN_PRESURE_MB_1  MAX_WINDSPEED_KT_2  MIN_PRESURE_MB_2  DISTANCE_1  \\\n",
       "0               1009.0                25.0            1006.0  107.498347   \n",
       "1               1004.0                30.0            1002.0  114.760979   \n",
       "2                999.0                40.0             998.0  126.203539   \n",
       "3                998.0                40.0             998.0  233.735071   \n",
       "4                994.0                45.0             994.0  202.091059   \n",
       "...                ...                 ...               ...         ...   \n",
       "4321            1005.0                40.0            1004.0  180.925541   \n",
       "4322            1001.0                40.0             998.0  114.308833   \n",
       "4323             993.0                50.0             991.0   91.572529   \n",
       "4324             985.0                65.0             980.0   19.938017   \n",
       "4325             980.0                65.0             980.0  154.040141   \n",
       "\n",
       "      DISTANCE_2  ELEVATION   SALINITY  STATUS  \n",
       "0      77.752333    -2830.0  36.444469     5.0  \n",
       "1      62.925945    -3348.0  36.336617     5.0  \n",
       "2     257.882846    -2904.0  36.294518     5.0  \n",
       "3     209.867067       -9.0  34.991150     5.0  \n",
       "4     193.425874     -215.0  36.302586     5.0  \n",
       "...          ...        ...        ...     ...  \n",
       "4321  160.512339    -5710.0  36.469219     0.0  \n",
       "4322   59.594420    -5521.0  36.745079     0.0  \n",
       "4323  118.930302    -5444.0  36.706543     0.0  \n",
       "4324   90.363837        1.0  36.710148     0.0  \n",
       "4325   59.567280        3.0  36.635422     0.0  \n",
       "\n",
       "[4326 rows x 12 columns]"
      ]
     },
     "execution_count": 116,
     "metadata": {},
     "output_type": "execute_result"
    }
   ],
   "source": [
    "file_path = 'chunked.txt'\n",
    "chunked_df = pd.read_csv(file_path)\n",
    "chunked_df"
   ]
  },
  {
   "cell_type": "markdown",
   "metadata": {},
   "source": [
    "## Because I am predicting the 78th hour status, I want to get only storms with the at least 4 chunks,  hours [0, 6, 12], [18,24,30], [36, 42, 48], and [54,60,66]."
   ]
  },
  {
   "cell_type": "markdown",
   "metadata": {},
   "source": [
    "## Converting the dataset into 4 reading chunks per storm."
   ]
  },
  {
   "cell_type": "code",
   "execution_count": 171,
   "metadata": {},
   "outputs": [
    {
     "data": {
      "text/html": [
       "<div>\n",
       "<style scoped>\n",
       "    .dataframe tbody tr th:only-of-type {\n",
       "        vertical-align: middle;\n",
       "    }\n",
       "\n",
       "    .dataframe tbody tr th {\n",
       "        vertical-align: top;\n",
       "    }\n",
       "\n",
       "    .dataframe thead th {\n",
       "        text-align: right;\n",
       "    }\n",
       "</style>\n",
       "<table border=\"1\" class=\"dataframe\">\n",
       "  <thead>\n",
       "    <tr style=\"text-align: right;\">\n",
       "      <th></th>\n",
       "      <th>ID</th>\n",
       "      <th>MAX_WINDSPEED_KT_0</th>\n",
       "      <th>MIN_PRESURE_MB_0</th>\n",
       "      <th>MAX_WINDSPEED_KT_1</th>\n",
       "      <th>MIN_PRESURE_MB_1</th>\n",
       "      <th>MAX_WINDSPEED_KT_2</th>\n",
       "      <th>MIN_PRESURE_MB_2</th>\n",
       "      <th>DISTANCE_1</th>\n",
       "      <th>DISTANCE_2</th>\n",
       "      <th>ELEVATION</th>\n",
       "      <th>SALINITY</th>\n",
       "      <th>STATUS</th>\n",
       "    </tr>\n",
       "  </thead>\n",
       "  <tbody>\n",
       "    <tr>\n",
       "      <th>0</th>\n",
       "      <td>1772.0</td>\n",
       "      <td>25.0</td>\n",
       "      <td>1008.0</td>\n",
       "      <td>25.0</td>\n",
       "      <td>1007.0</td>\n",
       "      <td>25.0</td>\n",
       "      <td>1007.0</td>\n",
       "      <td>150.585735</td>\n",
       "      <td>151.692407</td>\n",
       "      <td>-5184.0</td>\n",
       "      <td>36.337440</td>\n",
       "      <td>0.0</td>\n",
       "    </tr>\n",
       "    <tr>\n",
       "      <th>1</th>\n",
       "      <td>1772.0</td>\n",
       "      <td>25.0</td>\n",
       "      <td>1007.0</td>\n",
       "      <td>30.0</td>\n",
       "      <td>1006.0</td>\n",
       "      <td>30.0</td>\n",
       "      <td>1006.0</td>\n",
       "      <td>105.926169</td>\n",
       "      <td>110.816011</td>\n",
       "      <td>-5039.0</td>\n",
       "      <td>36.454098</td>\n",
       "      <td>0.0</td>\n",
       "    </tr>\n",
       "    <tr>\n",
       "      <th>2</th>\n",
       "      <td>1772.0</td>\n",
       "      <td>35.0</td>\n",
       "      <td>1004.0</td>\n",
       "      <td>45.0</td>\n",
       "      <td>1001.0</td>\n",
       "      <td>50.0</td>\n",
       "      <td>997.0</td>\n",
       "      <td>134.206256</td>\n",
       "      <td>148.562585</td>\n",
       "      <td>-4206.0</td>\n",
       "      <td>36.693466</td>\n",
       "      <td>0.0</td>\n",
       "    </tr>\n",
       "    <tr>\n",
       "      <th>3</th>\n",
       "      <td>1772.0</td>\n",
       "      <td>60.0</td>\n",
       "      <td>990.0</td>\n",
       "      <td>60.0</td>\n",
       "      <td>989.0</td>\n",
       "      <td>60.0</td>\n",
       "      <td>989.0</td>\n",
       "      <td>161.931693</td>\n",
       "      <td>155.917695</td>\n",
       "      <td>-5241.0</td>\n",
       "      <td>36.803455</td>\n",
       "      <td>0.0</td>\n",
       "    </tr>\n",
       "    <tr>\n",
       "      <th>4</th>\n",
       "      <td>1592.0</td>\n",
       "      <td>30.0</td>\n",
       "      <td>1007.0</td>\n",
       "      <td>35.0</td>\n",
       "      <td>1007.0</td>\n",
       "      <td>35.0</td>\n",
       "      <td>1007.0</td>\n",
       "      <td>123.456902</td>\n",
       "      <td>66.518597</td>\n",
       "      <td>-5507.0</td>\n",
       "      <td>36.708382</td>\n",
       "      <td>0.0</td>\n",
       "    </tr>\n",
       "    <tr>\n",
       "      <th>...</th>\n",
       "      <td>...</td>\n",
       "      <td>...</td>\n",
       "      <td>...</td>\n",
       "      <td>...</td>\n",
       "      <td>...</td>\n",
       "      <td>...</td>\n",
       "      <td>...</td>\n",
       "      <td>...</td>\n",
       "      <td>...</td>\n",
       "      <td>...</td>\n",
       "      <td>...</td>\n",
       "      <td>...</td>\n",
       "    </tr>\n",
       "    <tr>\n",
       "      <th>1947</th>\n",
       "      <td>1632.0</td>\n",
       "      <td>55.0</td>\n",
       "      <td>995.0</td>\n",
       "      <td>60.0</td>\n",
       "      <td>990.0</td>\n",
       "      <td>60.0</td>\n",
       "      <td>989.0</td>\n",
       "      <td>184.220256</td>\n",
       "      <td>0.000000</td>\n",
       "      <td>-3373.0</td>\n",
       "      <td>36.193947</td>\n",
       "      <td>0.0</td>\n",
       "    </tr>\n",
       "    <tr>\n",
       "      <th>1948</th>\n",
       "      <td>1655.0</td>\n",
       "      <td>40.0</td>\n",
       "      <td>1001.0</td>\n",
       "      <td>45.0</td>\n",
       "      <td>1000.0</td>\n",
       "      <td>45.0</td>\n",
       "      <td>1000.0</td>\n",
       "      <td>30.164494</td>\n",
       "      <td>21.724308</td>\n",
       "      <td>-4984.0</td>\n",
       "      <td>36.520378</td>\n",
       "      <td>2.0</td>\n",
       "    </tr>\n",
       "    <tr>\n",
       "      <th>1949</th>\n",
       "      <td>1655.0</td>\n",
       "      <td>45.0</td>\n",
       "      <td>999.0</td>\n",
       "      <td>50.0</td>\n",
       "      <td>998.0</td>\n",
       "      <td>55.0</td>\n",
       "      <td>995.0</td>\n",
       "      <td>43.357984</td>\n",
       "      <td>52.380016</td>\n",
       "      <td>-4905.0</td>\n",
       "      <td>36.529125</td>\n",
       "      <td>2.0</td>\n",
       "    </tr>\n",
       "    <tr>\n",
       "      <th>1950</th>\n",
       "      <td>1655.0</td>\n",
       "      <td>45.0</td>\n",
       "      <td>995.0</td>\n",
       "      <td>35.0</td>\n",
       "      <td>998.0</td>\n",
       "      <td>30.0</td>\n",
       "      <td>1000.0</td>\n",
       "      <td>240.931063</td>\n",
       "      <td>222.047390</td>\n",
       "      <td>-3469.0</td>\n",
       "      <td>36.256081</td>\n",
       "      <td>2.0</td>\n",
       "    </tr>\n",
       "    <tr>\n",
       "      <th>1951</th>\n",
       "      <td>1655.0</td>\n",
       "      <td>30.0</td>\n",
       "      <td>1002.0</td>\n",
       "      <td>30.0</td>\n",
       "      <td>1002.0</td>\n",
       "      <td>30.0</td>\n",
       "      <td>1003.0</td>\n",
       "      <td>120.427488</td>\n",
       "      <td>112.039638</td>\n",
       "      <td>-675.0</td>\n",
       "      <td>36.205120</td>\n",
       "      <td>2.0</td>\n",
       "    </tr>\n",
       "  </tbody>\n",
       "</table>\n",
       "<p>1952 rows × 12 columns</p>\n",
       "</div>"
      ],
      "text/plain": [
       "          ID  MAX_WINDSPEED_KT_0  MIN_PRESURE_MB_0  MAX_WINDSPEED_KT_1  \\\n",
       "0     1772.0                25.0            1008.0                25.0   \n",
       "1     1772.0                25.0            1007.0                30.0   \n",
       "2     1772.0                35.0            1004.0                45.0   \n",
       "3     1772.0                60.0             990.0                60.0   \n",
       "4     1592.0                30.0            1007.0                35.0   \n",
       "...      ...                 ...               ...                 ...   \n",
       "1947  1632.0                55.0             995.0                60.0   \n",
       "1948  1655.0                40.0            1001.0                45.0   \n",
       "1949  1655.0                45.0             999.0                50.0   \n",
       "1950  1655.0                45.0             995.0                35.0   \n",
       "1951  1655.0                30.0            1002.0                30.0   \n",
       "\n",
       "      MIN_PRESURE_MB_1  MAX_WINDSPEED_KT_2  MIN_PRESURE_MB_2  DISTANCE_1  \\\n",
       "0               1007.0                25.0            1007.0  150.585735   \n",
       "1               1006.0                30.0            1006.0  105.926169   \n",
       "2               1001.0                50.0             997.0  134.206256   \n",
       "3                989.0                60.0             989.0  161.931693   \n",
       "4               1007.0                35.0            1007.0  123.456902   \n",
       "...                ...                 ...               ...         ...   \n",
       "1947             990.0                60.0             989.0  184.220256   \n",
       "1948            1000.0                45.0            1000.0   30.164494   \n",
       "1949             998.0                55.0             995.0   43.357984   \n",
       "1950             998.0                30.0            1000.0  240.931063   \n",
       "1951            1002.0                30.0            1003.0  120.427488   \n",
       "\n",
       "      DISTANCE_2  ELEVATION   SALINITY  STATUS  \n",
       "0     151.692407    -5184.0  36.337440     0.0  \n",
       "1     110.816011    -5039.0  36.454098     0.0  \n",
       "2     148.562585    -4206.0  36.693466     0.0  \n",
       "3     155.917695    -5241.0  36.803455     0.0  \n",
       "4      66.518597    -5507.0  36.708382     0.0  \n",
       "...          ...        ...        ...     ...  \n",
       "1947    0.000000    -3373.0  36.193947     0.0  \n",
       "1948   21.724308    -4984.0  36.520378     2.0  \n",
       "1949   52.380016    -4905.0  36.529125     2.0  \n",
       "1950  222.047390    -3469.0  36.256081     2.0  \n",
       "1951  112.039638     -675.0  36.205120     2.0  \n",
       "\n",
       "[1952 rows x 12 columns]"
      ]
     },
     "execution_count": 171,
     "metadata": {},
     "output_type": "execute_result"
    }
   ],
   "source": [
    "column_names = ['ID'] + [f'{val}_{i}' for i in range(3) for val in ['MAX_WINDSPEED_KT', 'MIN_PRESURE_MB']] + ['DISTANCE_1', 'DISTANCE_2', 'ELEVATION', 'SALINITY', 'STATUS']\n",
    "\n",
    "# get id's with at least 4 rows\n",
    "valid_ids = chunked_df['ID'].value_counts()\n",
    "valid_ids = valid_ids[valid_ids >= 4].index.tolist()\n",
    "\n",
    "# get 4 rows for each valid id\n",
    "frames = []\n",
    "for curr_id in valid_ids:\n",
    "    rows = chunked_df[chunked_df['ID'] == curr_id].head(4)\n",
    "    frames.append(rows)\n",
    "\n",
    "quad_df = pd.concat(frames).reset_index(drop=True)\n",
    "\n",
    "quad_df = quad_df[column_names]\n",
    "quad_df"
   ]
  },
  {
   "cell_type": "markdown",
   "metadata": {},
   "source": [
    "## I decided to drop all categories except 0=Tropical Storm, and 1=Hurricane due to the lack of data for the other categories"
   ]
  },
  {
   "cell_type": "code",
   "execution_count": 172,
   "metadata": {},
   "outputs": [
    {
     "data": {
      "text/plain": [
       "STATUS\n",
       "0.0    812\n",
       "1.0    560\n",
       "2.0    356\n",
       "4.0     60\n",
       "5.0     60\n",
       "3.0     56\n",
       "8.0     20\n",
       "7.0     16\n",
       "6.0     12\n",
       "Name: count, dtype: int64"
      ]
     },
     "execution_count": 172,
     "metadata": {},
     "output_type": "execute_result"
    }
   ],
   "source": [
    "quad_df['STATUS'].value_counts()"
   ]
  },
  {
   "cell_type": "code",
   "execution_count": 173,
   "metadata": {},
   "outputs": [
    {
     "name": "stderr",
     "output_type": "stream",
     "text": [
      "C:\\Users\\Ryan\\AppData\\Local\\Temp\\ipykernel_145684\\2316918283.py:1: FutureWarning: A value is trying to be set on a copy of a DataFrame or Series through chained assignment using an inplace method.\n",
      "The behavior will change in pandas 3.0. This inplace method will never work because the intermediate object on which we are setting values always behaves as a copy.\n",
      "\n",
      "For example, when doing 'df[col].method(value, inplace=True)', try using 'df.method({col: value}, inplace=True)' or df[col] = df[col].method(value) instead, to perform the operation inplace on the original object.\n",
      "\n",
      "\n",
      "  quad_df['STATUS'].replace([2,3,4,5,6,7,8], np.nan, inplace=True)\n"
     ]
    },
    {
     "data": {
      "text/plain": [
       "STATUS\n",
       "0.0    812\n",
       "1.0    560\n",
       "Name: count, dtype: int64"
      ]
     },
     "execution_count": 173,
     "metadata": {},
     "output_type": "execute_result"
    }
   ],
   "source": [
    "quad_df['STATUS'].replace([2,3,4,5,6,7,8], np.nan, inplace=True)\n",
    "quad_df.dropna(inplace=True)\n",
    "quad_df['STATUS'].value_counts()"
   ]
  },
  {
   "cell_type": "code",
   "execution_count": 174,
   "metadata": {},
   "outputs": [
    {
     "data": {
      "text/html": [
       "<div>\n",
       "<style scoped>\n",
       "    .dataframe tbody tr th:only-of-type {\n",
       "        vertical-align: middle;\n",
       "    }\n",
       "\n",
       "    .dataframe tbody tr th {\n",
       "        vertical-align: top;\n",
       "    }\n",
       "\n",
       "    .dataframe thead th {\n",
       "        text-align: right;\n",
       "    }\n",
       "</style>\n",
       "<table border=\"1\" class=\"dataframe\">\n",
       "  <thead>\n",
       "    <tr style=\"text-align: right;\">\n",
       "      <th></th>\n",
       "      <th>MAX_WINDSPEED_KT_0</th>\n",
       "      <th>MIN_PRESURE_MB_0</th>\n",
       "      <th>MAX_WINDSPEED_KT_1</th>\n",
       "      <th>MIN_PRESURE_MB_1</th>\n",
       "      <th>MAX_WINDSPEED_KT_2</th>\n",
       "      <th>MIN_PRESURE_MB_2</th>\n",
       "      <th>DISTANCE_1</th>\n",
       "      <th>DISTANCE_2</th>\n",
       "      <th>ELEVATION</th>\n",
       "      <th>SALINITY</th>\n",
       "      <th>STATUS</th>\n",
       "    </tr>\n",
       "  </thead>\n",
       "  <tbody>\n",
       "    <tr>\n",
       "      <th>0</th>\n",
       "      <td>25.0</td>\n",
       "      <td>1008.0</td>\n",
       "      <td>25.0</td>\n",
       "      <td>1007.0</td>\n",
       "      <td>25.0</td>\n",
       "      <td>1007.0</td>\n",
       "      <td>150.585735</td>\n",
       "      <td>151.692407</td>\n",
       "      <td>-5184.0</td>\n",
       "      <td>36.337440</td>\n",
       "      <td>0.0</td>\n",
       "    </tr>\n",
       "    <tr>\n",
       "      <th>1</th>\n",
       "      <td>25.0</td>\n",
       "      <td>1007.0</td>\n",
       "      <td>30.0</td>\n",
       "      <td>1006.0</td>\n",
       "      <td>30.0</td>\n",
       "      <td>1006.0</td>\n",
       "      <td>105.926169</td>\n",
       "      <td>110.816011</td>\n",
       "      <td>-5039.0</td>\n",
       "      <td>36.454098</td>\n",
       "      <td>0.0</td>\n",
       "    </tr>\n",
       "    <tr>\n",
       "      <th>2</th>\n",
       "      <td>35.0</td>\n",
       "      <td>1004.0</td>\n",
       "      <td>45.0</td>\n",
       "      <td>1001.0</td>\n",
       "      <td>50.0</td>\n",
       "      <td>997.0</td>\n",
       "      <td>134.206256</td>\n",
       "      <td>148.562585</td>\n",
       "      <td>-4206.0</td>\n",
       "      <td>36.693466</td>\n",
       "      <td>0.0</td>\n",
       "    </tr>\n",
       "    <tr>\n",
       "      <th>3</th>\n",
       "      <td>60.0</td>\n",
       "      <td>990.0</td>\n",
       "      <td>60.0</td>\n",
       "      <td>989.0</td>\n",
       "      <td>60.0</td>\n",
       "      <td>989.0</td>\n",
       "      <td>161.931693</td>\n",
       "      <td>155.917695</td>\n",
       "      <td>-5241.0</td>\n",
       "      <td>36.803455</td>\n",
       "      <td>0.0</td>\n",
       "    </tr>\n",
       "    <tr>\n",
       "      <th>4</th>\n",
       "      <td>30.0</td>\n",
       "      <td>1007.0</td>\n",
       "      <td>35.0</td>\n",
       "      <td>1007.0</td>\n",
       "      <td>35.0</td>\n",
       "      <td>1007.0</td>\n",
       "      <td>123.456902</td>\n",
       "      <td>66.518597</td>\n",
       "      <td>-5507.0</td>\n",
       "      <td>36.708382</td>\n",
       "      <td>0.0</td>\n",
       "    </tr>\n",
       "    <tr>\n",
       "      <th>...</th>\n",
       "      <td>...</td>\n",
       "      <td>...</td>\n",
       "      <td>...</td>\n",
       "      <td>...</td>\n",
       "      <td>...</td>\n",
       "      <td>...</td>\n",
       "      <td>...</td>\n",
       "      <td>...</td>\n",
       "      <td>...</td>\n",
       "      <td>...</td>\n",
       "      <td>...</td>\n",
       "    </tr>\n",
       "    <tr>\n",
       "      <th>1939</th>\n",
       "      <td>55.0</td>\n",
       "      <td>994.0</td>\n",
       "      <td>60.0</td>\n",
       "      <td>991.0</td>\n",
       "      <td>65.0</td>\n",
       "      <td>986.0</td>\n",
       "      <td>106.817774</td>\n",
       "      <td>106.589207</td>\n",
       "      <td>-1654.0</td>\n",
       "      <td>36.344486</td>\n",
       "      <td>0.0</td>\n",
       "    </tr>\n",
       "    <tr>\n",
       "      <th>1944</th>\n",
       "      <td>25.0</td>\n",
       "      <td>1004.0</td>\n",
       "      <td>30.0</td>\n",
       "      <td>1003.0</td>\n",
       "      <td>35.0</td>\n",
       "      <td>1003.0</td>\n",
       "      <td>56.349110</td>\n",
       "      <td>88.542506</td>\n",
       "      <td>-1402.0</td>\n",
       "      <td>36.137878</td>\n",
       "      <td>0.0</td>\n",
       "    </tr>\n",
       "    <tr>\n",
       "      <th>1945</th>\n",
       "      <td>35.0</td>\n",
       "      <td>1002.0</td>\n",
       "      <td>35.0</td>\n",
       "      <td>1002.0</td>\n",
       "      <td>40.0</td>\n",
       "      <td>1001.0</td>\n",
       "      <td>78.196505</td>\n",
       "      <td>78.196376</td>\n",
       "      <td>-2457.0</td>\n",
       "      <td>36.033577</td>\n",
       "      <td>0.0</td>\n",
       "    </tr>\n",
       "    <tr>\n",
       "      <th>1946</th>\n",
       "      <td>45.0</td>\n",
       "      <td>1000.0</td>\n",
       "      <td>45.0</td>\n",
       "      <td>1000.0</td>\n",
       "      <td>50.0</td>\n",
       "      <td>1000.0</td>\n",
       "      <td>67.237395</td>\n",
       "      <td>134.469146</td>\n",
       "      <td>-4319.0</td>\n",
       "      <td>36.228218</td>\n",
       "      <td>0.0</td>\n",
       "    </tr>\n",
       "    <tr>\n",
       "      <th>1947</th>\n",
       "      <td>55.0</td>\n",
       "      <td>995.0</td>\n",
       "      <td>60.0</td>\n",
       "      <td>990.0</td>\n",
       "      <td>60.0</td>\n",
       "      <td>989.0</td>\n",
       "      <td>184.220256</td>\n",
       "      <td>0.000000</td>\n",
       "      <td>-3373.0</td>\n",
       "      <td>36.193947</td>\n",
       "      <td>0.0</td>\n",
       "    </tr>\n",
       "  </tbody>\n",
       "</table>\n",
       "<p>1372 rows × 11 columns</p>\n",
       "</div>"
      ],
      "text/plain": [
       "      MAX_WINDSPEED_KT_0  MIN_PRESURE_MB_0  MAX_WINDSPEED_KT_1  \\\n",
       "0                   25.0            1008.0                25.0   \n",
       "1                   25.0            1007.0                30.0   \n",
       "2                   35.0            1004.0                45.0   \n",
       "3                   60.0             990.0                60.0   \n",
       "4                   30.0            1007.0                35.0   \n",
       "...                  ...               ...                 ...   \n",
       "1939                55.0             994.0                60.0   \n",
       "1944                25.0            1004.0                30.0   \n",
       "1945                35.0            1002.0                35.0   \n",
       "1946                45.0            1000.0                45.0   \n",
       "1947                55.0             995.0                60.0   \n",
       "\n",
       "      MIN_PRESURE_MB_1  MAX_WINDSPEED_KT_2  MIN_PRESURE_MB_2  DISTANCE_1  \\\n",
       "0               1007.0                25.0            1007.0  150.585735   \n",
       "1               1006.0                30.0            1006.0  105.926169   \n",
       "2               1001.0                50.0             997.0  134.206256   \n",
       "3                989.0                60.0             989.0  161.931693   \n",
       "4               1007.0                35.0            1007.0  123.456902   \n",
       "...                ...                 ...               ...         ...   \n",
       "1939             991.0                65.0             986.0  106.817774   \n",
       "1944            1003.0                35.0            1003.0   56.349110   \n",
       "1945            1002.0                40.0            1001.0   78.196505   \n",
       "1946            1000.0                50.0            1000.0   67.237395   \n",
       "1947             990.0                60.0             989.0  184.220256   \n",
       "\n",
       "      DISTANCE_2  ELEVATION   SALINITY  STATUS  \n",
       "0     151.692407    -5184.0  36.337440     0.0  \n",
       "1     110.816011    -5039.0  36.454098     0.0  \n",
       "2     148.562585    -4206.0  36.693466     0.0  \n",
       "3     155.917695    -5241.0  36.803455     0.0  \n",
       "4      66.518597    -5507.0  36.708382     0.0  \n",
       "...          ...        ...        ...     ...  \n",
       "1939  106.589207    -1654.0  36.344486     0.0  \n",
       "1944   88.542506    -1402.0  36.137878     0.0  \n",
       "1945   78.196376    -2457.0  36.033577     0.0  \n",
       "1946  134.469146    -4319.0  36.228218     0.0  \n",
       "1947    0.000000    -3373.0  36.193947     0.0  \n",
       "\n",
       "[1372 rows x 11 columns]"
      ]
     },
     "execution_count": 174,
     "metadata": {},
     "output_type": "execute_result"
    }
   ],
   "source": [
    "quad_df.drop(columns=['ID'], inplace=True)\n",
    "quad_df"
   ]
  },
  {
   "cell_type": "markdown",
   "metadata": {},
   "source": [
    "## Finally, splitting the dataset into 4 partitions, one for the hours [0, 6, 12], [18,24,30], [36, 42, 48], and [54,60,66] to run each dataset through the models to find the minimun time needed to predict the status of hour 78"
   ]
  },
  {
   "cell_type": "code",
   "execution_count": 175,
   "metadata": {},
   "outputs": [],
   "source": [
    "d_1 = []\n",
    "d_2 = []\n",
    "d_3 = []\n",
    "d_4 = []\n",
    "columns = ['MAX_WINDSPEED_KT_0', 'MIN_PRESURE_MB_0', 'MAX_WINDSPEED_KT_1', \n",
    "        'MIN_PRESURE_MB_1', 'MAX_WINDSPEED_KT_2', 'MIN_PRESURE_MB_2', 'DISTANCE_1', \n",
    "        'DISTANCE_2', 'ELEVATION', 'SALINITY', 'STATUS']\n",
    "count = 0\n",
    "\n",
    "# each storm in quad_df has 4 rows, each row with 3 readings\n",
    "# must split the dataset into 4 datasets for the diff hours of readings \n",
    "for i in range(0, len(quad_df)):\n",
    "    row = quad_df.iloc[i]\n",
    "    if count == 0:\n",
    "        d_1.append(row)\n",
    "        count += 1\n",
    "        continue\n",
    "    elif count == 1:\n",
    "        d_2.append(row)\n",
    "        count += 1\n",
    "        continue\n",
    "    elif count == 2:\n",
    "        d_3.append(row)\n",
    "        count += 1\n",
    "    else:\n",
    "        d_4.append(row)\n",
    "        count = 0\n",
    "\n",
    "df_1 = pd.DataFrame(d_1, columns=columns)\n",
    "df_2 = pd.DataFrame(d_2, columns=columns)\n",
    "df_3 = pd.DataFrame(d_3, columns=columns)\n",
    "df_4 = pd.DataFrame(d_4, columns=columns)"
   ]
  },
  {
   "cell_type": "code",
   "execution_count": 176,
   "metadata": {},
   "outputs": [
    {
     "name": "stdout",
     "output_type": "stream",
     "text": [
      "343 343 343 343\n"
     ]
    }
   ],
   "source": [
    "print(len(df_1), len(df_2), len(df_3), len(df_4))"
   ]
  },
  {
   "cell_type": "code",
   "execution_count": 177,
   "metadata": {},
   "outputs": [
    {
     "data": {
      "text/html": [
       "<div>\n",
       "<style scoped>\n",
       "    .dataframe tbody tr th:only-of-type {\n",
       "        vertical-align: middle;\n",
       "    }\n",
       "\n",
       "    .dataframe tbody tr th {\n",
       "        vertical-align: top;\n",
       "    }\n",
       "\n",
       "    .dataframe thead th {\n",
       "        text-align: right;\n",
       "    }\n",
       "</style>\n",
       "<table border=\"1\" class=\"dataframe\">\n",
       "  <thead>\n",
       "    <tr style=\"text-align: right;\">\n",
       "      <th></th>\n",
       "      <th>MAX_WINDSPEED_KT_0</th>\n",
       "      <th>MIN_PRESURE_MB_0</th>\n",
       "      <th>MAX_WINDSPEED_KT_1</th>\n",
       "      <th>MIN_PRESURE_MB_1</th>\n",
       "      <th>MAX_WINDSPEED_KT_2</th>\n",
       "      <th>MIN_PRESURE_MB_2</th>\n",
       "      <th>DISTANCE_1</th>\n",
       "      <th>DISTANCE_2</th>\n",
       "      <th>ELEVATION</th>\n",
       "      <th>SALINITY</th>\n",
       "      <th>STATUS</th>\n",
       "    </tr>\n",
       "  </thead>\n",
       "  <tbody>\n",
       "    <tr>\n",
       "      <th>0</th>\n",
       "      <td>25.0</td>\n",
       "      <td>1008.0</td>\n",
       "      <td>25.0</td>\n",
       "      <td>1007.0</td>\n",
       "      <td>25.0</td>\n",
       "      <td>1007.0</td>\n",
       "      <td>150.585735</td>\n",
       "      <td>151.692407</td>\n",
       "      <td>-5184.0</td>\n",
       "      <td>36.337440</td>\n",
       "      <td>0.0</td>\n",
       "    </tr>\n",
       "    <tr>\n",
       "      <th>4</th>\n",
       "      <td>30.0</td>\n",
       "      <td>1007.0</td>\n",
       "      <td>35.0</td>\n",
       "      <td>1007.0</td>\n",
       "      <td>35.0</td>\n",
       "      <td>1007.0</td>\n",
       "      <td>123.456902</td>\n",
       "      <td>66.518597</td>\n",
       "      <td>-5507.0</td>\n",
       "      <td>36.708382</td>\n",
       "      <td>0.0</td>\n",
       "    </tr>\n",
       "    <tr>\n",
       "      <th>8</th>\n",
       "      <td>30.0</td>\n",
       "      <td>1007.0</td>\n",
       "      <td>35.0</td>\n",
       "      <td>1005.0</td>\n",
       "      <td>40.0</td>\n",
       "      <td>1003.0</td>\n",
       "      <td>175.581336</td>\n",
       "      <td>198.821532</td>\n",
       "      <td>-5517.0</td>\n",
       "      <td>36.018860</td>\n",
       "      <td>1.0</td>\n",
       "    </tr>\n",
       "    <tr>\n",
       "      <th>12</th>\n",
       "      <td>25.0</td>\n",
       "      <td>1010.0</td>\n",
       "      <td>25.0</td>\n",
       "      <td>1009.0</td>\n",
       "      <td>30.0</td>\n",
       "      <td>1008.0</td>\n",
       "      <td>122.533747</td>\n",
       "      <td>112.739758</td>\n",
       "      <td>-4950.0</td>\n",
       "      <td>36.095264</td>\n",
       "      <td>1.0</td>\n",
       "    </tr>\n",
       "    <tr>\n",
       "      <th>16</th>\n",
       "      <td>25.0</td>\n",
       "      <td>1008.0</td>\n",
       "      <td>30.0</td>\n",
       "      <td>1007.0</td>\n",
       "      <td>30.0</td>\n",
       "      <td>1006.0</td>\n",
       "      <td>64.115232</td>\n",
       "      <td>73.669667</td>\n",
       "      <td>-3476.0</td>\n",
       "      <td>36.210266</td>\n",
       "      <td>0.0</td>\n",
       "    </tr>\n",
       "    <tr>\n",
       "      <th>...</th>\n",
       "      <td>...</td>\n",
       "      <td>...</td>\n",
       "      <td>...</td>\n",
       "      <td>...</td>\n",
       "      <td>...</td>\n",
       "      <td>...</td>\n",
       "      <td>...</td>\n",
       "      <td>...</td>\n",
       "      <td>...</td>\n",
       "      <td>...</td>\n",
       "      <td>...</td>\n",
       "    </tr>\n",
       "    <tr>\n",
       "      <th>1920</th>\n",
       "      <td>30.0</td>\n",
       "      <td>1008.0</td>\n",
       "      <td>35.0</td>\n",
       "      <td>1007.0</td>\n",
       "      <td>40.0</td>\n",
       "      <td>1005.0</td>\n",
       "      <td>166.385697</td>\n",
       "      <td>185.065687</td>\n",
       "      <td>-2544.0</td>\n",
       "      <td>36.060009</td>\n",
       "      <td>1.0</td>\n",
       "    </tr>\n",
       "    <tr>\n",
       "      <th>1924</th>\n",
       "      <td>25.0</td>\n",
       "      <td>1014.0</td>\n",
       "      <td>30.0</td>\n",
       "      <td>1013.0</td>\n",
       "      <td>30.0</td>\n",
       "      <td>1013.0</td>\n",
       "      <td>295.748598</td>\n",
       "      <td>285.486565</td>\n",
       "      <td>-4646.0</td>\n",
       "      <td>36.374409</td>\n",
       "      <td>0.0</td>\n",
       "    </tr>\n",
       "    <tr>\n",
       "      <th>1932</th>\n",
       "      <td>25.0</td>\n",
       "      <td>1010.0</td>\n",
       "      <td>25.0</td>\n",
       "      <td>1009.0</td>\n",
       "      <td>30.0</td>\n",
       "      <td>1009.0</td>\n",
       "      <td>216.250908</td>\n",
       "      <td>243.300089</td>\n",
       "      <td>-4770.0</td>\n",
       "      <td>36.122639</td>\n",
       "      <td>0.0</td>\n",
       "    </tr>\n",
       "    <tr>\n",
       "      <th>1936</th>\n",
       "      <td>35.0</td>\n",
       "      <td>1004.0</td>\n",
       "      <td>40.0</td>\n",
       "      <td>1001.0</td>\n",
       "      <td>45.0</td>\n",
       "      <td>997.0</td>\n",
       "      <td>69.618757</td>\n",
       "      <td>78.196129</td>\n",
       "      <td>-1587.0</td>\n",
       "      <td>36.257252</td>\n",
       "      <td>0.0</td>\n",
       "    </tr>\n",
       "    <tr>\n",
       "      <th>1944</th>\n",
       "      <td>25.0</td>\n",
       "      <td>1004.0</td>\n",
       "      <td>30.0</td>\n",
       "      <td>1003.0</td>\n",
       "      <td>35.0</td>\n",
       "      <td>1003.0</td>\n",
       "      <td>56.349110</td>\n",
       "      <td>88.542506</td>\n",
       "      <td>-1402.0</td>\n",
       "      <td>36.137878</td>\n",
       "      <td>0.0</td>\n",
       "    </tr>\n",
       "  </tbody>\n",
       "</table>\n",
       "<p>343 rows × 11 columns</p>\n",
       "</div>"
      ],
      "text/plain": [
       "      MAX_WINDSPEED_KT_0  MIN_PRESURE_MB_0  MAX_WINDSPEED_KT_1  \\\n",
       "0                   25.0            1008.0                25.0   \n",
       "4                   30.0            1007.0                35.0   \n",
       "8                   30.0            1007.0                35.0   \n",
       "12                  25.0            1010.0                25.0   \n",
       "16                  25.0            1008.0                30.0   \n",
       "...                  ...               ...                 ...   \n",
       "1920                30.0            1008.0                35.0   \n",
       "1924                25.0            1014.0                30.0   \n",
       "1932                25.0            1010.0                25.0   \n",
       "1936                35.0            1004.0                40.0   \n",
       "1944                25.0            1004.0                30.0   \n",
       "\n",
       "      MIN_PRESURE_MB_1  MAX_WINDSPEED_KT_2  MIN_PRESURE_MB_2  DISTANCE_1  \\\n",
       "0               1007.0                25.0            1007.0  150.585735   \n",
       "4               1007.0                35.0            1007.0  123.456902   \n",
       "8               1005.0                40.0            1003.0  175.581336   \n",
       "12              1009.0                30.0            1008.0  122.533747   \n",
       "16              1007.0                30.0            1006.0   64.115232   \n",
       "...                ...                 ...               ...         ...   \n",
       "1920            1007.0                40.0            1005.0  166.385697   \n",
       "1924            1013.0                30.0            1013.0  295.748598   \n",
       "1932            1009.0                30.0            1009.0  216.250908   \n",
       "1936            1001.0                45.0             997.0   69.618757   \n",
       "1944            1003.0                35.0            1003.0   56.349110   \n",
       "\n",
       "      DISTANCE_2  ELEVATION   SALINITY  STATUS  \n",
       "0     151.692407    -5184.0  36.337440     0.0  \n",
       "4      66.518597    -5507.0  36.708382     0.0  \n",
       "8     198.821532    -5517.0  36.018860     1.0  \n",
       "12    112.739758    -4950.0  36.095264     1.0  \n",
       "16     73.669667    -3476.0  36.210266     0.0  \n",
       "...          ...        ...        ...     ...  \n",
       "1920  185.065687    -2544.0  36.060009     1.0  \n",
       "1924  285.486565    -4646.0  36.374409     0.0  \n",
       "1932  243.300089    -4770.0  36.122639     0.0  \n",
       "1936   78.196129    -1587.0  36.257252     0.0  \n",
       "1944   88.542506    -1402.0  36.137878     0.0  \n",
       "\n",
       "[343 rows x 11 columns]"
      ]
     },
     "execution_count": 177,
     "metadata": {},
     "output_type": "execute_result"
    }
   ],
   "source": [
    "df_1"
   ]
  },
  {
   "cell_type": "markdown",
   "metadata": {},
   "source": [
    "\n",
    "## Early Predictions:\n",
    "####      I think the model performances will increase as the readings get closer to the 78th hour (4th dataset best, 1st worst). That being said, my hope is the 2nd or 3rd dataset will be sufficient enough in performance to reasonably conclude that one of the datasets with earlier readings is better than the 4th with readings from hrs [54, 60, 66] due to the amount of time prior to the readings in the 4th dataset."
   ]
  },
  {
   "cell_type": "markdown",
   "metadata": {},
   "source": [
    "## Naive Bayes df_1, df_2, df_3, df_4"
   ]
  },
  {
   "cell_type": "code",
   "execution_count": 178,
   "metadata": {},
   "outputs": [],
   "source": [
    "import matplotlib.pyplot as plt\n",
    "import seaborn as sn\n",
    "import numpy as np\n",
    "from sklearn.metrics import classification_report\n",
    "from sklearn.metrics import confusion_matrix\n",
    "from sklearn.model_selection import train_test_split\n",
    "# importing the scikit-learn implementation of the naive Bayes classifier\n",
    "from sklearn.naive_bayes import GaussianNB\n",
    "\n",
    "from sklearn.linear_model import LogisticRegression"
   ]
  },
  {
   "cell_type": "code",
   "execution_count": 229,
   "metadata": {},
   "outputs": [],
   "source": [
    "def NaiveBayes(data, target):\n",
    "    \n",
    "    trainX, testX, trainY, testY = train_test_split(data, target, test_size = 0.25, random_state=24)\n",
    "\n",
    "    # build the Naive Bayes classifier\n",
    "    model = GaussianNB()\n",
    "    # fit the Naive Bayes classifier to the training data\n",
    "    model.fit(trainX, trainY)\n",
    "\n",
    "    # predict the labels of the test set\n",
    "    predictedY = model.predict(testX)\n",
    "\n",
    "\n",
    "    # print quality metrics\n",
    "    print('\\nClassification Report:\\n\\n', classification_report(testY, predictedY))\n",
    "    print('\\nConfusion Matrix:\\n')\n",
    "\n",
    "    sn.heatmap(confusion_matrix(testY, predictedY), annot = True)"
   ]
  },
  {
   "cell_type": "code",
   "execution_count": 230,
   "metadata": {},
   "outputs": [
    {
     "name": "stdout",
     "output_type": "stream",
     "text": [
      "\n",
      "Classification Report:\n",
      "\n",
      "               precision    recall  f1-score   support\n",
      "\n",
      "         0.0       0.67      0.60      0.63        47\n",
      "         1.0       0.57      0.64      0.60        39\n",
      "\n",
      "    accuracy                           0.62        86\n",
      "   macro avg       0.62      0.62      0.62        86\n",
      "weighted avg       0.62      0.62      0.62        86\n",
      "\n",
      "\n",
      "Confusion Matrix:\n",
      "\n"
     ]
    },
    {
     "data": {
      "image/png": "[encoded data removed]",
      "text/plain": [
       "<Figure size 640x480 with 2 Axes>"
      ]
     },
     "metadata": {},
     "output_type": "display_data"
    }
   ],
   "source": [
    "target_1 = df_1['STATUS'].to_numpy()\n",
    "data_1 = df_1.drop(columns=['STATUS']).to_numpy()\n",
    "\n",
    "NaiveBayes(data_1, target_1)"
   ]
  },
  {
   "cell_type": "code",
   "execution_count": 231,
   "metadata": {},
   "outputs": [
    {
     "name": "stdout",
     "output_type": "stream",
     "text": [
      "\n",
      "Classification Report:\n",
      "\n",
      "               precision    recall  f1-score   support\n",
      "\n",
      "         0.0       0.50      0.02      0.04        47\n",
      "         1.0       0.45      0.97      0.62        39\n",
      "\n",
      "    accuracy                           0.45        86\n",
      "   macro avg       0.48      0.50      0.33        86\n",
      "weighted avg       0.48      0.45      0.30        86\n",
      "\n",
      "\n",
      "Confusion Matrix:\n",
      "\n"
     ]
    },
    {
     "data": {
      "image/png": "[encoded data removed]",
      "text/plain": [
       "<Figure size 640x480 with 2 Axes>"
      ]
     },
     "metadata": {},
     "output_type": "display_data"
    }
   ],
   "source": [
    "target_2 = df_2['STATUS'].to_numpy()\n",
    "data_2 = df_2.drop(columns=['STATUS']).to_numpy()\n",
    "NaiveBayes(data_2, target_2)"
   ]
  },
  {
   "cell_type": "code",
   "execution_count": 232,
   "metadata": {},
   "outputs": [
    {
     "name": "stdout",
     "output_type": "stream",
     "text": [
      "\n",
      "Classification Report:\n",
      "\n",
      "               precision    recall  f1-score   support\n",
      "\n",
      "         0.0       0.85      0.83      0.84        47\n",
      "         1.0       0.80      0.82      0.81        39\n",
      "\n",
      "    accuracy                           0.83        86\n",
      "   macro avg       0.82      0.83      0.82        86\n",
      "weighted avg       0.83      0.83      0.83        86\n",
      "\n",
      "\n",
      "Confusion Matrix:\n",
      "\n"
     ]
    },
    {
     "data": {
      "image/png": "[encoded data removed]",
      "text/plain": [
       "<Figure size 640x480 with 2 Axes>"
      ]
     },
     "metadata": {},
     "output_type": "display_data"
    }
   ],
   "source": [
    "target_3 = df_3['STATUS'].to_numpy()\n",
    "data_3 = df_3.drop(columns=['STATUS']).to_numpy()\n",
    "NaiveBayes(data_3, target_3)"
   ]
  },
  {
   "cell_type": "code",
   "execution_count": 233,
   "metadata": {},
   "outputs": [
    {
     "name": "stdout",
     "output_type": "stream",
     "text": [
      "\n",
      "Classification Report:\n",
      "\n",
      "               precision    recall  f1-score   support\n",
      "\n",
      "         0.0       0.88      0.89      0.88        47\n",
      "         1.0       0.87      0.85      0.86        39\n",
      "\n",
      "    accuracy                           0.87        86\n",
      "   macro avg       0.87      0.87      0.87        86\n",
      "weighted avg       0.87      0.87      0.87        86\n",
      "\n",
      "\n",
      "Confusion Matrix:\n",
      "\n"
     ]
    },
    {
     "data": {
      "image/png": "[encoded data removed]",
      "text/plain": [
       "<Figure size 640x480 with 2 Axes>"
      ]
     },
     "metadata": {},
     "output_type": "display_data"
    }
   ],
   "source": [
    "target_4 = df_4['STATUS'].to_numpy()\n",
    "data_4 = df_4.drop(columns=['STATUS']).to_numpy()\n",
    "NaiveBayes(data_4, target_4)"
   ]
  },
  {
   "cell_type": "markdown",
   "metadata": {},
   "source": [
    "## Although the final dataset (hrs [54,60,66]) have the best predictions for the status of the storm at hr 78, the third dataset (hrs [36, 42, 48]) comes close in accuracy with only a 4% difference. Based on the Naive Bayes Classifier, I would say the third dataset, ([36, 42, 48]) is the better for real-world use becasue it is similar in terms of predicting accuracy, and it is 18 hours earlier than the final dataset, allowing earlier notice whether the storm is a tropical storm=0, or a hurricane=1\n"
   ]
  },
  {
   "cell_type": "markdown",
   "metadata": {},
   "source": [
    "# LogisticRegression df_1, df_2, df_3, df_4"
   ]
  },
  {
   "cell_type": "code",
   "execution_count": 184,
   "metadata": {},
   "outputs": [],
   "source": [
    "from sklearn.model_selection import GridSearchCV"
   ]
  },
  {
   "cell_type": "code",
   "execution_count": 185,
   "metadata": {},
   "outputs": [],
   "source": [
    "def LogisticReg(data, target):\n",
    "\n",
    "    trainX, testX, trainY, testY = train_test_split(data, target, test_size = 0.25, random_state=24)\n",
    "\n",
    "    param_grid = {\n",
    "        'C': [0.01, 0.1, 1, 10, 100],\n",
    "        'penalty': ['l1', 'l2']\n",
    "    }\n",
    "\n",
    "    # init the logistic regression model\n",
    "    logreg = LogisticRegression(max_iter=10000, solver='liblinear', random_state=24)\n",
    "\n",
    "    # init GridSearchCV\n",
    "    model = GridSearchCV(estimator=logreg, param_grid=param_grid, cv=5, scoring='accuracy')\n",
    "\n",
    "    model.fit(trainX, trainY)\n",
    "\n",
    "    print(\"Best parameters:\", model.best_params_)\n",
    "\n",
    "    # use best model to predict\n",
    "    best_model = model.best_estimator_\n",
    "    predictedY = best_model.predict(testX)\n",
    "\n",
    "    # print quality metrics\n",
    "    print('\\nClassification Report:\\n\\n', classification_report(testY, predictedY))\n",
    "    print('\\nConfusion Matrix:\\n')\n",
    "    sn.heatmap(confusion_matrix(testY, predictedY), annot=True)"
   ]
  },
  {
   "cell_type": "code",
   "execution_count": 186,
   "metadata": {},
   "outputs": [
    {
     "name": "stdout",
     "output_type": "stream",
     "text": [
      "Best parameters: {'C': 1, 'penalty': 'l1'}\n",
      "\n",
      "Classification Report:\n",
      "\n",
      "               precision    recall  f1-score   support\n",
      "\n",
      "         0.0       0.58      0.85      0.69        47\n",
      "         1.0       0.59      0.26      0.36        39\n",
      "\n",
      "    accuracy                           0.58        86\n",
      "   macro avg       0.58      0.55      0.52        86\n",
      "weighted avg       0.58      0.58      0.54        86\n",
      "\n",
      "\n",
      "Confusion Matrix:\n",
      "\n"
     ]
    },
    {
     "data": {
      "image/png": "[encoded data removed]",
      "text/plain": [
       "<Figure size 640x480 with 2 Axes>"
      ]
     },
     "metadata": {},
     "output_type": "display_data"
    }
   ],
   "source": [
    "LogisticReg(data_1, target_1)"
   ]
  },
  {
   "cell_type": "code",
   "execution_count": 187,
   "metadata": {},
   "outputs": [
    {
     "name": "stdout",
     "output_type": "stream",
     "text": [
      "Best parameters: {'C': 1, 'penalty': 'l1'}\n",
      "\n",
      "Classification Report:\n",
      "\n",
      "               precision    recall  f1-score   support\n",
      "\n",
      "         0.0       0.73      0.94      0.82        47\n",
      "         1.0       0.88      0.59      0.71        39\n",
      "\n",
      "    accuracy                           0.78        86\n",
      "   macro avg       0.81      0.76      0.77        86\n",
      "weighted avg       0.80      0.78      0.77        86\n",
      "\n",
      "\n",
      "Confusion Matrix:\n",
      "\n"
     ]
    },
    {
     "data": {
      "image/png": "[encoded data removed]",
      "text/plain": [
       "<Figure size 640x480 with 2 Axes>"
      ]
     },
     "metadata": {},
     "output_type": "display_data"
    }
   ],
   "source": [
    "LogisticReg(data_2, target_2)"
   ]
  },
  {
   "cell_type": "code",
   "execution_count": 188,
   "metadata": {},
   "outputs": [
    {
     "name": "stdout",
     "output_type": "stream",
     "text": [
      "Best parameters: {'C': 100, 'penalty': 'l1'}\n",
      "\n",
      "Classification Report:\n",
      "\n",
      "               precision    recall  f1-score   support\n",
      "\n",
      "         0.0       0.87      0.96      0.91        47\n",
      "         1.0       0.94      0.82      0.88        39\n",
      "\n",
      "    accuracy                           0.90        86\n",
      "   macro avg       0.90      0.89      0.89        86\n",
      "weighted avg       0.90      0.90      0.89        86\n",
      "\n",
      "\n",
      "Confusion Matrix:\n",
      "\n"
     ]
    },
    {
     "data": {
      "image/png": "[encoded data removed]",
      "text/plain": [
       "<Figure size 640x480 with 2 Axes>"
      ]
     },
     "metadata": {},
     "output_type": "display_data"
    }
   ],
   "source": [
    "LogisticReg(data_3, target_3)"
   ]
  },
  {
   "cell_type": "code",
   "execution_count": 189,
   "metadata": {},
   "outputs": [
    {
     "name": "stdout",
     "output_type": "stream",
     "text": [
      "Best parameters: {'C': 0.01, 'penalty': 'l2'}\n",
      "\n",
      "Classification Report:\n",
      "\n",
      "               precision    recall  f1-score   support\n",
      "\n",
      "         0.0       0.88      0.94      0.91        47\n",
      "         1.0       0.92      0.85      0.88        39\n",
      "\n",
      "    accuracy                           0.90        86\n",
      "   macro avg       0.90      0.89      0.89        86\n",
      "weighted avg       0.90      0.90      0.89        86\n",
      "\n",
      "\n",
      "Confusion Matrix:\n",
      "\n"
     ]
    },
    {
     "data": {
      "image/png": "[encoded data removed]",
      "text/plain": [
       "<Figure size 640x480 with 2 Axes>"
      ]
     },
     "metadata": {},
     "output_type": "display_data"
    }
   ],
   "source": [
    "LogisticReg(data_4, target_4)"
   ]
  },
  {
   "cell_type": "markdown",
   "metadata": {},
   "source": [
    "## The first dataset (hrs [0,6,12]) had a very bad outcome, but it is expected, as there are 66 hours of readings in between the 12th hour and the 78th hour. The second dataset (hrs [18,24,30]) surprised me with a 78% accuracy, which was not really expected due to the 2-day gap in time from hr 30-78. This is promising, as a 2-day warning on storm status could be very useful. The final dataset (hrs [54,60,66]) and the third dataset (hrs [36, 42, 48]) have the best predictions for the status of the storm at hr 78 with a tie in accuracy of 90%. Based on the tuned Logistic Regression Classifier (tuned the C value and regularization params), I would say the third dataset, ([36, 42, 48]) is the better for real-world use becasue it is equal in terms of predicting accuracy, and it is 18 hours earlier than the final dataset, allowing earlier notice whether the storm is a tropical storm=0, or a hurricane=1.\n"
   ]
  },
  {
   "cell_type": "markdown",
   "metadata": {},
   "source": [
    "# Untuned Decision Tree df_1, df_2, df_3, df_4"
   ]
  },
  {
   "cell_type": "code",
   "execution_count": 190,
   "metadata": {},
   "outputs": [],
   "source": [
    "from sklearn.tree import DecisionTreeClassifier"
   ]
  },
  {
   "cell_type": "code",
   "execution_count": 191,
   "metadata": {},
   "outputs": [],
   "source": [
    "def DecisTree(data, target):\n",
    "    \n",
    "    trainX, testX, trainY, testY = train_test_split(data, target, test_size = 0.25, random_state=24)\n",
    "\n",
    "    clf = DecisionTreeClassifier(random_state=24).fit(trainX, trainY)\n",
    "\n",
    "    predictedY = clf.predict(trainX)\n",
    "    print('\\nTraining Classification Report:\\n\\n', classification_report(trainY, predictedY))\n",
    "    # predict the labels of the test set\n",
    "    predictedY = clf.predict(testX)\n",
    "\n",
    "    # print quality metrics\n",
    "    print('\\nTesting Classification Report:\\n\\n', classification_report(testY, predictedY))\n",
    "    sn.heatmap(confusion_matrix(testY, predictedY), annot=True)\n",
    "    plt.figure()"
   ]
  },
  {
   "cell_type": "code",
   "execution_count": 192,
   "metadata": {},
   "outputs": [
    {
     "name": "stdout",
     "output_type": "stream",
     "text": [
      "\n",
      "Training Classification Report:\n",
      "\n",
      "               precision    recall  f1-score   support\n",
      "\n",
      "         0.0       1.00      1.00      1.00       156\n",
      "         1.0       1.00      1.00      1.00       101\n",
      "\n",
      "    accuracy                           1.00       257\n",
      "   macro avg       1.00      1.00      1.00       257\n",
      "weighted avg       1.00      1.00      1.00       257\n",
      "\n",
      "\n",
      "Testing Classification Report:\n",
      "\n",
      "               precision    recall  f1-score   support\n",
      "\n",
      "         0.0       0.59      0.77      0.67        47\n",
      "         1.0       0.56      0.36      0.44        39\n",
      "\n",
      "    accuracy                           0.58        86\n",
      "   macro avg       0.58      0.56      0.55        86\n",
      "weighted avg       0.58      0.58      0.56        86\n",
      "\n"
     ]
    },
    {
     "data": {
      "image/png": "[encoded data removed]",
      "text/plain": [
       "<Figure size 640x480 with 2 Axes>"
      ]
     },
     "metadata": {},
     "output_type": "display_data"
    },
    {
     "data": {
      "text/plain": [
       "<Figure size 640x480 with 0 Axes>"
      ]
     },
     "metadata": {},
     "output_type": "display_data"
    }
   ],
   "source": [
    "DecisTree(data_1, target_1)"
   ]
  },
  {
   "cell_type": "code",
   "execution_count": 193,
   "metadata": {},
   "outputs": [
    {
     "name": "stdout",
     "output_type": "stream",
     "text": [
      "\n",
      "Training Classification Report:\n",
      "\n",
      "               precision    recall  f1-score   support\n",
      "\n",
      "         0.0       1.00      1.00      1.00       156\n",
      "         1.0       1.00      1.00      1.00       101\n",
      "\n",
      "    accuracy                           1.00       257\n",
      "   macro avg       1.00      1.00      1.00       257\n",
      "weighted avg       1.00      1.00      1.00       257\n",
      "\n",
      "\n",
      "Testing Classification Report:\n",
      "\n",
      "               precision    recall  f1-score   support\n",
      "\n",
      "         0.0       0.67      0.74      0.71        47\n",
      "         1.0       0.65      0.56      0.60        39\n",
      "\n",
      "    accuracy                           0.66        86\n",
      "   macro avg       0.66      0.65      0.65        86\n",
      "weighted avg       0.66      0.66      0.66        86\n",
      "\n"
     ]
    },
    {
     "data": {
      "image/png": "[encoded data removed]",
      "text/plain": [
       "<Figure size 640x480 with 2 Axes>"
      ]
     },
     "metadata": {},
     "output_type": "display_data"
    },
    {
     "data": {
      "text/plain": [
       "<Figure size 640x480 with 0 Axes>"
      ]
     },
     "metadata": {},
     "output_type": "display_data"
    }
   ],
   "source": [
    "DecisTree(data_2, target_2)"
   ]
  },
  {
   "cell_type": "code",
   "execution_count": 194,
   "metadata": {},
   "outputs": [
    {
     "name": "stdout",
     "output_type": "stream",
     "text": [
      "\n",
      "Training Classification Report:\n",
      "\n",
      "               precision    recall  f1-score   support\n",
      "\n",
      "         0.0       1.00      1.00      1.00       156\n",
      "         1.0       1.00      1.00      1.00       101\n",
      "\n",
      "    accuracy                           1.00       257\n",
      "   macro avg       1.00      1.00      1.00       257\n",
      "weighted avg       1.00      1.00      1.00       257\n",
      "\n",
      "\n",
      "Testing Classification Report:\n",
      "\n",
      "               precision    recall  f1-score   support\n",
      "\n",
      "         0.0       0.82      0.79      0.80        47\n",
      "         1.0       0.76      0.79      0.78        39\n",
      "\n",
      "    accuracy                           0.79        86\n",
      "   macro avg       0.79      0.79      0.79        86\n",
      "weighted avg       0.79      0.79      0.79        86\n",
      "\n"
     ]
    },
    {
     "data": {
      "image/png": "[encoded data removed]",
      "text/plain": [
       "<Figure size 640x480 with 2 Axes>"
      ]
     },
     "metadata": {},
     "output_type": "display_data"
    },
    {
     "data": {
      "text/plain": [
       "<Figure size 640x480 with 0 Axes>"
      ]
     },
     "metadata": {},
     "output_type": "display_data"
    }
   ],
   "source": [
    "DecisTree(data_3, target_3)"
   ]
  },
  {
   "cell_type": "code",
   "execution_count": 196,
   "metadata": {},
   "outputs": [
    {
     "name": "stdout",
     "output_type": "stream",
     "text": [
      "\n",
      "Training Classification Report:\n",
      "\n",
      "               precision    recall  f1-score   support\n",
      "\n",
      "         0.0       1.00      1.00      1.00       156\n",
      "         1.0       1.00      1.00      1.00       101\n",
      "\n",
      "    accuracy                           1.00       257\n",
      "   macro avg       1.00      1.00      1.00       257\n",
      "weighted avg       1.00      1.00      1.00       257\n",
      "\n",
      "\n",
      "Testing Classification Report:\n",
      "\n",
      "               precision    recall  f1-score   support\n",
      "\n",
      "         0.0       0.79      0.89      0.84        47\n",
      "         1.0       0.85      0.72      0.78        39\n",
      "\n",
      "    accuracy                           0.81        86\n",
      "   macro avg       0.82      0.81      0.81        86\n",
      "weighted avg       0.82      0.81      0.81        86\n",
      "\n"
     ]
    },
    {
     "data": {
      "image/png": "[encoded data removed]",
      "text/plain": [
       "<Figure size 640x480 with 2 Axes>"
      ]
     },
     "metadata": {},
     "output_type": "display_data"
    },
    {
     "data": {
      "text/plain": [
       "<Figure size 640x480 with 0 Axes>"
      ]
     },
     "metadata": {},
     "output_type": "display_data"
    }
   ],
   "source": [
    "DecisTree(data_4, target_4)"
   ]
  },
  {
   "cell_type": "markdown",
   "metadata": {},
   "source": [
    "## Like the Naive Bayes Classifier, the final dataset (hrs [54,60,66]) has the best predictions for the status of the storm at hr 78, the third dataset (hrs [36, 42, 48]) comes close in accuracy with only a 2% difference. Based on the untuned Decision Tree, I would say the third dataset, ([36, 42, 48]) is the better for real-world use becasue it is similar in terms of predicting accuracy, and it is 18 hours earlier than the final dataset, allowing more early notice whether the storm is a tropical storm=0, or a hurricane=1. The first two datasets performed poorly, with a 58% accuracy and a 66% accuracy.\n"
   ]
  },
  {
   "cell_type": "markdown",
   "metadata": {},
   "source": [
    "# Decision Tree with Cost-Complexity Pruning df_1, df_2, df_3, df_4"
   ]
  },
  {
   "cell_type": "code",
   "execution_count": 197,
   "metadata": {},
   "outputs": [],
   "source": [
    "def ccp_DecisTree(data, target):    \n",
    "    \n",
    "    X_train, X_test, y_train, y_test = train_test_split(data, target, random_state=24)\n",
    "\n",
    "    # create the classifier\n",
    "    clf = DecisionTreeClassifier(random_state=24)\n",
    "\n",
    "    # do cost-complexity pruning\n",
    "    path = clf.cost_complexity_pruning_path(X_train, y_train)\n",
    "    ccp_alphas, impurities = path.ccp_alphas, path.impurities\n",
    "\n",
    "    # plotting the impurities for different alphas\n",
    "    fig, ax = plt.subplots()\n",
    "    ax.plot(ccp_alphas[:-1], impurities[:-1], marker='o', drawstyle=\"steps-post\")\n",
    "    ax.set_xlabel(\"effective alpha\")\n",
    "    ax.set_ylabel(\"total impurity of leaves\")\n",
    "    ax.set_title(\"Total Impurity vs effective alpha for training set\")\n",
    "\n",
    "    clfs = []\n",
    "    for ccp_alpha in ccp_alphas:\n",
    "        clf = DecisionTreeClassifier(random_state=0, ccp_alpha=ccp_alpha)\n",
    "        clf.fit(X_train, y_train)\n",
    "        clfs.append(clf)\n",
    "\n",
    "    print(\"Number of nodes in the last tree is: {} with ccp_alpha: {}\".format(\n",
    "        clfs[-1].tree_.node_count, ccp_alphas[-1]))\n",
    "\n",
    "    clfs = clfs[:-1]\n",
    "    ccp_alphas = ccp_alphas[:-1]\n",
    "\n",
    "    node_counts = [clf.tree_.node_count for clf in clfs]\n",
    "    depth = [clf.tree_.max_depth for clf in clfs]\n",
    "    fig, ax = plt.subplots(2, 1)\n",
    "    ax[0].plot(ccp_alphas, node_counts, marker='o', drawstyle=\"steps-post\")\n",
    "    ax[0].set_xlabel(\"alpha\")\n",
    "    ax[0].set_ylabel(\"number of nodes\")\n",
    "    ax[0].set_title(\"Number of nodes vs alpha\")\n",
    "    ax[1].plot(ccp_alphas, depth, marker='o', drawstyle=\"steps-post\")\n",
    "    ax[1].set_xlabel(\"alpha\")\n",
    "    ax[1].set_ylabel(\"depth of tree\")\n",
    "    ax[1].set_title(\"Depth vs alpha\")\n",
    "    fig.tight_layout()\n",
    "\n",
    "    train_scores = [clf.score(X_train, y_train) for clf in clfs]\n",
    "    test_scores = [clf.score(X_test, y_test) for clf in clfs]\n",
    "\n",
    "    fig, ax = plt.subplots()\n",
    "    ax.set_xlabel(\"alpha\")\n",
    "    ax.set_ylabel(\"accuracy\")\n",
    "    ax.set_title(\"Accuracy vs alpha for training and testing sets\")\n",
    "    ax.plot(ccp_alphas, train_scores, marker='o', label=\"train\",\n",
    "            drawstyle=\"steps-post\")\n",
    "    ax.plot(ccp_alphas, test_scores, marker='o', label=\"test\",\n",
    "            drawstyle=\"steps-post\")\n",
    "    ax.legend()\n",
    "    plt.show()\n",
    "    return X_train, X_test, y_train, y_test"
   ]
  },
  {
   "cell_type": "code",
   "execution_count": 198,
   "metadata": {},
   "outputs": [],
   "source": [
    "def DecisTree_ccp_alpha(trainX, trainY, testX, testY, alpha):\n",
    "    \n",
    "    clf = DecisionTreeClassifier(random_state=24, ccp_alpha=alpha).fit(trainX, trainY)\n",
    "\n",
    "    predictedY = clf.predict(trainX)\n",
    "    print('\\nTraining Classification Report:\\n\\n', classification_report(trainY, predictedY))\n",
    "    # predict the labels of the test set\n",
    "    predictedY = clf.predict(testX)\n",
    "\n",
    "    # print quality metrics\n",
    "    print('\\nTesting Classification Report:\\n\\n', classification_report(testY, predictedY))\n",
    "    sn.heatmap(confusion_matrix(testY, predictedY), annot=True)\n",
    "    plt.figure()\n"
   ]
  },
  {
   "cell_type": "code",
   "execution_count": 199,
   "metadata": {},
   "outputs": [
    {
     "name": "stdout",
     "output_type": "stream",
     "text": [
      "Number of nodes in the last tree is: 1 with ccp_alpha: 0.05714977792739667\n"
     ]
    },
    {
     "data": {
      "image/png": "[encoded data removed]",
      "text/plain": [
       "<Figure size 640x480 with 1 Axes>"
      ]
     },
     "metadata": {},
     "output_type": "display_data"
    },
    {
     "data": {
      "image/png": "[encoded data removed]",
      "text/plain": [
       "<Figure size 640x480 with 2 Axes>"
      ]
     },
     "metadata": {},
     "output_type": "display_data"
    },
    {
     "data": {
      "image/png": "[encoded data removed]",
      "text/plain": [
       "<Figure size 640x480 with 1 Axes>"
      ]
     },
     "metadata": {},
     "output_type": "display_data"
    }
   ],
   "source": [
    "X_train, X_test, y_train, y_test = ccp_DecisTree(data_1, target_1)"
   ]
  },
  {
   "cell_type": "code",
   "execution_count": 200,
   "metadata": {},
   "outputs": [
    {
     "name": "stdout",
     "output_type": "stream",
     "text": [
      "\n",
      "Training Classification Report:\n",
      "\n",
      "               precision    recall  f1-score   support\n",
      "\n",
      "         0.0       0.81      0.56      0.66       156\n",
      "         1.0       0.54      0.79      0.64       101\n",
      "\n",
      "    accuracy                           0.65       257\n",
      "   macro avg       0.67      0.67      0.65       257\n",
      "weighted avg       0.70      0.65      0.65       257\n",
      "\n",
      "\n",
      "Testing Classification Report:\n",
      "\n",
      "               precision    recall  f1-score   support\n",
      "\n",
      "         0.0       0.65      0.55      0.60        47\n",
      "         1.0       0.54      0.64      0.59        39\n",
      "\n",
      "    accuracy                           0.59        86\n",
      "   macro avg       0.60      0.60      0.59        86\n",
      "weighted avg       0.60      0.59      0.59        86\n",
      "\n"
     ]
    },
    {
     "data": {
      "image/png": "[encoded data removed]",
      "text/plain": [
       "<Figure size 640x480 with 2 Axes>"
      ]
     },
     "metadata": {},
     "output_type": "display_data"
    },
    {
     "data": {
      "text/plain": [
       "<Figure size 640x480 with 0 Axes>"
      ]
     },
     "metadata": {},
     "output_type": "display_data"
    }
   ],
   "source": [
    "DecisTree_ccp_alpha(X_train, y_train, X_test, y_test, 0.012)"
   ]
  },
  {
   "cell_type": "code",
   "execution_count": 201,
   "metadata": {},
   "outputs": [
    {
     "name": "stdout",
     "output_type": "stream",
     "text": [
      "Number of nodes in the last tree is: 1 with ccp_alpha: 0.11185949932830819\n"
     ]
    },
    {
     "data": {
      "image/png": "[encoded data removed]",
      "text/plain": [
       "<Figure size 640x480 with 1 Axes>"
      ]
     },
     "metadata": {},
     "output_type": "display_data"
    },
    {
     "data": {
      "image/png": "[encoded data removed]",
      "text/plain": [
       "<Figure size 640x480 with 2 Axes>"
      ]
     },
     "metadata": {},
     "output_type": "display_data"
    },
    {
     "data": {
      "image/png": "[encoded data removed]",
      "text/plain": [
       "<Figure size 640x480 with 1 Axes>"
      ]
     },
     "metadata": {},
     "output_type": "display_data"
    }
   ],
   "source": [
    "X_train, X_test, y_train, y_test = ccp_DecisTree(data_2, target_2)"
   ]
  },
  {
   "cell_type": "code",
   "execution_count": 202,
   "metadata": {},
   "outputs": [
    {
     "name": "stdout",
     "output_type": "stream",
     "text": [
      "\n",
      "Training Classification Report:\n",
      "\n",
      "               precision    recall  f1-score   support\n",
      "\n",
      "         0.0       0.78      0.88      0.83       156\n",
      "         1.0       0.78      0.61      0.69       101\n",
      "\n",
      "    accuracy                           0.78       257\n",
      "   macro avg       0.78      0.75      0.76       257\n",
      "weighted avg       0.78      0.78      0.77       257\n",
      "\n",
      "\n",
      "Testing Classification Report:\n",
      "\n",
      "               precision    recall  f1-score   support\n",
      "\n",
      "         0.0       0.70      0.94      0.80        47\n",
      "         1.0       0.87      0.51      0.65        39\n",
      "\n",
      "    accuracy                           0.74        86\n",
      "   macro avg       0.78      0.72      0.72        86\n",
      "weighted avg       0.78      0.74      0.73        86\n",
      "\n"
     ]
    },
    {
     "data": {
      "image/png": "[encoded data removed]",
      "text/plain": [
       "<Figure size 640x480 with 2 Axes>"
      ]
     },
     "metadata": {},
     "output_type": "display_data"
    },
    {
     "data": {
      "text/plain": [
       "<Figure size 640x480 with 0 Axes>"
      ]
     },
     "metadata": {},
     "output_type": "display_data"
    }
   ],
   "source": [
    "DecisTree_ccp_alpha(X_train, y_train, X_test, y_test, 0.01)"
   ]
  },
  {
   "cell_type": "code",
   "execution_count": 203,
   "metadata": {},
   "outputs": [
    {
     "name": "stdout",
     "output_type": "stream",
     "text": [
      "Number of nodes in the last tree is: 1 with ccp_alpha: 0.2652158134087475\n"
     ]
    },
    {
     "data": {
      "image/png": "[encoded data removed]",
      "text/plain": [
       "<Figure size 640x480 with 1 Axes>"
      ]
     },
     "metadata": {},
     "output_type": "display_data"
    },
    {
     "data": {
      "image/png": "[encoded data removed]",
      "text/plain": [
       "<Figure size 640x480 with 2 Axes>"
      ]
     },
     "metadata": {},
     "output_type": "display_data"
    },
    {
     "data": {
      "image/png": "[encoded data removed]",
      "text/plain": [
       "<Figure size 640x480 with 1 Axes>"
      ]
     },
     "metadata": {},
     "output_type": "display_data"
    }
   ],
   "source": [
    "X_train, X_test, y_train, y_test = ccp_DecisTree(data_3, target_3)"
   ]
  },
  {
   "cell_type": "code",
   "execution_count": 204,
   "metadata": {},
   "outputs": [
    {
     "name": "stdout",
     "output_type": "stream",
     "text": [
      "\n",
      "Training Classification Report:\n",
      "\n",
      "               precision    recall  f1-score   support\n",
      "\n",
      "         0.0       0.87      0.94      0.90       156\n",
      "         1.0       0.90      0.78      0.84       101\n",
      "\n",
      "    accuracy                           0.88       257\n",
      "   macro avg       0.88      0.86      0.87       257\n",
      "weighted avg       0.88      0.88      0.88       257\n",
      "\n",
      "\n",
      "Testing Classification Report:\n",
      "\n",
      "               precision    recall  f1-score   support\n",
      "\n",
      "         0.0       0.85      0.94      0.89        47\n",
      "         1.0       0.91      0.79      0.85        39\n",
      "\n",
      "    accuracy                           0.87        86\n",
      "   macro avg       0.88      0.87      0.87        86\n",
      "weighted avg       0.88      0.87      0.87        86\n",
      "\n"
     ]
    },
    {
     "data": {
      "image/png": "[encoded data removed]",
      "text/plain": [
       "<Figure size 640x480 with 2 Axes>"
      ]
     },
     "metadata": {},
     "output_type": "display_data"
    },
    {
     "data": {
      "text/plain": [
       "<Figure size 640x480 with 0 Axes>"
      ]
     },
     "metadata": {},
     "output_type": "display_data"
    }
   ],
   "source": [
    "DecisTree_ccp_alpha(X_train, y_train, X_test, y_test, 0.0122)"
   ]
  },
  {
   "cell_type": "code",
   "execution_count": 205,
   "metadata": {},
   "outputs": [
    {
     "name": "stdout",
     "output_type": "stream",
     "text": [
      "Number of nodes in the last tree is: 1 with ccp_alpha: 0.3444301883668328\n"
     ]
    },
    {
     "data": {
      "image/png": "[encoded data removed]",
      "text/plain": [
       "<Figure size 640x480 with 1 Axes>"
      ]
     },
     "metadata": {},
     "output_type": "display_data"
    },
    {
     "data": {
      "image/png": "[encoded data removed]",
      "text/plain": [
       "<Figure size 640x480 with 2 Axes>"
      ]
     },
     "metadata": {},
     "output_type": "display_data"
    },
    {
     "data": {
      "image/png": "[encoded data removed]",
      "text/plain": [
       "<Figure size 640x480 with 1 Axes>"
      ]
     },
     "metadata": {},
     "output_type": "display_data"
    }
   ],
   "source": [
    "X_train, X_test, y_train, y_test = ccp_DecisTree(data_4, target_4)"
   ]
  },
  {
   "cell_type": "code",
   "execution_count": 206,
   "metadata": {},
   "outputs": [
    {
     "name": "stdout",
     "output_type": "stream",
     "text": [
      "\n",
      "Training Classification Report:\n",
      "\n",
      "               precision    recall  f1-score   support\n",
      "\n",
      "         0.0       0.97      0.92      0.94       156\n",
      "         1.0       0.89      0.95      0.92       101\n",
      "\n",
      "    accuracy                           0.93       257\n",
      "   macro avg       0.93      0.94      0.93       257\n",
      "weighted avg       0.94      0.93      0.93       257\n",
      "\n",
      "\n",
      "Testing Classification Report:\n",
      "\n",
      "               precision    recall  f1-score   support\n",
      "\n",
      "         0.0       0.90      0.91      0.91        47\n",
      "         1.0       0.89      0.87      0.88        39\n",
      "\n",
      "    accuracy                           0.90        86\n",
      "   macro avg       0.90      0.89      0.89        86\n",
      "weighted avg       0.90      0.90      0.90        86\n",
      "\n"
     ]
    },
    {
     "data": {
      "image/png": "[encoded data removed]",
      "text/plain": [
       "<Figure size 640x480 with 2 Axes>"
      ]
     },
     "metadata": {},
     "output_type": "display_data"
    },
    {
     "data": {
      "text/plain": [
       "<Figure size 640x480 with 0 Axes>"
      ]
     },
     "metadata": {},
     "output_type": "display_data"
    }
   ],
   "source": [
    "DecisTree_ccp_alpha(X_train, y_train, X_test, y_test, 0.012)"
   ]
  },
  {
   "cell_type": "markdown",
   "metadata": {},
   "source": [
    "## After introducing Cost Complexity Pruning to the decision tree to simplify the trees, there was a moderate jump in accuracy for datasets 2, 3, and 4. Like the other models, dataset one performed poorly, with only a 1% jump in accuracy from the untuned decision tree. The second dataset had an 8% jump in accuracy to get it to 74% accuracy. The third and fourth datasets had 8% and 9% gains in accuracy to boost them to 87% and 90% accuracies in predicting whether the storm is a tropical storm or hurrincane in the 78th hour"
   ]
  },
  {
   "cell_type": "markdown",
   "metadata": {},
   "source": [
    "# XGBoost for df_1, df_2, df_3, df_4"
   ]
  },
  {
   "cell_type": "code",
   "execution_count": 207,
   "metadata": {},
   "outputs": [],
   "source": [
    "from xgboost import XGBClassifier\n",
    "from sklearn.model_selection import GridSearchCV"
   ]
  },
  {
   "cell_type": "code",
   "execution_count": 208,
   "metadata": {},
   "outputs": [],
   "source": [
    "def XGBoost(data, target):\n",
    "    trainX, testX, trainY, testY = train_test_split(data, target, test_size = 0.25, random_state=24)\n",
    "    valX, testX, valY, testY = train_test_split(testX, testY, test_size = 0.5, random_state=24)\n",
    "\n",
    "    parameters = {'max_depth': [1, 5, 10, 100, None], 'reg_lambda': [0.001, 0.01, 0.1, 1, 10]}\n",
    "    model = GridSearchCV(XGBClassifier(n_jobs = -1, eval_metric='logloss', random_state=24), parameters, n_jobs = -1)\n",
    "    print(len(valX), len(valY))\n",
    "    # fit the classifier to the training data\n",
    "    model.fit(trainX, trainY, eval_set = [(valX, valY)])\n",
    "\n",
    "    # predict the labels of the training set\n",
    "    predictedY = model.predict(trainX)\n",
    "\n",
    "    # print quality metrics\n",
    "    print('\\nTraining Classification Report:\\n\\n', classification_report(trainY, predictedY))\n",
    "\n",
    "    # predict the labels of the test set\n",
    "    predictedY = model.predict(testX)\n",
    "\n",
    "    # print quality metrics\n",
    "    print('\\nTesting Classification Report:\\n\\n', classification_report(testY, predictedY))\n",
    "\n",
    "    # predict the labels of the test set\n",
    "    predictedY = model.predict(testX)\n",
    "\n",
    "    print('\\nTesting Confusion Matrix:\\n')\n",
    "\n",
    "    sn.heatmap(confusion_matrix(testY, predictedY), annot=True)\n",
    "    plt.figure()"
   ]
  },
  {
   "cell_type": "code",
   "execution_count": 210,
   "metadata": {},
   "outputs": [
    {
     "name": "stdout",
     "output_type": "stream",
     "text": [
      "43 43\n",
      "[0]\tvalidation_0-logloss:0.65756\n",
      "[1]\tvalidation_0-logloss:0.65402\n",
      "[2]\tvalidation_0-logloss:0.65424\n",
      "[3]\tvalidation_0-logloss:0.65794\n",
      "[4]\tvalidation_0-logloss:0.66018\n",
      "[5]\tvalidation_0-logloss:0.66493\n",
      "[6]\tvalidation_0-logloss:0.66273\n",
      "[7]\tvalidation_0-logloss:0.65889\n",
      "[8]\tvalidation_0-logloss:0.66398\n",
      "[9]\tvalidation_0-logloss:0.66315\n",
      "[10]\tvalidation_0-logloss:0.67106\n",
      "[11]\tvalidation_0-logloss:0.66944\n",
      "[12]\tvalidation_0-logloss:0.66705\n",
      "[13]\tvalidation_0-logloss:0.67163\n",
      "[14]\tvalidation_0-logloss:0.67512\n",
      "[15]\tvalidation_0-logloss:0.68012\n",
      "[16]\tvalidation_0-logloss:0.68316\n",
      "[17]\tvalidation_0-logloss:0.68660\n",
      "[18]\tvalidation_0-logloss:0.68590\n",
      "[19]\tvalidation_0-logloss:0.68980\n",
      "[20]\tvalidation_0-logloss:0.68673\n",
      "[21]\tvalidation_0-logloss:0.68597\n",
      "[22]\tvalidation_0-logloss:0.68477\n",
      "[23]\tvalidation_0-logloss:0.68719\n",
      "[24]\tvalidation_0-logloss:0.68495\n",
      "[25]\tvalidation_0-logloss:0.68814\n",
      "[26]\tvalidation_0-logloss:0.69055\n",
      "[27]\tvalidation_0-logloss:0.69032\n",
      "[28]\tvalidation_0-logloss:0.69073\n",
      "[29]\tvalidation_0-logloss:0.69814\n",
      "[30]\tvalidation_0-logloss:0.69699\n",
      "[31]\tvalidation_0-logloss:0.69664\n",
      "[32]\tvalidation_0-logloss:0.70092\n",
      "[33]\tvalidation_0-logloss:0.70386\n",
      "[34]\tvalidation_0-logloss:0.70142\n",
      "[35]\tvalidation_0-logloss:0.70134\n",
      "[36]\tvalidation_0-logloss:0.70174\n",
      "[37]\tvalidation_0-logloss:0.70466\n",
      "[38]\tvalidation_0-logloss:0.70235\n",
      "[39]\tvalidation_0-logloss:0.70127\n",
      "[40]\tvalidation_0-logloss:0.70096\n",
      "[41]\tvalidation_0-logloss:0.70184\n",
      "[42]\tvalidation_0-logloss:0.70143\n",
      "[43]\tvalidation_0-logloss:0.70170\n",
      "[44]\tvalidation_0-logloss:0.69948\n",
      "[45]\tvalidation_0-logloss:0.69928\n",
      "[46]\tvalidation_0-logloss:0.70460\n",
      "[47]\tvalidation_0-logloss:0.70228\n",
      "[48]\tvalidation_0-logloss:0.70010\n",
      "[49]\tvalidation_0-logloss:0.70306\n",
      "[50]\tvalidation_0-logloss:0.70214\n",
      "[51]\tvalidation_0-logloss:0.70394\n",
      "[52]\tvalidation_0-logloss:0.70299\n",
      "[53]\tvalidation_0-logloss:0.70480\n",
      "[54]\tvalidation_0-logloss:0.70773\n",
      "[55]\tvalidation_0-logloss:0.70559\n",
      "[56]\tvalidation_0-logloss:0.70896\n",
      "[57]\tvalidation_0-logloss:0.70700\n",
      "[58]\tvalidation_0-logloss:0.70724\n",
      "[59]\tvalidation_0-logloss:0.70462\n",
      "[60]\tvalidation_0-logloss:0.70727\n",
      "[61]\tvalidation_0-logloss:0.70532\n",
      "[62]\tvalidation_0-logloss:0.70312\n",
      "[63]\tvalidation_0-logloss:0.70290\n",
      "[64]\tvalidation_0-logloss:0.70334\n",
      "[65]\tvalidation_0-logloss:0.70511\n",
      "[66]\tvalidation_0-logloss:0.70423\n",
      "[67]\tvalidation_0-logloss:0.70848\n",
      "[68]\tvalidation_0-logloss:0.71106\n",
      "[69]\tvalidation_0-logloss:0.71469\n",
      "[70]\tvalidation_0-logloss:0.72100\n",
      "[71]\tvalidation_0-logloss:0.72021\n",
      "[72]\tvalidation_0-logloss:0.72248\n",
      "[73]\tvalidation_0-logloss:0.72222\n",
      "[74]\tvalidation_0-logloss:0.72264\n",
      "[75]\tvalidation_0-logloss:0.72466\n",
      "[76]\tvalidation_0-logloss:0.72303\n",
      "[77]\tvalidation_0-logloss:0.72310\n",
      "[78]\tvalidation_0-logloss:0.71734\n",
      "[79]\tvalidation_0-logloss:0.71708\n",
      "[80]\tvalidation_0-logloss:0.71550\n",
      "[81]\tvalidation_0-logloss:0.71503\n",
      "[82]\tvalidation_0-logloss:0.71543\n",
      "[83]\tvalidation_0-logloss:0.71432\n",
      "[84]\tvalidation_0-logloss:0.71757\n",
      "[85]\tvalidation_0-logloss:0.71852\n",
      "[86]\tvalidation_0-logloss:0.72152\n",
      "[87]\tvalidation_0-logloss:0.71972\n",
      "[88]\tvalidation_0-logloss:0.72232\n",
      "[89]\tvalidation_0-logloss:0.72166\n",
      "[90]\tvalidation_0-logloss:0.72151\n",
      "[91]\tvalidation_0-logloss:0.72192\n",
      "[92]\tvalidation_0-logloss:0.72019\n",
      "[93]\tvalidation_0-logloss:0.71920\n",
      "[94]\tvalidation_0-logloss:0.71961\n",
      "[95]\tvalidation_0-logloss:0.72227\n",
      "[96]\tvalidation_0-logloss:0.72405\n",
      "[97]\tvalidation_0-logloss:0.72308\n",
      "[98]\tvalidation_0-logloss:0.72252\n",
      "[99]\tvalidation_0-logloss:0.72264\n",
      "\n",
      "Training Classification Report:\n",
      "\n",
      "               precision    recall  f1-score   support\n",
      "\n",
      "         0.0       0.81      0.88      0.85       156\n",
      "         1.0       0.79      0.68      0.73       101\n",
      "\n",
      "    accuracy                           0.81       257\n",
      "   macro avg       0.80      0.78      0.79       257\n",
      "weighted avg       0.80      0.81      0.80       257\n",
      "\n",
      "\n",
      "Testing Classification Report:\n",
      "\n",
      "               precision    recall  f1-score   support\n",
      "\n",
      "         0.0       0.55      0.76      0.64        21\n",
      "         1.0       0.64      0.41      0.50        22\n",
      "\n",
      "    accuracy                           0.58        43\n",
      "   macro avg       0.60      0.59      0.57        43\n",
      "weighted avg       0.60      0.58      0.57        43\n",
      "\n",
      "\n",
      "Testing Confusion Matrix:\n",
      "\n"
     ]
    },
    {
     "data": {
      "image/png": "[encoded data removed]",
      "text/plain": [
       "<Figure size 640x480 with 2 Axes>"
      ]
     },
     "metadata": {},
     "output_type": "display_data"
    },
    {
     "data": {
      "text/plain": [
       "<Figure size 640x480 with 0 Axes>"
      ]
     },
     "metadata": {},
     "output_type": "display_data"
    }
   ],
   "source": [
    "XGBoost(data_1, target_1)"
   ]
  },
  {
   "cell_type": "code",
   "execution_count": 211,
   "metadata": {},
   "outputs": [
    {
     "name": "stdout",
     "output_type": "stream",
     "text": [
      "43 43\n",
      "[0]\tvalidation_0-logloss:0.62834\n",
      "[1]\tvalidation_0-logloss:0.61364\n",
      "[2]\tvalidation_0-logloss:0.58625\n",
      "[3]\tvalidation_0-logloss:0.56683\n",
      "[4]\tvalidation_0-logloss:0.56144\n",
      "[5]\tvalidation_0-logloss:0.55484\n",
      "[6]\tvalidation_0-logloss:0.54676\n",
      "[7]\tvalidation_0-logloss:0.54848\n",
      "[8]\tvalidation_0-logloss:0.55301\n",
      "[9]\tvalidation_0-logloss:0.54888\n",
      "[10]\tvalidation_0-logloss:0.55074\n",
      "[11]\tvalidation_0-logloss:0.55199\n",
      "[12]\tvalidation_0-logloss:0.55405\n",
      "[13]\tvalidation_0-logloss:0.55209\n",
      "[14]\tvalidation_0-logloss:0.54756\n",
      "[15]\tvalidation_0-logloss:0.54678\n",
      "[16]\tvalidation_0-logloss:0.54832\n",
      "[17]\tvalidation_0-logloss:0.55077\n",
      "[18]\tvalidation_0-logloss:0.54908\n",
      "[19]\tvalidation_0-logloss:0.54855\n",
      "[20]\tvalidation_0-logloss:0.55010\n",
      "[21]\tvalidation_0-logloss:0.55264\n",
      "[22]\tvalidation_0-logloss:0.55140\n",
      "[23]\tvalidation_0-logloss:0.55075\n",
      "[24]\tvalidation_0-logloss:0.55364\n",
      "[25]\tvalidation_0-logloss:0.55614\n",
      "[26]\tvalidation_0-logloss:0.55521\n",
      "[27]\tvalidation_0-logloss:0.55732\n",
      "[28]\tvalidation_0-logloss:0.55634\n",
      "[29]\tvalidation_0-logloss:0.55568\n",
      "[30]\tvalidation_0-logloss:0.55233\n",
      "[31]\tvalidation_0-logloss:0.55185\n",
      "[32]\tvalidation_0-logloss:0.55419\n",
      "[33]\tvalidation_0-logloss:0.55555\n",
      "[34]\tvalidation_0-logloss:0.55428\n",
      "[35]\tvalidation_0-logloss:0.55307\n",
      "[36]\tvalidation_0-logloss:0.55097\n",
      "[37]\tvalidation_0-logloss:0.55276\n",
      "[38]\tvalidation_0-logloss:0.55422\n",
      "[39]\tvalidation_0-logloss:0.55415\n",
      "[40]\tvalidation_0-logloss:0.55620\n",
      "[41]\tvalidation_0-logloss:0.55597\n",
      "[42]\tvalidation_0-logloss:0.55877\n",
      "[43]\tvalidation_0-logloss:0.55774\n",
      "[44]\tvalidation_0-logloss:0.55768\n",
      "[45]\tvalidation_0-logloss:0.55931\n",
      "[46]\tvalidation_0-logloss:0.56238\n",
      "[47]\tvalidation_0-logloss:0.56130\n",
      "[48]\tvalidation_0-logloss:0.56324\n",
      "[49]\tvalidation_0-logloss:0.56947\n",
      "[50]\tvalidation_0-logloss:0.56873\n",
      "[51]\tvalidation_0-logloss:0.56762\n",
      "[52]\tvalidation_0-logloss:0.56517\n",
      "[53]\tvalidation_0-logloss:0.56442\n",
      "[54]\tvalidation_0-logloss:0.56452\n",
      "[55]\tvalidation_0-logloss:0.56309\n",
      "[56]\tvalidation_0-logloss:0.56468\n",
      "[57]\tvalidation_0-logloss:0.56429\n",
      "[58]\tvalidation_0-logloss:0.56328\n",
      "[59]\tvalidation_0-logloss:0.56626\n",
      "[60]\tvalidation_0-logloss:0.56760\n",
      "[61]\tvalidation_0-logloss:0.56946\n",
      "[62]\tvalidation_0-logloss:0.56709\n",
      "[63]\tvalidation_0-logloss:0.57013\n",
      "[64]\tvalidation_0-logloss:0.56933\n",
      "[65]\tvalidation_0-logloss:0.56935\n",
      "[66]\tvalidation_0-logloss:0.57240\n",
      "[67]\tvalidation_0-logloss:0.57158\n",
      "[68]\tvalidation_0-logloss:0.57366\n",
      "[69]\tvalidation_0-logloss:0.57560\n",
      "[70]\tvalidation_0-logloss:0.57380\n",
      "[71]\tvalidation_0-logloss:0.57531\n",
      "[72]\tvalidation_0-logloss:0.57528\n",
      "[73]\tvalidation_0-logloss:0.57829\n",
      "[74]\tvalidation_0-logloss:0.58357\n",
      "[75]\tvalidation_0-logloss:0.58478\n",
      "[76]\tvalidation_0-logloss:0.58413\n",
      "[77]\tvalidation_0-logloss:0.59068\n",
      "[78]\tvalidation_0-logloss:0.59083\n",
      "[79]\tvalidation_0-logloss:0.58857\n",
      "[80]\tvalidation_0-logloss:0.58746\n",
      "[81]\tvalidation_0-logloss:0.58524\n",
      "[82]\tvalidation_0-logloss:0.58722\n",
      "[83]\tvalidation_0-logloss:0.58689\n",
      "[84]\tvalidation_0-logloss:0.58612\n",
      "[85]\tvalidation_0-logloss:0.58639\n",
      "[86]\tvalidation_0-logloss:0.58667\n",
      "[87]\tvalidation_0-logloss:0.58804\n",
      "[88]\tvalidation_0-logloss:0.58782\n",
      "[89]\tvalidation_0-logloss:0.58885\n",
      "[90]\tvalidation_0-logloss:0.58682\n",
      "[91]\tvalidation_0-logloss:0.58479\n",
      "[92]\tvalidation_0-logloss:0.58337\n",
      "[93]\tvalidation_0-logloss:0.58143\n",
      "[94]\tvalidation_0-logloss:0.58044\n",
      "[95]\tvalidation_0-logloss:0.58194\n",
      "[96]\tvalidation_0-logloss:0.58088\n",
      "[97]\tvalidation_0-logloss:0.58039\n",
      "[98]\tvalidation_0-logloss:0.58330\n",
      "[99]\tvalidation_0-logloss:0.58258\n",
      "\n",
      "Training Classification Report:\n",
      "\n",
      "               precision    recall  f1-score   support\n",
      "\n",
      "         0.0       0.85      0.92      0.88       156\n",
      "         1.0       0.85      0.75      0.80       101\n",
      "\n",
      "    accuracy                           0.85       257\n",
      "   macro avg       0.85      0.83      0.84       257\n",
      "weighted avg       0.85      0.85      0.85       257\n",
      "\n",
      "\n",
      "Testing Classification Report:\n",
      "\n",
      "               precision    recall  f1-score   support\n",
      "\n",
      "         0.0       0.73      0.90      0.81        21\n",
      "         1.0       0.88      0.68      0.77        22\n",
      "\n",
      "    accuracy                           0.79        43\n",
      "   macro avg       0.81      0.79      0.79        43\n",
      "weighted avg       0.81      0.79      0.79        43\n",
      "\n",
      "\n",
      "Testing Confusion Matrix:\n",
      "\n"
     ]
    },
    {
     "data": {
      "image/png": "[encoded data removed]",
      "text/plain": [
       "<Figure size 640x480 with 2 Axes>"
      ]
     },
     "metadata": {},
     "output_type": "display_data"
    },
    {
     "data": {
      "text/plain": [
       "<Figure size 640x480 with 0 Axes>"
      ]
     },
     "metadata": {},
     "output_type": "display_data"
    }
   ],
   "source": [
    "XGBoost(data_2, target_2)"
   ]
  },
  {
   "cell_type": "code",
   "execution_count": 212,
   "metadata": {},
   "outputs": [
    {
     "name": "stdout",
     "output_type": "stream",
     "text": [
      "43 43\n",
      "[0]\tvalidation_0-logloss:0.47504\n",
      "[1]\tvalidation_0-logloss:0.37501\n",
      "[2]\tvalidation_0-logloss:0.29899\n",
      "[3]\tvalidation_0-logloss:0.26101\n",
      "[4]\tvalidation_0-logloss:0.22537\n",
      "[5]\tvalidation_0-logloss:0.21204\n",
      "[6]\tvalidation_0-logloss:0.19008\n",
      "[7]\tvalidation_0-logloss:0.18400\n",
      "[8]\tvalidation_0-logloss:0.18006\n",
      "[9]\tvalidation_0-logloss:0.17228\n",
      "[10]\tvalidation_0-logloss:0.17230\n",
      "[11]\tvalidation_0-logloss:0.16840\n",
      "[12]\tvalidation_0-logloss:0.16735\n",
      "[13]\tvalidation_0-logloss:0.16827\n",
      "[14]\tvalidation_0-logloss:0.16241\n",
      "[15]\tvalidation_0-logloss:0.15515\n",
      "[16]\tvalidation_0-logloss:0.15801\n",
      "[17]\tvalidation_0-logloss:0.15420\n",
      "[18]\tvalidation_0-logloss:0.14691\n",
      "[19]\tvalidation_0-logloss:0.14407\n",
      "[20]\tvalidation_0-logloss:0.14944\n",
      "[21]\tvalidation_0-logloss:0.15076\n",
      "[22]\tvalidation_0-logloss:0.15246\n",
      "[23]\tvalidation_0-logloss:0.15853\n",
      "[24]\tvalidation_0-logloss:0.15763\n",
      "[25]\tvalidation_0-logloss:0.15359\n",
      "[26]\tvalidation_0-logloss:0.15549\n",
      "[27]\tvalidation_0-logloss:0.15944\n",
      "[28]\tvalidation_0-logloss:0.15825\n",
      "[29]\tvalidation_0-logloss:0.15937\n",
      "[30]\tvalidation_0-logloss:0.15988\n",
      "[31]\tvalidation_0-logloss:0.15637\n",
      "[32]\tvalidation_0-logloss:0.15879\n",
      "[33]\tvalidation_0-logloss:0.15906\n",
      "[34]\tvalidation_0-logloss:0.15602\n",
      "[35]\tvalidation_0-logloss:0.15862\n",
      "[36]\tvalidation_0-logloss:0.15679\n",
      "[37]\tvalidation_0-logloss:0.15572\n",
      "[38]\tvalidation_0-logloss:0.15512\n",
      "[39]\tvalidation_0-logloss:0.15091\n",
      "[40]\tvalidation_0-logloss:0.14820\n",
      "[41]\tvalidation_0-logloss:0.14412\n",
      "[42]\tvalidation_0-logloss:0.14540\n",
      "[43]\tvalidation_0-logloss:0.14747\n",
      "[44]\tvalidation_0-logloss:0.14614\n",
      "[45]\tvalidation_0-logloss:0.14424\n",
      "[46]\tvalidation_0-logloss:0.14298\n",
      "[47]\tvalidation_0-logloss:0.14250\n",
      "[48]\tvalidation_0-logloss:0.14479\n",
      "[49]\tvalidation_0-logloss:0.14172\n",
      "[50]\tvalidation_0-logloss:0.14382\n",
      "[51]\tvalidation_0-logloss:0.14319\n",
      "[52]\tvalidation_0-logloss:0.14266\n",
      "[53]\tvalidation_0-logloss:0.14266\n",
      "[54]\tvalidation_0-logloss:0.14164\n",
      "[55]\tvalidation_0-logloss:0.14029\n",
      "[56]\tvalidation_0-logloss:0.14130\n",
      "[57]\tvalidation_0-logloss:0.14315\n",
      "[58]\tvalidation_0-logloss:0.14158\n",
      "[59]\tvalidation_0-logloss:0.14011\n",
      "[60]\tvalidation_0-logloss:0.14193\n",
      "[61]\tvalidation_0-logloss:0.14024\n",
      "[62]\tvalidation_0-logloss:0.14054\n",
      "[63]\tvalidation_0-logloss:0.14029\n",
      "[64]\tvalidation_0-logloss:0.13922\n",
      "[65]\tvalidation_0-logloss:0.13884\n",
      "[66]\tvalidation_0-logloss:0.14010\n",
      "[67]\tvalidation_0-logloss:0.13917\n",
      "[68]\tvalidation_0-logloss:0.13888\n",
      "[69]\tvalidation_0-logloss:0.14051\n",
      "[70]\tvalidation_0-logloss:0.13927\n",
      "[71]\tvalidation_0-logloss:0.13847\n",
      "[72]\tvalidation_0-logloss:0.13843\n",
      "[73]\tvalidation_0-logloss:0.13672\n",
      "[74]\tvalidation_0-logloss:0.13813\n",
      "[75]\tvalidation_0-logloss:0.14053\n",
      "[76]\tvalidation_0-logloss:0.14072\n",
      "[77]\tvalidation_0-logloss:0.14187\n",
      "[78]\tvalidation_0-logloss:0.14284\n",
      "[79]\tvalidation_0-logloss:0.14296\n",
      "[80]\tvalidation_0-logloss:0.14288\n",
      "[81]\tvalidation_0-logloss:0.14238\n",
      "[82]\tvalidation_0-logloss:0.14417\n",
      "[83]\tvalidation_0-logloss:0.14313\n",
      "[84]\tvalidation_0-logloss:0.14210\n",
      "[85]\tvalidation_0-logloss:0.14133\n",
      "[86]\tvalidation_0-logloss:0.14080\n",
      "[87]\tvalidation_0-logloss:0.14002\n",
      "[88]\tvalidation_0-logloss:0.14181\n",
      "[89]\tvalidation_0-logloss:0.14100\n",
      "[90]\tvalidation_0-logloss:0.14013\n",
      "[91]\tvalidation_0-logloss:0.14030\n",
      "[92]\tvalidation_0-logloss:0.14154\n",
      "[93]\tvalidation_0-logloss:0.14087\n",
      "[94]\tvalidation_0-logloss:0.14103\n",
      "[95]\tvalidation_0-logloss:0.14213\n",
      "[96]\tvalidation_0-logloss:0.14059\n",
      "[97]\tvalidation_0-logloss:0.14088\n",
      "[98]\tvalidation_0-logloss:0.14249\n",
      "[99]\tvalidation_0-logloss:0.14305\n",
      "\n",
      "Training Classification Report:\n",
      "\n",
      "               precision    recall  f1-score   support\n",
      "\n",
      "         0.0       1.00      1.00      1.00       156\n",
      "         1.0       1.00      1.00      1.00       101\n",
      "\n",
      "    accuracy                           1.00       257\n",
      "   macro avg       1.00      1.00      1.00       257\n",
      "weighted avg       1.00      1.00      1.00       257\n",
      "\n",
      "\n",
      "Testing Classification Report:\n",
      "\n",
      "               precision    recall  f1-score   support\n",
      "\n",
      "         0.0       0.76      0.90      0.83        21\n",
      "         1.0       0.89      0.73      0.80        22\n",
      "\n",
      "    accuracy                           0.81        43\n",
      "   macro avg       0.82      0.82      0.81        43\n",
      "weighted avg       0.83      0.81      0.81        43\n",
      "\n",
      "\n",
      "Testing Confusion Matrix:\n",
      "\n"
     ]
    },
    {
     "data": {
      "image/png": "[encoded data removed]",
      "text/plain": [
       "<Figure size 640x480 with 2 Axes>"
      ]
     },
     "metadata": {},
     "output_type": "display_data"
    },
    {
     "data": {
      "text/plain": [
       "<Figure size 640x480 with 0 Axes>"
      ]
     },
     "metadata": {},
     "output_type": "display_data"
    }
   ],
   "source": [
    "XGBoost(data_3, target_3)"
   ]
  },
  {
   "cell_type": "code",
   "execution_count": 213,
   "metadata": {},
   "outputs": [
    {
     "name": "stdout",
     "output_type": "stream",
     "text": [
      "43 43\n",
      "[0]\tvalidation_0-logloss:0.47142\n",
      "[1]\tvalidation_0-logloss:0.37111\n",
      "[2]\tvalidation_0-logloss:0.30339\n",
      "[3]\tvalidation_0-logloss:0.26290\n",
      "[4]\tvalidation_0-logloss:0.23688\n",
      "[5]\tvalidation_0-logloss:0.22703\n",
      "[6]\tvalidation_0-logloss:0.21491\n",
      "[7]\tvalidation_0-logloss:0.20277\n",
      "[8]\tvalidation_0-logloss:0.19791\n",
      "[9]\tvalidation_0-logloss:0.19104\n",
      "[10]\tvalidation_0-logloss:0.18433\n",
      "[11]\tvalidation_0-logloss:0.17593\n",
      "[12]\tvalidation_0-logloss:0.17796\n",
      "[13]\tvalidation_0-logloss:0.17411\n",
      "[14]\tvalidation_0-logloss:0.17370\n",
      "[15]\tvalidation_0-logloss:0.17598\n",
      "[16]\tvalidation_0-logloss:0.17809\n",
      "[17]\tvalidation_0-logloss:0.17593\n",
      "[18]\tvalidation_0-logloss:0.17622\n",
      "[19]\tvalidation_0-logloss:0.17297\n",
      "[20]\tvalidation_0-logloss:0.17461\n",
      "[21]\tvalidation_0-logloss:0.16996\n",
      "[22]\tvalidation_0-logloss:0.17025\n",
      "[23]\tvalidation_0-logloss:0.16846\n",
      "[24]\tvalidation_0-logloss:0.17028\n",
      "[25]\tvalidation_0-logloss:0.17646\n",
      "[26]\tvalidation_0-logloss:0.17140\n",
      "[27]\tvalidation_0-logloss:0.16977\n",
      "[28]\tvalidation_0-logloss:0.16996\n",
      "[29]\tvalidation_0-logloss:0.16906\n",
      "[30]\tvalidation_0-logloss:0.17171\n",
      "[31]\tvalidation_0-logloss:0.16794\n",
      "[32]\tvalidation_0-logloss:0.17034\n",
      "[33]\tvalidation_0-logloss:0.17050\n",
      "[34]\tvalidation_0-logloss:0.16625\n",
      "[35]\tvalidation_0-logloss:0.16829\n",
      "[36]\tvalidation_0-logloss:0.17045\n",
      "[37]\tvalidation_0-logloss:0.16695\n",
      "[38]\tvalidation_0-logloss:0.17163\n",
      "[39]\tvalidation_0-logloss:0.16963\n",
      "[40]\tvalidation_0-logloss:0.16700\n",
      "[41]\tvalidation_0-logloss:0.16795\n",
      "[42]\tvalidation_0-logloss:0.16739\n",
      "[43]\tvalidation_0-logloss:0.16927\n",
      "[44]\tvalidation_0-logloss:0.16598\n",
      "[45]\tvalidation_0-logloss:0.16793\n",
      "[46]\tvalidation_0-logloss:0.16457\n",
      "[47]\tvalidation_0-logloss:0.16663\n",
      "[48]\tvalidation_0-logloss:0.16927\n",
      "[49]\tvalidation_0-logloss:0.16613\n",
      "[50]\tvalidation_0-logloss:0.16392\n",
      "[51]\tvalidation_0-logloss:0.16355\n",
      "[52]\tvalidation_0-logloss:0.16322\n",
      "[53]\tvalidation_0-logloss:0.16149\n",
      "[54]\tvalidation_0-logloss:0.16369\n",
      "[55]\tvalidation_0-logloss:0.16263\n",
      "[56]\tvalidation_0-logloss:0.16021\n",
      "[57]\tvalidation_0-logloss:0.15869\n",
      "[58]\tvalidation_0-logloss:0.15737\n",
      "[59]\tvalidation_0-logloss:0.15831\n",
      "[60]\tvalidation_0-logloss:0.15731\n",
      "[61]\tvalidation_0-logloss:0.15548\n",
      "[62]\tvalidation_0-logloss:0.15522\n",
      "[63]\tvalidation_0-logloss:0.15723\n",
      "[64]\tvalidation_0-logloss:0.15906\n",
      "[65]\tvalidation_0-logloss:0.15612\n",
      "[66]\tvalidation_0-logloss:0.15832\n",
      "[67]\tvalidation_0-logloss:0.15710\n",
      "[68]\tvalidation_0-logloss:0.15700\n",
      "[69]\tvalidation_0-logloss:0.15717\n",
      "[70]\tvalidation_0-logloss:0.15618\n",
      "[71]\tvalidation_0-logloss:0.15576\n",
      "[72]\tvalidation_0-logloss:0.15486\n",
      "[73]\tvalidation_0-logloss:0.15843\n",
      "[74]\tvalidation_0-logloss:0.15761\n",
      "[75]\tvalidation_0-logloss:0.15909\n",
      "[76]\tvalidation_0-logloss:0.15744\n",
      "[77]\tvalidation_0-logloss:0.15722\n",
      "[78]\tvalidation_0-logloss:0.15437\n",
      "[79]\tvalidation_0-logloss:0.15320\n",
      "[80]\tvalidation_0-logloss:0.15409\n",
      "[81]\tvalidation_0-logloss:0.15618\n",
      "[82]\tvalidation_0-logloss:0.15619\n",
      "[83]\tvalidation_0-logloss:0.15467\n",
      "[84]\tvalidation_0-logloss:0.15319\n",
      "[85]\tvalidation_0-logloss:0.15267\n",
      "[86]\tvalidation_0-logloss:0.15447\n",
      "[87]\tvalidation_0-logloss:0.15192\n",
      "[88]\tvalidation_0-logloss:0.15334\n",
      "[89]\tvalidation_0-logloss:0.15183\n",
      "[90]\tvalidation_0-logloss:0.15376\n",
      "[91]\tvalidation_0-logloss:0.15242\n",
      "[92]\tvalidation_0-logloss:0.15230\n",
      "[93]\tvalidation_0-logloss:0.15125\n",
      "[94]\tvalidation_0-logloss:0.15024\n",
      "[95]\tvalidation_0-logloss:0.14972\n",
      "[96]\tvalidation_0-logloss:0.15226\n",
      "[97]\tvalidation_0-logloss:0.15156\n",
      "[98]\tvalidation_0-logloss:0.15014\n",
      "[99]\tvalidation_0-logloss:0.15192\n",
      "\n",
      "Training Classification Report:\n",
      "\n",
      "               precision    recall  f1-score   support\n",
      "\n",
      "         0.0       0.97      0.97      0.97       156\n",
      "         1.0       0.96      0.96      0.96       101\n",
      "\n",
      "    accuracy                           0.97       257\n",
      "   macro avg       0.97      0.97      0.97       257\n",
      "weighted avg       0.97      0.97      0.97       257\n",
      "\n",
      "\n",
      "Testing Classification Report:\n",
      "\n",
      "               precision    recall  f1-score   support\n",
      "\n",
      "         0.0       0.86      0.90      0.88        21\n",
      "         1.0       0.90      0.86      0.88        22\n",
      "\n",
      "    accuracy                           0.88        43\n",
      "   macro avg       0.88      0.88      0.88        43\n",
      "weighted avg       0.88      0.88      0.88        43\n",
      "\n",
      "\n",
      "Testing Confusion Matrix:\n",
      "\n"
     ]
    },
    {
     "data": {
      "image/png": "[encoded data removed]",
      "text/plain": [
       "<Figure size 640x480 with 2 Axes>"
      ]
     },
     "metadata": {},
     "output_type": "display_data"
    },
    {
     "data": {
      "text/plain": [
       "<Figure size 640x480 with 0 Axes>"
      ]
     },
     "metadata": {},
     "output_type": "display_data"
    }
   ],
   "source": [
    "XGBoost(data_4, target_4)"
   ]
  },
  {
   "cell_type": "markdown",
   "metadata": {},
   "source": [
    "## In this tuned XGBoost implementation, dataset 1 performed poorly with an accuracy of 58%, dataset 2 with an accuracy of 79%, dataset 3 with an accuracy of 81%, and dataset 4 with an accuracy of 88%. The model using dataset 2 surprised me, with a 2% difference to the model using dataset 3. That being said, the accuracy gap from models 3 and 4 is too large to conclude that dataset 2 or 3 is more useful than dataset 4, as ~90% is better than ~80%."
   ]
  },
  {
   "cell_type": "markdown",
   "metadata": {},
   "source": [
    "# Random Forest df_1, df_2, df_3, df_4"
   ]
  },
  {
   "cell_type": "code",
   "execution_count": 214,
   "metadata": {},
   "outputs": [],
   "source": [
    "from sklearn.ensemble import RandomForestClassifier"
   ]
  },
  {
   "cell_type": "code",
   "execution_count": 221,
   "metadata": {},
   "outputs": [],
   "source": [
    "def RandomForestTuned(data, target):\n",
    "    \n",
    "    trainX, testX, trainY, testY = train_test_split(data, target, test_size=0.25, random_state=24)\n",
    "    \n",
    "    param_grid = {\n",
    "        'n_estimators': [10, 50, 100, 500],  # Number of trees in the forest\n",
    "        'max_depth': [None, 10, 20, 30],     # Maximum depth of the tree\n",
    "        'max_features': ['sqrt', None]  # Number of features to consider at every split\n",
    "    }\n",
    "    \n",
    "    # init the grid search model\n",
    "    model = GridSearchCV(estimator=RandomForestClassifier(n_jobs=-1, random_state=24),\n",
    "                               param_grid=param_grid, cv=5, scoring='accuracy', n_jobs=-1)\n",
    "    \n",
    "    model.fit(trainX, trainY)\n",
    "    \n",
    "    print(f\"Best parameters found: {model.best_params_}\")\n",
    "    print(f\"Best cross-validation score: {model.best_score_:.2f}\")\n",
    "    \n",
    "    # use best model to make predictions\n",
    "    best_model = model.best_estimator_\n",
    "    \n",
    "    # Predict on training set\n",
    "    train_pred = best_model.predict(trainX)\n",
    "    print('\\nTraining Classification Report:\\n', classification_report(trainY, train_pred))\n",
    "    \n",
    "    # Predict on test set\n",
    "    test_pred = best_model.predict(testX)\n",
    "    print('\\nTesting Classification Report:\\n', classification_report(testY, test_pred))\n",
    "    \n",
    "    # Confusion Matrix\n",
    "    print('\\nTesting Confusion Matrix:\\n')\n",
    "    sn.heatmap(confusion_matrix(testY, test_pred), annot=True)\n",
    "    plt.show()"
   ]
  },
  {
   "cell_type": "code",
   "execution_count": 222,
   "metadata": {},
   "outputs": [
    {
     "name": "stdout",
     "output_type": "stream",
     "text": [
      "Best parameters found: {'max_depth': 10, 'max_features': 'sqrt', 'n_estimators': 100}\n",
      "Best cross-validation score: 0.67\n",
      "\n",
      "Training Classification Report:\n",
      "               precision    recall  f1-score   support\n",
      "\n",
      "         0.0       1.00      1.00      1.00       156\n",
      "         1.0       1.00      1.00      1.00       101\n",
      "\n",
      "    accuracy                           1.00       257\n",
      "   macro avg       1.00      1.00      1.00       257\n",
      "weighted avg       1.00      1.00      1.00       257\n",
      "\n",
      "\n",
      "Testing Classification Report:\n",
      "               precision    recall  f1-score   support\n",
      "\n",
      "         0.0       0.57      0.79      0.66        47\n",
      "         1.0       0.52      0.28      0.37        39\n",
      "\n",
      "    accuracy                           0.56        86\n",
      "   macro avg       0.55      0.53      0.51        86\n",
      "weighted avg       0.55      0.56      0.53        86\n",
      "\n",
      "\n",
      "Testing Confusion Matrix:\n",
      "\n"
     ]
    },
    {
     "data": {
      "image/png": "[encoded data removed]",
      "text/plain": [
       "<Figure size 640x480 with 2 Axes>"
      ]
     },
     "metadata": {},
     "output_type": "display_data"
    }
   ],
   "source": [
    "RandomForestTuned(data_1, target_1)"
   ]
  },
  {
   "cell_type": "code",
   "execution_count": 223,
   "metadata": {},
   "outputs": [
    {
     "name": "stdout",
     "output_type": "stream",
     "text": [
      "Best parameters found: {'max_depth': None, 'max_features': 'sqrt', 'n_estimators': 50}\n",
      "Best cross-validation score: 0.77\n",
      "\n",
      "Training Classification Report:\n",
      "               precision    recall  f1-score   support\n",
      "\n",
      "         0.0       1.00      1.00      1.00       156\n",
      "         1.0       1.00      1.00      1.00       101\n",
      "\n",
      "    accuracy                           1.00       257\n",
      "   macro avg       1.00      1.00      1.00       257\n",
      "weighted avg       1.00      1.00      1.00       257\n",
      "\n",
      "\n",
      "Testing Classification Report:\n",
      "               precision    recall  f1-score   support\n",
      "\n",
      "         0.0       0.72      0.87      0.79        47\n",
      "         1.0       0.79      0.59      0.68        39\n",
      "\n",
      "    accuracy                           0.74        86\n",
      "   macro avg       0.76      0.73      0.73        86\n",
      "weighted avg       0.75      0.74      0.74        86\n",
      "\n",
      "\n",
      "Testing Confusion Matrix:\n",
      "\n"
     ]
    },
    {
     "data": {
      "image/png": "[encoded data removed]",
      "text/plain": [
       "<Figure size 640x480 with 2 Axes>"
      ]
     },
     "metadata": {},
     "output_type": "display_data"
    }
   ],
   "source": [
    "RandomForestTuned(data_2, target_2)"
   ]
  },
  {
   "cell_type": "code",
   "execution_count": 224,
   "metadata": {},
   "outputs": [
    {
     "name": "stdout",
     "output_type": "stream",
     "text": [
      "Best parameters found: {'max_depth': None, 'max_features': 'sqrt', 'n_estimators': 50}\n",
      "Best cross-validation score: 0.88\n",
      "\n",
      "Training Classification Report:\n",
      "               precision    recall  f1-score   support\n",
      "\n",
      "         0.0       1.00      1.00      1.00       156\n",
      "         1.0       1.00      1.00      1.00       101\n",
      "\n",
      "    accuracy                           1.00       257\n",
      "   macro avg       1.00      1.00      1.00       257\n",
      "weighted avg       1.00      1.00      1.00       257\n",
      "\n",
      "\n",
      "Testing Classification Report:\n",
      "               precision    recall  f1-score   support\n",
      "\n",
      "         0.0       0.84      0.98      0.90        47\n",
      "         1.0       0.97      0.77      0.86        39\n",
      "\n",
      "    accuracy                           0.88        86\n",
      "   macro avg       0.90      0.87      0.88        86\n",
      "weighted avg       0.90      0.88      0.88        86\n",
      "\n",
      "\n",
      "Testing Confusion Matrix:\n",
      "\n"
     ]
    },
    {
     "data": {
      "image/png": "[encoded data removed]",
      "text/plain": [
       "<Figure size 640x480 with 2 Axes>"
      ]
     },
     "metadata": {},
     "output_type": "display_data"
    }
   ],
   "source": [
    "RandomForestTuned(data_3, target_3)"
   ]
  },
  {
   "cell_type": "code",
   "execution_count": 226,
   "metadata": {},
   "outputs": [
    {
     "name": "stdout",
     "output_type": "stream",
     "text": [
      "Best parameters found: {'max_depth': None, 'max_features': 'sqrt', 'n_estimators': 10}\n",
      "Best cross-validation score: 0.91\n",
      "\n",
      "Training Classification Report:\n",
      "               precision    recall  f1-score   support\n",
      "\n",
      "         0.0       0.99      1.00      1.00       156\n",
      "         1.0       1.00      0.99      1.00       101\n",
      "\n",
      "    accuracy                           1.00       257\n",
      "   macro avg       1.00      1.00      1.00       257\n",
      "weighted avg       1.00      1.00      1.00       257\n",
      "\n",
      "\n",
      "Testing Classification Report:\n",
      "               precision    recall  f1-score   support\n",
      "\n",
      "         0.0       0.86      0.94      0.90        47\n",
      "         1.0       0.91      0.82      0.86        39\n",
      "\n",
      "    accuracy                           0.88        86\n",
      "   macro avg       0.89      0.88      0.88        86\n",
      "weighted avg       0.89      0.88      0.88        86\n",
      "\n",
      "\n",
      "Testing Confusion Matrix:\n",
      "\n"
     ]
    },
    {
     "data": {
      "image/png": "[encoded data removed]",
      "text/plain": [
       "<Figure size 640x480 with 2 Axes>"
      ]
     },
     "metadata": {},
     "output_type": "display_data"
    }
   ],
   "source": [
    "RandomForestTuned(data_4, target_4)"
   ]
  },
  {
   "cell_type": "markdown",
   "metadata": {},
   "source": [
    "## For this implementation of tuned Random Forests, I tuned the hyperparameters for the number of trees in the Forest, the max depth of the trees, and the max features considered at each split. Like all other models, dataset 1 performed the worst with a 56% accuracy. Dataset 2 performed well with a 74% accuracy, and datasets 3 and 4 both had 88% accuracies. The model that is the best at predicting trop storm or hurr in the 78th hour using dataset 3 (hrs [36, 42, 48]) because it is equivalent in overall accuracy to dataset 4, and the earlier chunk gets more overall weight because the initial goal was to find the minimum needed to predict the 78th hour."
   ]
  },
  {
   "cell_type": "markdown",
   "metadata": {},
   "source": [
    "# My decision to include XGBoost and Random Forests was to compare the performance of the boosted vs bagged models. They had similar performances, but XGBoost was better with dataset 2 [18,24,30] and Random Forest was better with dataset 3 [36,42,48]. Given the untuned Decision Tree performed reasonably well, I figured sticking to models using decision trees would provide similarly good results. I was somewhat surprised the bagged and boosted models had roughly equivalent performances to each other and the Decision Tree with Cost Complexity Pruning, as I expected it XGBoost to be better than both."
   ]
  },
  {
   "cell_type": "markdown",
   "metadata": {},
   "source": [
    "# Overall Findings:"
   ]
  },
  {
   "cell_type": "markdown",
   "metadata": {},
   "source": [
    "## The main challenges I found in this project were issues with the dataset. The main predictors for storm categories are wind readings, but this dataset was missing the majority of the wind features were missing data, except for the max windspeed in knots. Due to this, I had to slightly shift my goal to predicting storm types. Also, the minimum pressure column was not introduced until 1975, so I filtered the data to get storms after that year. Because there was so much missing data, I had to cut the dataset down significantly to get clean, usable data. For example, of the 9 storm types found in the base dataset, there was only enough data in the tropical storm and hurricane catetgories, so I was forced to drop all categories except those two. Too combat this massive loss in data, I added distance columns indicating the distance from readings 0->1 and 1->2. Also, I used an API from https://ocean.amentum.io to get ocean depth and salinity from the coordinates of the readings. This particular API was quite slow, with the ~5000 API calls taking around 4 hours to get the data. Becuase of the time taken to run the API calls, I saved the dataset with the remaining features from the dataset, now also including salinity, depth, and distance between readings to a txt file for ease of use. Likewise, the main challenges I found in the models were also due to the constraints of the dataset because of the lack of size after preprocessing the data. There was a relatively good balance between tropical storms and hurricanes present in the data, but it lacked the size to produce truly dependable models."
   ]
  },
  {
   "cell_type": "markdown",
   "metadata": {},
   "source": [
    "| Model                         | df_1 (acc) | df_2 (acc) | df_3 (acc) | df_4 (acc) |\n",
    "|-------------------------------|------------|------------|------------|------------|\n",
    "| Naive Bayes                   | .62        | .45        | .83        | .87        |\n",
    "| Logistic Regression (tuned)   | .58        | .78        | .90        | .90        |\n",
    "| Decision Tree                 | .58        | .66        | .79        | .81        |\n",
    "| Decision Tree (ccp)           | .59        | .74        | .87        | .90        |\n",
    "| XGBoost (tuned)               | .58        | .79        | .81        | .88        |\n",
    "| Random Forest (tuned)         | .56        | .74        | .88        | .88        |\n"
   ]
  },
  {
   "cell_type": "markdown",
   "metadata": {},
   "source": [
    "| Dataset | Accuracy Average |\n",
    "|---------|------------------|\n",
    "| df_1    | .59              |\n",
    "| df_2    | .69              |\n",
    "| df_3    | .85              |\n",
    "| df_4    | .87              |\n"
   ]
  },
  {
   "cell_type": "markdown",
   "metadata": {},
   "source": [
    "### The tuned models (Logistic Regression, Decision Tree with CCP, XGBoost, and Random Forest) all performed better on models with datasets 2-4 than the basic, benchmark models (Naive Bayes and basic Decision Tree). Dataset 1 performed poorly across all models, which is somewhat expected, as 66 hours is a large amount of time to predict ahead given such little data. Datasets 2, 3, and 4 all improved their accuracies from a basic Decision Tree to the Decision Tree with Cost Complexity Pruning, XGBoost, and Random Forest.\n",
    "\n",
    "### Given the accuracies, the best model across all 4 datasets was the tuned Logistic Regression model, and the worst model was the Naive Bayes Classifier.\n",
    "\n",
    "\n",
    "### The average accuracies of models using the four datasets do not mean too much, they just help show the similarities between the performance of models with dataset 3 and dataset 4. \n",
    "\n",
    "\n",
    "\n",
    "## Initial Goal: Finding the minimum number of hours needed to predict whether a storm is a hurricane or tropical storm on hour 78.\n",
    "\n",
    "# Given all the performance data, I conclude that with this dataset, the minimum amount of time needed to predict whether a storm is a tropical storm or hurricane in the 78th hour is 30 hours (dataset 3 = hrs [36, 42, 48]) because the performance was extremely close to dataset 4 (hrs [54, 60, 66]), and it is 18 hours earlier. My thresholds for similarity in accuracy between datasets was ~5% and the minimum accuracy was 75%, so preference was given to a model using an earlier dataset performed within 5% of difference in accuracy to a model using a dataset with later readings. "
   ]
  }
 ],
 "metadata": {
  "kernelspec": {
   "display_name": "Python 3.10.7 64-bit",
   "language": "python",
   "name": "python3"
  },
  "language_info": {
   "codemirror_mode": {
    "name": "ipython",
    "version": 3
   },
   "file_extension": ".py",
   "mimetype": "text/x-python",
   "name": "python",
   "nbconvert_exporter": "python",
   "pygments_lexer": "ipython3",
   "version": "3.10.7"
  },
  "orig_nbformat": 4,
  "vscode": {
   "interpreter": {
    "hash": "c16938967bd6e273b0acb3fddbcc38019f29861258251537fc13097caf9cc4e8"
   }
  }
 },
 "nbformat": 4,
 "nbformat_minor": 2
}
